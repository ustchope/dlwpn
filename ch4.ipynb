{
 "cells": [
  {
   "cell_type": "code",
   "execution_count": 1,
   "id": "resident-turkish",
   "metadata": {},
   "outputs": [
    {
     "name": "stdout",
     "output_type": "stream",
     "text": [
      "time: 4.01 s (started: 2021-07-25 12:04:35 +08:00)\n"
     ]
    }
   ],
   "source": [
    "# 自动计算cell的计算时间\n",
    "%load_ext autotime\n",
    "\n",
    "#设置使用的gpu\n",
    "import tensorflow as tf\n",
    "\n",
    "gpus = tf.config.list_physical_devices(\"GPU\")\n",
    "\n",
    "if gpus:\n",
    "   \n",
    "    gpu0 = gpus[2] #如果有多个GPU，仅使用第0个GPU\n",
    "    tf.config.experimental.set_memory_growth(gpu0, True) #设置GPU显存用量按需使用\n",
    "    # 或者也可以设置GPU显存为固定使用量(例如：4G)\n",
    "    #tf.config.experimental.set_virtual_device_configuration(gpu0,\n",
    "    #    [tf.config.experimental.VirtualDeviceConfiguration(memory_limit=4096)]) \n",
    "    tf.config.set_visible_devices([gpu0],\"GPU\") "
   ]
  },
  {
   "cell_type": "code",
   "execution_count": 2,
   "id": "immediate-waters",
   "metadata": {},
   "outputs": [
    {
     "name": "stdout",
     "output_type": "stream",
     "text": [
      "time: 10.1 ms (started: 2021-07-25 12:04:40 +08:00)\n"
     ]
    }
   ],
   "source": [
    "%config InlineBackend.figure_format='svg' #矢量图设置，让绘图更清晰"
   ]
  },
  {
   "cell_type": "markdown",
   "id": "korean-essex",
   "metadata": {},
   "source": [
    "# 神经网络入门：分类和回归"
   ]
  },
  {
   "cell_type": "markdown",
   "id": "located-welding",
   "metadata": {},
   "source": [
    "> 本章包含\n",
    "* 真实世界机器学习工作流程的第一个示例\n",
    "* 处理矢量数据的分类问题\n",
    "* 处理向量数据上的连续回归问题"
   ]
  },
  {
   "cell_type": "markdown",
   "id": "charitable-sydney",
   "metadata": {},
   "source": [
    "本章旨在帮助您开始使用神经网络解决实际问题。 您将巩固从第 2 章和第 3 章中获得的知识，并将所学应用于三个新任务，涵盖神经网络的三个最常见用例——二元分类、多类分类和标量回归：\n",
    "* 将电影评论分类为正面或负面（二元分类）\n",
    "* 按主题对新闻线进行分类（多类分类）\n",
    "* 给定房地产数据估计房屋价格（标量回归）"
   ]
  },
  {
   "cell_type": "markdown",
   "id": "regulated-opposition",
   "metadata": {},
   "source": [
    "这些示例将是您第一次接触端到端机器学习工作流：您将了解数据预处理、基本模型架构原则和模型评估。\n",
    "\n",
    "到本章结束时，您将能够使用神经网络处理向量数据上的简单分类和回归任务。 然后，您将准备好在第 5 章中开始构建对机器学习的更有原则的、理论驱动的理解。"
   ]
  },
  {
   "cell_type": "markdown",
   "id": "opposed-approval",
   "metadata": {},
   "source": [
    "> 分类和回归词汇表\n",
    "\n",
    "分类和回归涉及许多专业术语。 您已经在前面的示例中遇到过其中的一些，并且您将在以后的章节中看到更多。 它们具有精确的、特定于机器学习的定义，您应该熟悉它们：\n",
    "* 样本或 - 进入模型的一个数据点。 输入\n",
    "* 预测或 - 从您的模型中得出什么结果。 输出\n",
    "* 目标——真相。 根据外部数据源，您的模型理想情况下应该预测的内容。\n",
    "* 预测误差或 — 损失值模型预测与目标之间距离的度量。\n",
    "* Classes - 在分类中可供选择的一组可能的标签\n",
    "* 问题。 例如，在对猫狗图片进行分类时，“狗”和“猫”就是两个类。\n",
    "* 标签 - 分类中类注释的特定实例\n",
    "* 问题。 例如，如果图片 #1234 被注释为包含\n",
    "* 类“狗”，然后“狗”是图片#1234的标签。\n",
    "* Ground-truth 或注释——数据集的所有目标，通常由人类收集。\n",
    "* 二元分类——一个分类任务，其中每个输入样本\n",
    "* 应该归为两个唯一的类别。\n",
    "* 多类分类——一种分类任务，其中每个输入样本应分为两个以上的类别：例如，对手写数字进行分类。\n",
    "* 多标签分类——一种分类任务，其中每个输入样本都可以分配多个标签。例如，给定的图像可能同时包含一只猫和一只狗，并且应该同时使用“猫”标签和“狗”标签进行注释。每个图像的标签数量通常是可变的。\n",
    "* 标量回归——目标是连续标量值的任务。\n",
    "* 预测房价就是一个很好的例子：不同的目标价格形成一个连续的空间。\n",
    "* 向量回归 — 目标是一组连续值的任务：例如，连续向量。如果您对多个值（例如图像中边界框的坐标）进行回归，那么您就是在进行向量回归。\n",
    "* 小批量或 - 由模型同时处理的一小组样本（通常在 8 到 128 之间）。样本数通常是 2 的幂，以方便 GPU 上的内存分配。\n",
    "训练时，小批量用于计算应用于模型权重的单个梯度下降更新。"
   ]
  },
  {
   "cell_type": "markdown",
   "id": "specified-trainer",
   "metadata": {},
   "source": [
    "## 电影评论分类：二元分类示例"
   ]
  },
  {
   "cell_type": "markdown",
   "id": "practical-playing",
   "metadata": {},
   "source": [
    "两类分类或二元分类是最常见的机器学习问题之一。 在此示例中，您将学习根据评论的文本内容将电影评论分为正面或负面。"
   ]
  },
  {
   "cell_type": "markdown",
   "id": "damaged-ministry",
   "metadata": {},
   "source": [
    "### The IMDB dataset"
   ]
  },
  {
   "cell_type": "markdown",
   "id": "suffering-bonus",
   "metadata": {},
   "source": [
    "您将使用 IMDB 数据集：一组来自互联网电影数据库的 50,000 条高度分化的评论。 它们分为 25,000 条用于训练的评论和 25,000 条用于测试的评论，每组包含 50% 的负面评论和 50% 的正面评论。\n",
    "\n",
    "就像 MNIST 数据集一样，IMDB 数据集与 Keras 打包在一起。 它已经过预处理：评论（单词序列）已经变成了整数序列，其中每个整数代表字典中的特定单词。 这使我们能够专注于模型构建、训练和评估。 在第 11 章中，您将学习如何从头开始处理原始文本输入。"
   ]
  },
  {
   "cell_type": "markdown",
   "id": "settled-pavilion",
   "metadata": {},
   "source": [
    "下面的代码将加载数据集（当你第一次运行它时，大约 80 MB 的数据将被下载到你的机器上）。"
   ]
  },
  {
   "cell_type": "code",
   "execution_count": 3,
   "id": "noble-eligibility",
   "metadata": {},
   "outputs": [
    {
     "name": "stdout",
     "output_type": "stream",
     "text": [
      "Downloading data from https://storage.googleapis.com/tensorflow/tf-keras-datasets/imdb.npz\n",
      "17465344/17464789 [==============================] - 22s 1us/step\n"
     ]
    },
    {
     "name": "stderr",
     "output_type": "stream",
     "text": [
      "<__array_function__ internals>:5: VisibleDeprecationWarning: Creating an ndarray from ragged nested sequences (which is a list-or-tuple of lists-or-tuples-or ndarrays with different lengths or shapes) is deprecated. If you meant to do this, you must specify 'dtype=object' when creating the ndarray\n",
      "/public/huangwei/miniconda3/envs/tensorflow/lib/python3.8/site-packages/tensorflow/python/keras/datasets/imdb.py:155: VisibleDeprecationWarning: Creating an ndarray from ragged nested sequences (which is a list-or-tuple of lists-or-tuples-or ndarrays with different lengths or shapes) is deprecated. If you meant to do this, you must specify 'dtype=object' when creating the ndarray\n",
      "  x_train, y_train = np.array(xs[:idx]), np.array(labels[:idx])\n"
     ]
    },
    {
     "name": "stdout",
     "output_type": "stream",
     "text": [
      "time: 29.7 s (started: 2021-07-22 13:53:47 +08:00)\n"
     ]
    },
    {
     "name": "stderr",
     "output_type": "stream",
     "text": [
      "/public/huangwei/miniconda3/envs/tensorflow/lib/python3.8/site-packages/tensorflow/python/keras/datasets/imdb.py:156: VisibleDeprecationWarning: Creating an ndarray from ragged nested sequences (which is a list-or-tuple of lists-or-tuples-or ndarrays with different lengths or shapes) is deprecated. If you meant to do this, you must specify 'dtype=object' when creating the ndarray\n",
      "  x_test, y_test = np.array(xs[idx:]), np.array(labels[idx:])\n"
     ]
    }
   ],
   "source": [
    "from tensorflow.keras.datasets import imdb\n",
    "\n",
    "(train_data, train_labels), (test_data, test_labels) = imdb.load_data(num_words=10000)"
   ]
  },
  {
   "cell_type": "markdown",
   "id": "composed-spotlight",
   "metadata": {},
   "source": [
    "参数 num_words=10000 意味着您将只保留训练数据中出现频率最高的前 10,000 个单词。 生僻字将被丢弃。 这允许您使用可管理大小的矢量数据。 如果我们不设置这个限制，我们将在训练数据中使用 88,585 个唯一词，这会不必要地大。 许多这些词只出现在一个样本中，因此不能有意义地用于分类。"
   ]
  },
  {
   "cell_type": "markdown",
   "id": "short-sailing",
   "metadata": {},
   "source": [
    "变量 train_data test_data 和评论列表； 每个评论都是一个单词索引列表（编码一个单词序列）。 train_labels test_labels 是 0 和 1 的列表，其中 0 代表 1 代表："
   ]
  },
  {
   "cell_type": "code",
   "execution_count": 4,
   "id": "mysterious-deputy",
   "metadata": {},
   "outputs": [
    {
     "data": {
      "text/plain": [
       "[1,\n",
       " 14,\n",
       " 22,\n",
       " 16,\n",
       " 43,\n",
       " 530,\n",
       " 973,\n",
       " 1622,\n",
       " 1385,\n",
       " 65,\n",
       " 458,\n",
       " 4468,\n",
       " 66,\n",
       " 3941,\n",
       " 4,\n",
       " 173,\n",
       " 36,\n",
       " 256,\n",
       " 5,\n",
       " 25,\n",
       " 100,\n",
       " 43,\n",
       " 838,\n",
       " 112,\n",
       " 50,\n",
       " 670,\n",
       " 2,\n",
       " 9,\n",
       " 35,\n",
       " 480,\n",
       " 284,\n",
       " 5,\n",
       " 150,\n",
       " 4,\n",
       " 172,\n",
       " 112,\n",
       " 167,\n",
       " 2,\n",
       " 336,\n",
       " 385,\n",
       " 39,\n",
       " 4,\n",
       " 172,\n",
       " 4536,\n",
       " 1111,\n",
       " 17,\n",
       " 546,\n",
       " 38,\n",
       " 13,\n",
       " 447,\n",
       " 4,\n",
       " 192,\n",
       " 50,\n",
       " 16,\n",
       " 6,\n",
       " 147,\n",
       " 2025,\n",
       " 19,\n",
       " 14,\n",
       " 22,\n",
       " 4,\n",
       " 1920,\n",
       " 4613,\n",
       " 469,\n",
       " 4,\n",
       " 22,\n",
       " 71,\n",
       " 87,\n",
       " 12,\n",
       " 16,\n",
       " 43,\n",
       " 530,\n",
       " 38,\n",
       " 76,\n",
       " 15,\n",
       " 13,\n",
       " 1247,\n",
       " 4,\n",
       " 22,\n",
       " 17,\n",
       " 515,\n",
       " 17,\n",
       " 12,\n",
       " 16,\n",
       " 626,\n",
       " 18,\n",
       " 2,\n",
       " 5,\n",
       " 62,\n",
       " 386,\n",
       " 12,\n",
       " 8,\n",
       " 316,\n",
       " 8,\n",
       " 106,\n",
       " 5,\n",
       " 4,\n",
       " 2223,\n",
       " 5244,\n",
       " 16,\n",
       " 480,\n",
       " 66,\n",
       " 3785,\n",
       " 33,\n",
       " 4,\n",
       " 130,\n",
       " 12,\n",
       " 16,\n",
       " 38,\n",
       " 619,\n",
       " 5,\n",
       " 25,\n",
       " 124,\n",
       " 51,\n",
       " 36,\n",
       " 135,\n",
       " 48,\n",
       " 25,\n",
       " 1415,\n",
       " 33,\n",
       " 6,\n",
       " 22,\n",
       " 12,\n",
       " 215,\n",
       " 28,\n",
       " 77,\n",
       " 52,\n",
       " 5,\n",
       " 14,\n",
       " 407,\n",
       " 16,\n",
       " 82,\n",
       " 2,\n",
       " 8,\n",
       " 4,\n",
       " 107,\n",
       " 117,\n",
       " 5952,\n",
       " 15,\n",
       " 256,\n",
       " 4,\n",
       " 2,\n",
       " 7,\n",
       " 3766,\n",
       " 5,\n",
       " 723,\n",
       " 36,\n",
       " 71,\n",
       " 43,\n",
       " 530,\n",
       " 476,\n",
       " 26,\n",
       " 400,\n",
       " 317,\n",
       " 46,\n",
       " 7,\n",
       " 4,\n",
       " 2,\n",
       " 1029,\n",
       " 13,\n",
       " 104,\n",
       " 88,\n",
       " 4,\n",
       " 381,\n",
       " 15,\n",
       " 297,\n",
       " 98,\n",
       " 32,\n",
       " 2071,\n",
       " 56,\n",
       " 26,\n",
       " 141,\n",
       " 6,\n",
       " 194,\n",
       " 7486,\n",
       " 18,\n",
       " 4,\n",
       " 226,\n",
       " 22,\n",
       " 21,\n",
       " 134,\n",
       " 476,\n",
       " 26,\n",
       " 480,\n",
       " 5,\n",
       " 144,\n",
       " 30,\n",
       " 5535,\n",
       " 18,\n",
       " 51,\n",
       " 36,\n",
       " 28,\n",
       " 224,\n",
       " 92,\n",
       " 25,\n",
       " 104,\n",
       " 4,\n",
       " 226,\n",
       " 65,\n",
       " 16,\n",
       " 38,\n",
       " 1334,\n",
       " 88,\n",
       " 12,\n",
       " 16,\n",
       " 283,\n",
       " 5,\n",
       " 16,\n",
       " 4472,\n",
       " 113,\n",
       " 103,\n",
       " 32,\n",
       " 15,\n",
       " 16,\n",
       " 5345,\n",
       " 19,\n",
       " 178,\n",
       " 32]"
      ]
     },
     "execution_count": 4,
     "metadata": {},
     "output_type": "execute_result"
    },
    {
     "name": "stdout",
     "output_type": "stream",
     "text": [
      "time: 13.3 ms (started: 2021-07-22 15:16:12 +08:00)\n"
     ]
    }
   ],
   "source": [
    "train_data[0]"
   ]
  },
  {
   "cell_type": "code",
   "execution_count": 5,
   "id": "international-plaintiff",
   "metadata": {},
   "outputs": [
    {
     "data": {
      "text/plain": [
       "1"
      ]
     },
     "execution_count": 5,
     "metadata": {},
     "output_type": "execute_result"
    },
    {
     "name": "stdout",
     "output_type": "stream",
     "text": [
      "time: 2.74 ms (started: 2021-07-22 15:16:32 +08:00)\n"
     ]
    }
   ],
   "source": [
    "train_labels[0]"
   ]
  },
  {
   "cell_type": "markdown",
   "id": "norman-ratio",
   "metadata": {},
   "source": [
    "因为您将自己限制在最常用的前 10,000 个单词中，所以没有单词索引会超过 10,000："
   ]
  },
  {
   "cell_type": "code",
   "execution_count": 6,
   "id": "curious-johnson",
   "metadata": {},
   "outputs": [
    {
     "data": {
      "text/plain": [
       "9999"
      ]
     },
     "execution_count": 6,
     "metadata": {},
     "output_type": "execute_result"
    },
    {
     "name": "stdout",
     "output_type": "stream",
     "text": [
      "time: 163 ms (started: 2021-07-22 15:17:33 +08:00)\n"
     ]
    }
   ],
   "source": [
    "max([max(sequence) for sequence in train_data])"
   ]
  },
  {
   "cell_type": "markdown",
   "id": "behavioral-rates",
   "metadata": {},
   "source": [
    "对于踢球，您可以通过以下方法将这些评论之一快速解码回英文单词："
   ]
  },
  {
   "cell_type": "code",
   "execution_count": 8,
   "id": "antique-rebecca",
   "metadata": {},
   "outputs": [
    {
     "name": "stdout",
     "output_type": "stream",
     "text": [
      "Downloading data from https://storage.googleapis.com/tensorflow/tf-keras-datasets/imdb_word_index.json\n",
      "1646592/1641221 [==============================] - 2s 1us/step\n",
      "time: 1.91 s (started: 2021-07-22 15:18:41 +08:00)\n"
     ]
    }
   ],
   "source": [
    "word_index = imdb.get_word_index()"
   ]
  },
  {
   "cell_type": "code",
   "execution_count": 9,
   "id": "practical-adrian",
   "metadata": {},
   "outputs": [
    {
     "name": "stdout",
     "output_type": "stream",
     "text": [
      "time: 56.3 ms (started: 2021-07-22 15:18:57 +08:00)\n"
     ]
    }
   ],
   "source": [
    "reverse_word_index = dict([(value, key) for (key, value) in word_index.items()])"
   ]
  },
  {
   "cell_type": "code",
   "execution_count": 11,
   "id": "young-correlation",
   "metadata": {},
   "outputs": [
    {
     "name": "stdout",
     "output_type": "stream",
     "text": [
      "time: 828 µs (started: 2021-07-22 15:21:47 +08:00)\n"
     ]
    }
   ],
   "source": [
    "# 解码评论。 请注意，索引偏移了 3，因为 0、1 和 2 是“填充”、“序列开始”和“未知”的保留索引。\n",
    "decoded_review = \" \".join([reverse_word_index.get(i - 3, \"?\") for i in train_data[0]])"
   ]
  },
  {
   "cell_type": "markdown",
   "id": "essential-rogers",
   "metadata": {},
   "source": [
    "### 准备数据"
   ]
  },
  {
   "cell_type": "markdown",
   "id": "proof-beach",
   "metadata": {},
   "source": [
    "你不能直接将整数列表输入神经网络。 它们的长度各不相同，但神经网络希望处理连续的批次数据。 你必须把你的列表变成张量。 有两种方法可以做到这一点："
   ]
  },
  {
   "cell_type": "markdown",
   "id": "false-conditions",
   "metadata": {},
   "source": [
    "你不能直接将整数列表输入神经网络。 它们的长度各不相同，但神经网络希望处理连续的批次数据。 你必须把你的列表变成张量。 有两种方法可以做到这一点：\n",
    "* 填充您的列表，使它们都具有相同的长度，然后将它们转换为形状的整数张量（样本，max_length），并以能够处理此类整数张量的层（该层，我们将在其中介绍）开始您的模型 稍后在嵌入本书中详细介绍）。\n",
    "* 多热编码您的列表以将它们转换为 0 和 1 的向量。 这意味着，例如，将序列 [8, 5] 转换为 10,000 维向量，除了索引 8 和 5 为 1 外，该向量全为 0。 然后，您可以使用能够处理浮点矢量数据的 Dense 层作为模型中的第一层。"
   ]
  },
  {
   "cell_type": "markdown",
   "id": "adult-april",
   "metadata": {},
   "source": [
    "让我们使用后一种解决方案来对数据进行矢量化，为了最大程度地清晰，您将手动执行此操作。"
   ]
  },
  {
   "cell_type": "code",
   "execution_count": 16,
   "id": "lonely-explosion",
   "metadata": {},
   "outputs": [
    {
     "name": "stdout",
     "output_type": "stream",
     "text": [
      "time: 415 ms (started: 2021-07-23 14:25:12 +08:00)\n"
     ]
    }
   ],
   "source": [
    "import numpy as np\n",
    "\n",
    "def vectorize_sequences(sequences, dimension=10000):\n",
    "    \n",
    "    #创建一个全零矩阵的形状（len（序列），维度）\n",
    "    results = np.zeros((len(sequences), dimension))\n",
    "    for i, sequence in enumerate(sequences):\n",
    "        for j in sequence:\n",
    "            # 将结果 [i] 的特定索引设置为 1s\n",
    "            results[i, j] = 1.\n",
    "    return results\n",
    "\n",
    "# 矢量化训练数据\n",
    "x_train = vectorize_sequences(train_data)\n",
    "# 矢量化测试数据\n",
    "x_test = vectorize_sequences(test_data)"
   ]
  },
  {
   "cell_type": "markdown",
   "id": "historical-burton",
   "metadata": {},
   "source": [
    "以下是样本现在的样子："
   ]
  },
  {
   "cell_type": "code",
   "execution_count": 14,
   "id": "boolean-offset",
   "metadata": {},
   "outputs": [
    {
     "data": {
      "text/plain": [
       "array([0., 1., 1., ..., 0., 0., 0.])"
      ]
     },
     "execution_count": 14,
     "metadata": {},
     "output_type": "execute_result"
    },
    {
     "name": "stdout",
     "output_type": "stream",
     "text": [
      "time: 2.54 ms (started: 2021-07-22 15:30:17 +08:00)\n"
     ]
    }
   ],
   "source": [
    "x_train[0]"
   ]
  },
  {
   "cell_type": "markdown",
   "id": "robust-innocent",
   "metadata": {},
   "source": [
    "您还应该矢量化您的标签，这很简单："
   ]
  },
  {
   "cell_type": "code",
   "execution_count": 15,
   "id": "aging-pepper",
   "metadata": {},
   "outputs": [
    {
     "name": "stdout",
     "output_type": "stream",
     "text": [
      "time: 1.42 ms (started: 2021-07-22 15:31:05 +08:00)\n"
     ]
    }
   ],
   "source": [
    "y_train = np.asarray(train_labels).astype(\"float32\")\n",
    "y_test = np.asarray(test_labels).astype(\"float32\")"
   ]
  },
  {
   "cell_type": "markdown",
   "id": "certified-astronomy",
   "metadata": {},
   "source": [
    "现在数据已准备好输入神经网络。"
   ]
  },
  {
   "cell_type": "markdown",
   "id": "micro-analysis",
   "metadata": {},
   "source": [
    "### 构建模型"
   ]
  },
  {
   "cell_type": "markdown",
   "id": "emerging-campbell",
   "metadata": {},
   "source": [
    "输入数据是向量，标签是标量（1 和 0）：这是您遇到的最简单的问题设置之一。 在此类问题上表现良好的一种模型是具有激活的密集连接 ( ) 层的普通堆栈。"
   ]
  },
  {
   "cell_type": "markdown",
   "id": "brutal-terror",
   "metadata": {},
   "source": [
    "输入数据是向量，标签是标量（1 和 0）：这是您遇到的最简单的问题设置之一。 在此类问题上表现良好的一种模型是具有 relu 激活的密集连接（dense）层的简单堆栈。"
   ]
  },
  {
   "cell_type": "markdown",
   "id": "close-yacht",
   "metadata": {},
   "source": [
    "关于这样的密集层堆栈，需要做出两个关键的架构决策：\n",
    "* 使用多少层\n",
    "* 每层选择多少个单位"
   ]
  },
  {
   "cell_type": "markdown",
   "id": "fuzzy-fifty",
   "metadata": {},
   "source": [
    "在第 5 章中，您将学习指导您做出这些选择的正式原则。 目前，您必须相信我的以下架构选择：\n",
    "* 两个中间层，每层 16 个单元\n",
    "* 第三层将输出关于当前评论情绪的标量预测"
   ]
  },
  {
   "cell_type": "markdown",
   "id": "premier-reduction",
   "metadata": {},
   "source": [
    "图 4.1 显示了模型的外观。 这是 Keras 实现，类似于您之前看到的 MNIST 示例。"
   ]
  },
  {
   "cell_type": "markdown",
   "id": "authentic-happening",
   "metadata": {},
   "source": [
    "![](https://tva1.sinaimg.cn/large/008i3skNly1gsps2310jnj30hi0pkq3v.jpg)"
   ]
  },
  {
   "cell_type": "code",
   "execution_count": 18,
   "id": "adult-county",
   "metadata": {},
   "outputs": [
    {
     "name": "stdout",
     "output_type": "stream",
     "text": [
      "time: 1.62 s (started: 2021-07-22 15:52:31 +08:00)\n"
     ]
    }
   ],
   "source": [
    "from tensorflow import keras\n",
    "from tensorflow.keras import layers\n",
    "model = keras.Sequential([\n",
    "    layers.Dense(16, activation=\"relu\"),\n",
    "    layers.Dense(16, activation=\"relu\"),\n",
    "    layers.Dense(1, activation=\"sigmoid\")\n",
    "])"
   ]
  },
  {
   "cell_type": "markdown",
   "id": "wound-procedure",
   "metadata": {},
   "source": [
    "传递给每一层的第一个参数是层中的数量：层表示空间的密集单位维数。 您还记得第 2 章和第 3 章中的每个具有激活的层都实现了以下张量密集 relu 操作链："
   ]
  },
  {
   "cell_type": "code",
   "execution_count": null,
   "id": "iraqi-welding",
   "metadata": {},
   "outputs": [],
   "source": [
    "output = relu(dot(input, W) + b)"
   ]
  },
  {
   "cell_type": "markdown",
   "id": "through-snake",
   "metadata": {},
   "source": [
    "有 16 个单位意味着权重矩阵将具有形状 W (input_dimension, 16)：点积与将输入数据投影到 16 维表示空间（然后 W 将添加偏置向量并应用操作）。 您可以直观地将表示空间的 b relu 维数理解为“在学习内部表示时，您允许模型拥有多少自由度”。 拥有更多单元（更高维的表示空间）可以让您的模型学习更复杂的表示，但它会使模型的计算成本更高，并可能导致学习不需要的模式（将提高训练数据性能但不会提高测试数据的性能） 测试数据）。"
   ]
  },
  {
   "cell_type": "markdown",
   "id": "electric-controversy",
   "metadata": {},
   "source": [
    "中间层用作它们的激活函数，最后一层使用 sigmoid relu 激活以输出概率（0 到 1 之间的分数，表示样本有多少可能有目标“1”：评论的可能性有多大 是积极的）。 A（整流线性 relu 单元）是一个函数，旨在将负值归零（见图 4.2），而 sigmoid 将任意值“压缩”到区间中（见图 4.3），输出 [0, 1] 可以解释的东西 作为概率。"
   ]
  },
  {
   "cell_type": "markdown",
   "id": "unavailable-summer",
   "metadata": {},
   "source": [
    "![](https://tva1.sinaimg.cn/large/008i3skNly1gsps6hbncmj30n40req46.jpg)"
   ]
  },
  {
   "cell_type": "markdown",
   "id": "visible-pencil",
   "metadata": {},
   "source": [
    "> 什么是激活函数，为什么需要它们？"
   ]
  },
  {
   "cell_type": "markdown",
   "id": "demographic-raising",
   "metadata": {},
   "source": [
    "如果没有像 relu（也称为 relu 非线性）这样的激活函数，密集层将包含两个线性运算——点积和加法："
   ]
  },
  {
   "cell_type": "code",
   "execution_count": null,
   "id": "interstate-ceremony",
   "metadata": {},
   "outputs": [],
   "source": [
    "output = dot(input, W) + b"
   ]
  },
  {
   "cell_type": "markdown",
   "id": "basic-rotation",
   "metadata": {},
   "source": [
    "因此该层只能学习输入数据的线性变换（仿射变换）：该层的假设空间将是输入数据到 16 维空间的所有可能线性变换的集合。 这样的假设空间太受限制，不会从多层表示中受益，因为深度堆叠的线性层仍然会实现线性操作：添加更多层不会扩展假设空间（如您在第 2 章中看到的） ."
   ]
  },
  {
   "cell_type": "markdown",
   "id": "elegant-guinea",
   "metadata": {},
   "source": [
    "为了获得更丰富的假设空间，\n",
    "从深度表示中受益，您需要非线性或激活函数。 relu是深度学习中最流行的激活函数，但是relu还有很多其他的候选函数，它们都有类似奇怪的名字：prelu、elu等等。"
   ]
  },
  {
   "cell_type": "markdown",
   "id": "superior-motorcycle",
   "metadata": {},
   "source": [
    "最后，您需要选择一个损失函数和一个优化器。 因为您面临二元分类问题，并且模型的输出是概率（您以具有 sigmoid 激活的单单元层结束模型），所以最好使用 binary_crossentropy 损失。 这不是唯一可行的选择：例如，您可以使用 mean_squared_error。 但是当您处理输出概率的模型时，交叉熵通常是最佳选择。 交叉熵是来自信息论领域的一个量，用于测量概率分布之间的距离，或者在这种情况下，真实分布与预测之间的距离。"
   ]
  },
  {
   "cell_type": "markdown",
   "id": "organized-worse",
   "metadata": {},
   "source": [
    "至于优化器的选择，我们将使用 rmsprop，对于几乎任何问题，这通常是一个很好的默认 rmsprop 选择。"
   ]
  },
  {
   "cell_type": "markdown",
   "id": "hawaiian-metallic",
   "metadata": {},
   "source": [
    "这是使用 rmsprop 优化器和 binary_crossentropy 损失函数配置模型的步骤。 请注意，您还将在训练期间监控准确性。"
   ]
  },
  {
   "cell_type": "code",
   "execution_count": 19,
   "id": "naked-mixture",
   "metadata": {},
   "outputs": [
    {
     "name": "stdout",
     "output_type": "stream",
     "text": [
      "time: 25.1 ms (started: 2021-07-22 16:01:22 +08:00)\n"
     ]
    }
   ],
   "source": [
    "model.compile(optimizer=\"rmsprop\",\n",
    "              loss=\"binary_crossentropy\",\n",
    "              metrics=[\"accuracy\"])"
   ]
  },
  {
   "cell_type": "markdown",
   "id": "corporate-checkout",
   "metadata": {},
   "source": [
    "### 验证您的方法"
   ]
  },
  {
   "cell_type": "markdown",
   "id": "ignored-visiting",
   "metadata": {},
   "source": [
    "正如您在第 3 章中了解到的，永远不应根据其训练数据评估深度学习模型——标准做法是在训练期间使用“验证集”来监控模型的准确性。 在这里，您将通过从原始训练数据中分离出 10,000 个样本来创建验证集。"
   ]
  },
  {
   "cell_type": "code",
   "execution_count": 21,
   "id": "increased-chinese",
   "metadata": {},
   "outputs": [
    {
     "name": "stdout",
     "output_type": "stream",
     "text": [
      "time: 855 µs (started: 2021-07-22 16:50:45 +08:00)\n"
     ]
    }
   ],
   "source": [
    "x_val = x_train[:10000]\n",
    "partial_x_train = x_train[10000:]\n",
    "y_val = y_train[:10000]\n",
    "partial_y_train = y_train[10000:]"
   ]
  },
  {
   "cell_type": "markdown",
   "id": "arbitrary-pursuit",
   "metadata": {},
   "source": [
    "您现在将以 512 个样本的小批量训练模型 20 个时期（对训练数据中的所有样本进行 20 次迭代）。 同时，您将监控您分开的 10,000 个样本的损失和准确度。 您可以通过将验证数据作为validation_data 参数传递来实现。"
   ]
  },
  {
   "cell_type": "code",
   "execution_count": 22,
   "id": "former-article",
   "metadata": {},
   "outputs": [
    {
     "name": "stdout",
     "output_type": "stream",
     "text": [
      "Epoch 1/20\n",
      "30/30 [==============================] - 5s 53ms/step - loss: 0.5269 - accuracy: 0.7865 - val_loss: 0.4028 - val_accuracy: 0.8706\n",
      "Epoch 2/20\n",
      "30/30 [==============================] - 1s 27ms/step - loss: 0.3201 - accuracy: 0.9016 - val_loss: 0.3389 - val_accuracy: 0.8661\n",
      "Epoch 3/20\n",
      "30/30 [==============================] - 1s 28ms/step - loss: 0.2304 - accuracy: 0.9266 - val_loss: 0.2801 - val_accuracy: 0.8920\n",
      "Epoch 4/20\n",
      "30/30 [==============================] - 1s 25ms/step - loss: 0.1812 - accuracy: 0.9407 - val_loss: 0.2883 - val_accuracy: 0.8838\n",
      "Epoch 5/20\n",
      "30/30 [==============================] - 1s 26ms/step - loss: 0.1488 - accuracy: 0.9508 - val_loss: 0.2799 - val_accuracy: 0.8872\n",
      "Epoch 6/20\n",
      "30/30 [==============================] - 1s 26ms/step - loss: 0.1238 - accuracy: 0.9616 - val_loss: 0.2994 - val_accuracy: 0.8824\n",
      "Epoch 7/20\n",
      "30/30 [==============================] - 1s 28ms/step - loss: 0.1016 - accuracy: 0.9701 - val_loss: 0.3057 - val_accuracy: 0.8825\n",
      "Epoch 8/20\n",
      "30/30 [==============================] - 1s 33ms/step - loss: 0.0867 - accuracy: 0.9737 - val_loss: 0.3261 - val_accuracy: 0.8809\n",
      "Epoch 9/20\n",
      "30/30 [==============================] - 1s 29ms/step - loss: 0.0696 - accuracy: 0.9805 - val_loss: 0.3576 - val_accuracy: 0.8775\n",
      "Epoch 10/20\n",
      "30/30 [==============================] - 1s 30ms/step - loss: 0.0593 - accuracy: 0.9845 - val_loss: 0.3746 - val_accuracy: 0.8778\n",
      "Epoch 11/20\n",
      "30/30 [==============================] - 1s 28ms/step - loss: 0.0484 - accuracy: 0.9872 - val_loss: 0.3965 - val_accuracy: 0.8779\n",
      "Epoch 12/20\n",
      "30/30 [==============================] - 1s 28ms/step - loss: 0.0405 - accuracy: 0.9902 - val_loss: 0.4314 - val_accuracy: 0.8756\n",
      "Epoch 13/20\n",
      "30/30 [==============================] - 1s 28ms/step - loss: 0.0314 - accuracy: 0.9932 - val_loss: 0.4697 - val_accuracy: 0.8747\n",
      "Epoch 14/20\n",
      "30/30 [==============================] - 1s 30ms/step - loss: 0.0283 - accuracy: 0.9936 - val_loss: 0.4857 - val_accuracy: 0.8736\n",
      "Epoch 15/20\n",
      "30/30 [==============================] - 1s 27ms/step - loss: 0.0201 - accuracy: 0.9968 - val_loss: 0.5159 - val_accuracy: 0.8705\n",
      "Epoch 16/20\n",
      "30/30 [==============================] - 1s 28ms/step - loss: 0.0161 - accuracy: 0.9975 - val_loss: 0.5533 - val_accuracy: 0.8714\n",
      "Epoch 17/20\n",
      "30/30 [==============================] - 1s 29ms/step - loss: 0.0152 - accuracy: 0.9967 - val_loss: 0.5912 - val_accuracy: 0.8692\n",
      "Epoch 18/20\n",
      "30/30 [==============================] - 1s 25ms/step - loss: 0.0104 - accuracy: 0.9985 - val_loss: 0.6199 - val_accuracy: 0.8676\n",
      "Epoch 19/20\n",
      "30/30 [==============================] - 1s 24ms/step - loss: 0.0081 - accuracy: 0.9989 - val_loss: 0.6577 - val_accuracy: 0.8673\n",
      "Epoch 20/20\n",
      "30/30 [==============================] - 1s 28ms/step - loss: 0.0049 - accuracy: 0.9999 - val_loss: 0.7015 - val_accuracy: 0.8670\n",
      "time: 21.8 s (started: 2021-07-22 16:51:39 +08:00)\n"
     ]
    }
   ],
   "source": [
    "history = model.fit(partial_x_train,\n",
    "                    partial_y_train,\n",
    "                    epochs=20,\n",
    "                    batch_size=512,\n",
    "                    validation_data=(x_val, y_val))"
   ]
  },
  {
   "cell_type": "markdown",
   "id": "noble-entertainment",
   "metadata": {},
   "source": [
    "在 CPU 上，这将花费每个 epoch 不到 2 秒的时间——训练在 20 秒内结束。 在每个 epoch 结束时，模型会在 10,000 个验证数据样本上计算其损失和准确度，因此会有轻微的停顿。"
   ]
  },
  {
   "cell_type": "markdown",
   "id": "searching-dispute",
   "metadata": {},
   "source": [
    "请注意，调用 model.fit() 返回一个 History 对象，正如您在第 3 章中看到的那样。该对象有一个成员 ，它是一个字典，其中包含有关训练期间发生的所有历史数据的数据。 让我们来看看："
   ]
  },
  {
   "cell_type": "code",
   "execution_count": 23,
   "id": "going-retreat",
   "metadata": {},
   "outputs": [
    {
     "name": "stdout",
     "output_type": "stream",
     "text": [
      "time: 453 µs (started: 2021-07-22 16:54:56 +08:00)\n"
     ]
    }
   ],
   "source": [
    "history_dict = history.history"
   ]
  },
  {
   "cell_type": "code",
   "execution_count": 24,
   "id": "accomplished-identity",
   "metadata": {},
   "outputs": [
    {
     "data": {
      "text/plain": [
       "dict_keys(['loss', 'accuracy', 'val_loss', 'val_accuracy'])"
      ]
     },
     "execution_count": 24,
     "metadata": {},
     "output_type": "execute_result"
    },
    {
     "name": "stdout",
     "output_type": "stream",
     "text": [
      "time: 2.38 ms (started: 2021-07-22 16:55:08 +08:00)\n"
     ]
    }
   ],
   "source": [
    "history_dict.keys()"
   ]
  },
  {
   "cell_type": "code",
   "execution_count": 27,
   "id": "bronze-taste",
   "metadata": {},
   "outputs": [
    {
     "name": "stdout",
     "output_type": "stream",
     "text": [
      "time: 461 µs (started: 2021-07-22 16:55:41 +08:00)\n"
     ]
    }
   ],
   "source": [
    "import pandas as pd"
   ]
  },
  {
   "cell_type": "code",
   "execution_count": 34,
   "id": "empirical-karma",
   "metadata": {},
   "outputs": [
    {
     "data": {
      "text/plain": [
       "{'loss': [0.526863694190979,\n",
       "  0.320054292678833,\n",
       "  0.23038016259670258,\n",
       "  0.18120521306991577,\n",
       "  0.14881940186023712,\n",
       "  0.12377016246318817,\n",
       "  0.10163230448961258,\n",
       "  0.08668980002403259,\n",
       "  0.06957581639289856,\n",
       "  0.05931144952774048,\n",
       "  0.04841609671711922,\n",
       "  0.040512919425964355,\n",
       "  0.03139404579997063,\n",
       "  0.028269965201616287,\n",
       "  0.020131245255470276,\n",
       "  0.01613525114953518,\n",
       "  0.015231958590447903,\n",
       "  0.010360080748796463,\n",
       "  0.008133160881698132,\n",
       "  0.0048561799339950085],\n",
       " 'accuracy': [0.7865333557128906,\n",
       "  0.9016000032424927,\n",
       "  0.9265999794006348,\n",
       "  0.9407333135604858,\n",
       "  0.9508000016212463,\n",
       "  0.9616000056266785,\n",
       "  0.9701333045959473,\n",
       "  0.9737333059310913,\n",
       "  0.9804666638374329,\n",
       "  0.9844666719436646,\n",
       "  0.9872000217437744,\n",
       "  0.9901999831199646,\n",
       "  0.9932000041007996,\n",
       "  0.9936000108718872,\n",
       "  0.9968000054359436,\n",
       "  0.9974666833877563,\n",
       "  0.9967333078384399,\n",
       "  0.998533308506012,\n",
       "  0.9988666772842407,\n",
       "  0.9998666644096375],\n",
       " 'val_loss': [0.4028334617614746,\n",
       "  0.338904470205307,\n",
       "  0.28012749552726746,\n",
       "  0.2882697582244873,\n",
       "  0.27992376685142517,\n",
       "  0.299434632062912,\n",
       "  0.3056628704071045,\n",
       "  0.32607725262641907,\n",
       "  0.3576413094997406,\n",
       "  0.3746439218521118,\n",
       "  0.39645692706108093,\n",
       "  0.4313766658306122,\n",
       "  0.46967315673828125,\n",
       "  0.48573145270347595,\n",
       "  0.5158823132514954,\n",
       "  0.5533170700073242,\n",
       "  0.5912437438964844,\n",
       "  0.6199294924736023,\n",
       "  0.6577344536781311,\n",
       "  0.7014950513839722],\n",
       " 'val_accuracy': [0.8705999851226807,\n",
       "  0.866100013256073,\n",
       "  0.8920000195503235,\n",
       "  0.8838000297546387,\n",
       "  0.8871999979019165,\n",
       "  0.8823999762535095,\n",
       "  0.8824999928474426,\n",
       "  0.8809000253677368,\n",
       "  0.8774999976158142,\n",
       "  0.8777999877929688,\n",
       "  0.8779000043869019,\n",
       "  0.8755999803543091,\n",
       "  0.8747000098228455,\n",
       "  0.8736000061035156,\n",
       "  0.8705000281333923,\n",
       "  0.871399998664856,\n",
       "  0.8691999912261963,\n",
       "  0.8676000237464905,\n",
       "  0.8672999739646912,\n",
       "  0.8669999837875366]}"
      ]
     },
     "execution_count": 34,
     "metadata": {},
     "output_type": "execute_result"
    },
    {
     "name": "stdout",
     "output_type": "stream",
     "text": [
      "time: 2.48 ms (started: 2021-07-22 16:56:40 +08:00)\n"
     ]
    }
   ],
   "source": [
    "history.history"
   ]
  },
  {
   "cell_type": "code",
   "execution_count": 35,
   "id": "waiting-anthony",
   "metadata": {},
   "outputs": [
    {
     "data": {
      "text/html": [
       "<div>\n",
       "<style scoped>\n",
       "    .dataframe tbody tr th:only-of-type {\n",
       "        vertical-align: middle;\n",
       "    }\n",
       "\n",
       "    .dataframe tbody tr th {\n",
       "        vertical-align: top;\n",
       "    }\n",
       "\n",
       "    .dataframe thead th {\n",
       "        text-align: right;\n",
       "    }\n",
       "</style>\n",
       "<table border=\"1\" class=\"dataframe\">\n",
       "  <thead>\n",
       "    <tr style=\"text-align: right;\">\n",
       "      <th></th>\n",
       "      <th>loss</th>\n",
       "      <th>accuracy</th>\n",
       "      <th>val_loss</th>\n",
       "      <th>val_accuracy</th>\n",
       "    </tr>\n",
       "  </thead>\n",
       "  <tbody>\n",
       "    <tr>\n",
       "      <th>0</th>\n",
       "      <td>0.526864</td>\n",
       "      <td>0.786533</td>\n",
       "      <td>0.402833</td>\n",
       "      <td>0.8706</td>\n",
       "    </tr>\n",
       "    <tr>\n",
       "      <th>1</th>\n",
       "      <td>0.320054</td>\n",
       "      <td>0.901600</td>\n",
       "      <td>0.338904</td>\n",
       "      <td>0.8661</td>\n",
       "    </tr>\n",
       "    <tr>\n",
       "      <th>2</th>\n",
       "      <td>0.230380</td>\n",
       "      <td>0.926600</td>\n",
       "      <td>0.280127</td>\n",
       "      <td>0.8920</td>\n",
       "    </tr>\n",
       "    <tr>\n",
       "      <th>3</th>\n",
       "      <td>0.181205</td>\n",
       "      <td>0.940733</td>\n",
       "      <td>0.288270</td>\n",
       "      <td>0.8838</td>\n",
       "    </tr>\n",
       "    <tr>\n",
       "      <th>4</th>\n",
       "      <td>0.148819</td>\n",
       "      <td>0.950800</td>\n",
       "      <td>0.279924</td>\n",
       "      <td>0.8872</td>\n",
       "    </tr>\n",
       "    <tr>\n",
       "      <th>5</th>\n",
       "      <td>0.123770</td>\n",
       "      <td>0.961600</td>\n",
       "      <td>0.299435</td>\n",
       "      <td>0.8824</td>\n",
       "    </tr>\n",
       "    <tr>\n",
       "      <th>6</th>\n",
       "      <td>0.101632</td>\n",
       "      <td>0.970133</td>\n",
       "      <td>0.305663</td>\n",
       "      <td>0.8825</td>\n",
       "    </tr>\n",
       "    <tr>\n",
       "      <th>7</th>\n",
       "      <td>0.086690</td>\n",
       "      <td>0.973733</td>\n",
       "      <td>0.326077</td>\n",
       "      <td>0.8809</td>\n",
       "    </tr>\n",
       "    <tr>\n",
       "      <th>8</th>\n",
       "      <td>0.069576</td>\n",
       "      <td>0.980467</td>\n",
       "      <td>0.357641</td>\n",
       "      <td>0.8775</td>\n",
       "    </tr>\n",
       "    <tr>\n",
       "      <th>9</th>\n",
       "      <td>0.059311</td>\n",
       "      <td>0.984467</td>\n",
       "      <td>0.374644</td>\n",
       "      <td>0.8778</td>\n",
       "    </tr>\n",
       "    <tr>\n",
       "      <th>10</th>\n",
       "      <td>0.048416</td>\n",
       "      <td>0.987200</td>\n",
       "      <td>0.396457</td>\n",
       "      <td>0.8779</td>\n",
       "    </tr>\n",
       "    <tr>\n",
       "      <th>11</th>\n",
       "      <td>0.040513</td>\n",
       "      <td>0.990200</td>\n",
       "      <td>0.431377</td>\n",
       "      <td>0.8756</td>\n",
       "    </tr>\n",
       "    <tr>\n",
       "      <th>12</th>\n",
       "      <td>0.031394</td>\n",
       "      <td>0.993200</td>\n",
       "      <td>0.469673</td>\n",
       "      <td>0.8747</td>\n",
       "    </tr>\n",
       "    <tr>\n",
       "      <th>13</th>\n",
       "      <td>0.028270</td>\n",
       "      <td>0.993600</td>\n",
       "      <td>0.485731</td>\n",
       "      <td>0.8736</td>\n",
       "    </tr>\n",
       "    <tr>\n",
       "      <th>14</th>\n",
       "      <td>0.020131</td>\n",
       "      <td>0.996800</td>\n",
       "      <td>0.515882</td>\n",
       "      <td>0.8705</td>\n",
       "    </tr>\n",
       "    <tr>\n",
       "      <th>15</th>\n",
       "      <td>0.016135</td>\n",
       "      <td>0.997467</td>\n",
       "      <td>0.553317</td>\n",
       "      <td>0.8714</td>\n",
       "    </tr>\n",
       "    <tr>\n",
       "      <th>16</th>\n",
       "      <td>0.015232</td>\n",
       "      <td>0.996733</td>\n",
       "      <td>0.591244</td>\n",
       "      <td>0.8692</td>\n",
       "    </tr>\n",
       "    <tr>\n",
       "      <th>17</th>\n",
       "      <td>0.010360</td>\n",
       "      <td>0.998533</td>\n",
       "      <td>0.619929</td>\n",
       "      <td>0.8676</td>\n",
       "    </tr>\n",
       "    <tr>\n",
       "      <th>18</th>\n",
       "      <td>0.008133</td>\n",
       "      <td>0.998867</td>\n",
       "      <td>0.657734</td>\n",
       "      <td>0.8673</td>\n",
       "    </tr>\n",
       "    <tr>\n",
       "      <th>19</th>\n",
       "      <td>0.004856</td>\n",
       "      <td>0.999867</td>\n",
       "      <td>0.701495</td>\n",
       "      <td>0.8670</td>\n",
       "    </tr>\n",
       "  </tbody>\n",
       "</table>\n",
       "</div>"
      ],
      "text/plain": [
       "        loss  accuracy  val_loss  val_accuracy\n",
       "0   0.526864  0.786533  0.402833        0.8706\n",
       "1   0.320054  0.901600  0.338904        0.8661\n",
       "2   0.230380  0.926600  0.280127        0.8920\n",
       "3   0.181205  0.940733  0.288270        0.8838\n",
       "4   0.148819  0.950800  0.279924        0.8872\n",
       "5   0.123770  0.961600  0.299435        0.8824\n",
       "6   0.101632  0.970133  0.305663        0.8825\n",
       "7   0.086690  0.973733  0.326077        0.8809\n",
       "8   0.069576  0.980467  0.357641        0.8775\n",
       "9   0.059311  0.984467  0.374644        0.8778\n",
       "10  0.048416  0.987200  0.396457        0.8779\n",
       "11  0.040513  0.990200  0.431377        0.8756\n",
       "12  0.031394  0.993200  0.469673        0.8747\n",
       "13  0.028270  0.993600  0.485731        0.8736\n",
       "14  0.020131  0.996800  0.515882        0.8705\n",
       "15  0.016135  0.997467  0.553317        0.8714\n",
       "16  0.015232  0.996733  0.591244        0.8692\n",
       "17  0.010360  0.998533  0.619929        0.8676\n",
       "18  0.008133  0.998867  0.657734        0.8673\n",
       "19  0.004856  0.999867  0.701495        0.8670"
      ]
     },
     "execution_count": 35,
     "metadata": {},
     "output_type": "execute_result"
    },
    {
     "name": "stdout",
     "output_type": "stream",
     "text": [
      "time: 13.9 ms (started: 2021-07-22 16:56:50 +08:00)\n"
     ]
    }
   ],
   "source": [
    "pd.DataFrame(history.history)"
   ]
  },
  {
   "cell_type": "markdown",
   "id": "regional-delivery",
   "metadata": {},
   "source": [
    "该字典包含四个条目：每个在训练和验证期间被监控的指标一个。 在以下两个清单中，让我们使用 Matplotlib 并排绘制训练和验证损失（见图 4.4），以及训练和验证准确度（见图 4.5）。 请注意，由于模型的随机初始化不同，您自己的结果可能会略有不同。"
   ]
  },
  {
   "cell_type": "code",
   "execution_count": 36,
   "id": "persistent-cooperation",
   "metadata": {},
   "outputs": [
    {
     "data": {
      "image/png": "[encoded data removed]",
      "text/plain": [
       "<Figure size 432x288 with 1 Axes>"
      ]
     },
     "metadata": {
      "needs_background": "light"
     },
     "output_type": "display_data"
    },
    {
     "name": "stdout",
     "output_type": "stream",
     "text": [
      "time: 766 ms (started: 2021-07-22 17:00:12 +08:00)\n"
     ]
    }
   ],
   "source": [
    "import matplotlib.pyplot as plt\n",
    "history_dict = history.history\n",
    "loss_values = history_dict[\"loss\"]\n",
    "val_loss_values = history_dict[\"val_loss\"]\n",
    "epochs = range(1, len(loss_values) + 1)\n",
    "plt.plot(epochs, loss_values, \"bo\", label=\"Training loss\")\n",
    "plt.plot(epochs, val_loss_values, \"b\", label=\"Validation loss\")\n",
    "plt.title(\"Training and validation loss\")\n",
    "plt.xlabel(\"Epochs\")\n",
    "plt.ylabel(\"Loss\")\n",
    "plt.legend()\n",
    "plt.show()"
   ]
  },
  {
   "cell_type": "code",
   "execution_count": 37,
   "id": "satellite-crash",
   "metadata": {},
   "outputs": [
    {
     "data": {
      "image/png": "[encoded data removed]",
      "text/plain": [
       "<Figure size 432x288 with 1 Axes>"
      ]
     },
     "metadata": {
      "needs_background": "light"
     },
     "output_type": "display_data"
    },
    {
     "name": "stdout",
     "output_type": "stream",
     "text": [
      "time: 733 ms (started: 2021-07-22 17:05:35 +08:00)\n"
     ]
    }
   ],
   "source": [
    "plt.clf()\n",
    "acc = history_dict[\"accuracy\"]\n",
    "val_acc = history_dict[\"val_accuracy\"]\n",
    "plt.plot(epochs, acc, \"bo\", label=\"Training acc\")\n",
    "plt.plot(epochs, val_acc, \"b\", label=\"Validation acc\")\n",
    "plt.title(\"Training and validation accuracy\")\n",
    "plt.xlabel(\"Epochs\")\n",
    "plt.ylabel(\"Accuracy\")\n",
    "plt.legend()\n",
    "plt.show()"
   ]
  },
  {
   "cell_type": "markdown",
   "id": "psychological-daniel",
   "metadata": {},
   "source": [
    "如您所见，训练损失随着每个 epoch 减少，而训练准确度随着每个 epoch 增加。 这就是您在运行梯度下降优化时所期望的——每次迭代时您试图最小化的数量应该更少。 但是塔\n",
    "验证损失和准确性并非如此：它们似乎在第四个时期达到顶峰。 这是我们之前警告过的一个例子：在训练数据上表现更好的模型不一定是在以前从未见过的数据上表现更好的模型。 准确地说，您所看到的是：在第四个时期之后，您对训练过度拟合数据进行了过度优化，并且最终学习了特定于训练数据的表示，并且不会泛化到外部数据 训练集。"
   ]
  },
  {
   "cell_type": "markdown",
   "id": "revolutionary-commerce",
   "metadata": {},
   "source": [
    "在这种情况下，为了防止过度拟合，您可以在四个 epoch 后停止训练。 一般来说，您可以使用一系列技术来减轻过拟合，我们将在第 5 章中介绍。"
   ]
  },
  {
   "cell_type": "markdown",
   "id": "determined-hamilton",
   "metadata": {},
   "source": [
    "让我们从头开始训练一个新模型四个时期，然后在测试数据上对其进行评估。"
   ]
  },
  {
   "cell_type": "code",
   "execution_count": 38,
   "id": "typical-suspect",
   "metadata": {},
   "outputs": [
    {
     "name": "stdout",
     "output_type": "stream",
     "text": [
      "Epoch 1/4\n",
      "49/49 [==============================] - 2s 19ms/step - loss: 0.4582 - accuracy: 0.8286\n",
      "Epoch 2/4\n",
      "49/49 [==============================] - 1s 19ms/step - loss: 0.2603 - accuracy: 0.9104\n",
      "Epoch 3/4\n",
      "49/49 [==============================] - 1s 15ms/step - loss: 0.2027 - accuracy: 0.9285\n",
      "Epoch 4/4\n",
      "49/49 [==============================] - 1s 15ms/step - loss: 0.1701 - accuracy: 0.9403\n"
     ]
    },
    {
     "data": {
      "text/plain": [
       "<tensorflow.python.keras.callbacks.History at 0x7f5784a67970>"
      ]
     },
     "execution_count": 38,
     "metadata": {},
     "output_type": "execute_result"
    },
    {
     "name": "stdout",
     "output_type": "stream",
     "text": [
      "time: 5.59 s (started: 2021-07-22 17:08:49 +08:00)\n"
     ]
    }
   ],
   "source": [
    "model = keras.Sequential([\n",
    "    layers.Dense(16, activation=\"relu\"),\n",
    "    layers.Dense(16, activation=\"relu\"),\n",
    "    layers.Dense(1, activation=\"sigmoid\")\n",
    "])\n",
    "\n",
    "model.compile(optimizer=\"rmsprop\",\n",
    "              loss=\"binary_crossentropy\",\n",
    "              metrics=[\"accuracy\"])\n",
    "\n",
    "model.fit(x_train, y_train, epochs=4, batch_size=512)"
   ]
  },
  {
   "cell_type": "code",
   "execution_count": 39,
   "id": "macro-spirit",
   "metadata": {},
   "outputs": [
    {
     "name": "stdout",
     "output_type": "stream",
     "text": [
      "782/782 [==============================] - 6s 7ms/step - loss: 0.2982 - accuracy: 0.8807\n",
      "time: 7.26 s (started: 2021-07-22 17:08:57 +08:00)\n"
     ]
    }
   ],
   "source": [
    "results = model.evaluate(x_test, y_test)"
   ]
  },
  {
   "cell_type": "markdown",
   "id": "compatible-strap",
   "metadata": {},
   "source": [
    "最终结果如下："
   ]
  },
  {
   "cell_type": "code",
   "execution_count": 40,
   "id": "grave-command",
   "metadata": {},
   "outputs": [
    {
     "data": {
      "text/plain": [
       "[0.29824867844581604, 0.8806800246238708]"
      ]
     },
     "execution_count": 40,
     "metadata": {},
     "output_type": "execute_result"
    },
    {
     "name": "stdout",
     "output_type": "stream",
     "text": [
      "time: 2.86 ms (started: 2021-07-22 17:09:43 +08:00)\n"
     ]
    }
   ],
   "source": [
    "results"
   ]
  },
  {
   "cell_type": "markdown",
   "id": "taken-philadelphia",
   "metadata": {},
   "source": [
    "第一个数字 0.29 是测试损失，第二个数字 0.88 是测试精度。"
   ]
  },
  {
   "cell_type": "markdown",
   "id": "delayed-brooklyn",
   "metadata": {},
   "source": [
    "这种相当幼稚的方法达到了 88% 的准确率。 使用最先进的方法，您应该能够接近 95%。"
   ]
  },
  {
   "cell_type": "markdown",
   "id": "animated-network",
   "metadata": {},
   "source": [
    "### 使用经过训练的模型对新数据进行预测"
   ]
  },
  {
   "cell_type": "markdown",
   "id": "improved-laptop",
   "metadata": {},
   "source": [
    "训练模型后，您将希望在实际环境中使用它。 您可以使用该方法生成正面评价的可能性，正如您在第 3 章预测中学到的："
   ]
  },
  {
   "cell_type": "code",
   "execution_count": 42,
   "id": "fewer-donna",
   "metadata": {},
   "outputs": [
    {
     "data": {
      "text/plain": [
       "array([[0.2246211 ],\n",
       "       [0.9999509 ],\n",
       "       [0.9513612 ],\n",
       "       ...,\n",
       "       [0.17931864],\n",
       "       [0.09724324],\n",
       "       [0.7526973 ]], dtype=float32)"
      ]
     },
     "execution_count": 42,
     "metadata": {},
     "output_type": "execute_result"
    },
    {
     "name": "stdout",
     "output_type": "stream",
     "text": [
      "time: 4.12 s (started: 2021-07-22 17:12:19 +08:00)\n"
     ]
    }
   ],
   "source": [
    "model.predict(x_test)"
   ]
  },
  {
   "cell_type": "markdown",
   "id": "friendly-passport",
   "metadata": {},
   "source": [
    "如您所见，该模型对某些样本（0.99 或更多，或 0.01 或更少）有信心，但对其他样本（0.6、0.4）的信心较低。"
   ]
  },
  {
   "cell_type": "markdown",
   "id": "helpful-paintball",
   "metadata": {},
   "source": [
    "### 进一步的实验"
   ]
  },
  {
   "cell_type": "markdown",
   "id": "removable-response",
   "metadata": {},
   "source": [
    "以下实验将帮助您相信您所做的架构选择都是相当合理的，尽管仍有改进的空间：\n",
    "* 您在最终分类层之前使用了两个表示层。 尝试使用一到三个表示层，看看这样做会如何影响验证和测试准确性。\n",
    "* 尝试使用具有更多单位或更少单位的图层：32 个单位、64 个单位等。\n",
    "* 尝试使用mse损失函数而不是binary_crossentropy。\n",
    "* 尝试使用tanh激活（一种在神经网络早期流行的激活）而不是 relu。"
   ]
  },
  {
   "cell_type": "markdown",
   "id": "varied-metropolitan",
   "metadata": {},
   "source": [
    "### 包起来"
   ]
  },
  {
   "cell_type": "markdown",
   "id": "innovative-debut",
   "metadata": {},
   "source": [
    "以下是你应该从这个例子中学到的东西：\n",
    "* 您通常需要对原始数据进行大量预处理，以便能够将其作为张量输入到神经网络中。单词序列可以编码为二进制向量，但也有其他编码选项。\n",
    "* 带有激活的堆叠层可以解决广泛的问题（包括情感分类），您可能会经常使用它们。\n",
    "* 在二元分类问题（两个输出类）中，您的模型应该以一个带有一个单元和一个激活的 Dense 层结束：模型的输出应该是 sigmoid 一个介于 0 和 1 之间的标量，编码概率。\n",
    "* 在二元分类问题上有这样一个标量 sigmoid 输出，你应该使用的损失函数是 binary_crossentropy。\n",
    "* rmsprop 优化器通常是一个足够好的选择，无论您遇到什么问题。这是您不必担心的一件事。\n",
    "* 随着他们在训练数据上变得更好，神经网络最终开始过度拟合，并最终在他们以前从未见过的数据上获得越来越糟糕的结果。确保始终监控训练集之外数据的性能。"
   ]
  },
  {
   "cell_type": "markdown",
   "id": "alternate-carpet",
   "metadata": {},
   "source": [
    "## 新闻专线分类：多类分类示例"
   ]
  },
  {
   "cell_type": "markdown",
   "id": "thorough-young",
   "metadata": {},
   "source": [
    "在上一节中，您看到了如何使用密集连接的神经网络将向量输入分类为两个互斥的类别。 但是当你有两个以上的类时会发生什么？\n",
    "\n",
    "在本节中，您将构建一个模型，将 Reuters 新闻专线分为 46 个相互排斥的主题。 因为你有很多类，这个问题是多类分类的一个实例； 并且因为每个数据点应该只归入一个类别，所以问题更具体地说是单标签多类分类的一个实例。 如果每个数据点可以属于多个类别（在本例中为主题），您将面临多标签多类别分类问题。"
   ]
  },
  {
   "cell_type": "markdown",
   "id": "communist-romance",
   "metadata": {},
   "source": [
    "### 路透社数据集"
   ]
  },
  {
   "cell_type": "markdown",
   "id": "renewable-qatar",
   "metadata": {},
   "source": [
    "您将使用 Reuters 数据集，这是一组简短的新闻专线及其主题，由 Reuters 于 1986 年发布。这是一个简单、广泛使用的文本分类玩具数据集。 有46个不同的主题； 有些主题比其他主题更具代表性，但每个主题在训练集中至少有 10 个示例。\n",
    "\n",
    "与 IMDB 和 MNIST 一样，路透社数据集打包为 Keras 的一部分。 让我们来看看。"
   ]
  },
  {
   "cell_type": "code",
   "execution_count": 9,
   "id": "legendary-iceland",
   "metadata": {},
   "outputs": [
    {
     "name": "stdout",
     "output_type": "stream",
     "text": [
      "time: 768 ms (started: 2021-07-23 14:24:27 +08:00)\n"
     ]
    }
   ],
   "source": [
    "from tensorflow.keras.datasets import reuters\n",
    "\n",
    "(train_data, train_labels), (test_data, test_labels) = reuters.load_data(num_words=10000)"
   ]
  },
  {
   "cell_type": "markdown",
   "id": "swiss-leader",
   "metadata": {},
   "source": [
    "与 IMDB 数据集一样，参数 num_words=10000 将数据限制为数据中最常出现的 10,000 个单词。 \n",
    "\n",
    "您有 8,982 个训练示例和 2,246 个测试示例："
   ]
  },
  {
   "cell_type": "code",
   "execution_count": 10,
   "id": "average-promotion",
   "metadata": {},
   "outputs": [
    {
     "data": {
      "text/plain": [
       "8982"
      ]
     },
     "execution_count": 10,
     "metadata": {},
     "output_type": "execute_result"
    },
    {
     "name": "stdout",
     "output_type": "stream",
     "text": [
      "time: 3.24 ms (started: 2021-07-23 14:24:31 +08:00)\n"
     ]
    }
   ],
   "source": [
    "len(train_data)"
   ]
  },
  {
   "cell_type": "code",
   "execution_count": 11,
   "id": "subject-despite",
   "metadata": {},
   "outputs": [
    {
     "data": {
      "text/plain": [
       "2246"
      ]
     },
     "execution_count": 11,
     "metadata": {},
     "output_type": "execute_result"
    },
    {
     "name": "stdout",
     "output_type": "stream",
     "text": [
      "time: 2.58 ms (started: 2021-07-23 14:24:33 +08:00)\n"
     ]
    }
   ],
   "source": [
    "len(test_data)"
   ]
  },
  {
   "cell_type": "markdown",
   "id": "revised-gossip",
   "metadata": {},
   "source": [
    "与 IMDB 评论一样，每个示例都是一个整数列表（单词索引）："
   ]
  },
  {
   "cell_type": "code",
   "execution_count": 12,
   "id": "efficient-embassy",
   "metadata": {},
   "outputs": [
    {
     "data": {
      "text/plain": [
       "[1,\n",
       " 245,\n",
       " 273,\n",
       " 207,\n",
       " 156,\n",
       " 53,\n",
       " 74,\n",
       " 160,\n",
       " 26,\n",
       " 14,\n",
       " 46,\n",
       " 296,\n",
       " 26,\n",
       " 39,\n",
       " 74,\n",
       " 2979,\n",
       " 3554,\n",
       " 14,\n",
       " 46,\n",
       " 4689,\n",
       " 4329,\n",
       " 86,\n",
       " 61,\n",
       " 3499,\n",
       " 4795,\n",
       " 14,\n",
       " 61,\n",
       " 451,\n",
       " 4329,\n",
       " 17,\n",
       " 12]"
      ]
     },
     "execution_count": 12,
     "metadata": {},
     "output_type": "execute_result"
    },
    {
     "name": "stdout",
     "output_type": "stream",
     "text": [
      "time: 3.26 ms (started: 2021-07-23 14:24:35 +08:00)\n"
     ]
    }
   ],
   "source": [
    "train_data[10]"
   ]
  },
  {
   "cell_type": "markdown",
   "id": "binding-jersey",
   "metadata": {},
   "source": [
    "如果您感到好奇，您可以通过以下方法将其解码为文字。"
   ]
  },
  {
   "cell_type": "code",
   "execution_count": 13,
   "id": "united-publicity",
   "metadata": {},
   "outputs": [
    {
     "name": "stdout",
     "output_type": "stream",
     "text": [
      "time: 221 ms (started: 2021-07-23 14:24:38 +08:00)\n"
     ]
    }
   ],
   "source": [
    "word_index = reuters.get_word_index()\n",
    "reverse_word_index = dict([(value, key) for (key, value) in word_index.items()])\n",
    "decoded_newswire = \" \".join([reverse_word_index.get(i - 3, \"?\") for i in train_data[0]])"
   ]
  },
  {
   "cell_type": "code",
   "execution_count": 14,
   "id": "conservative-cedar",
   "metadata": {},
   "outputs": [
    {
     "data": {
      "text/plain": [
       "'? ? ? said as a result of its december acquisition of space co it expects earnings per share in 1987 of 1 15 to 1 30 dlrs per share up from 70 cts in 1986 the company said pretax net should rise to nine to 10 mln dlrs from six mln dlrs in 1986 and rental operation revenues to 19 to 22 mln dlrs from 12 5 mln dlrs it said cash flow per share this year should be 2 50 to three dlrs reuter 3'"
      ]
     },
     "execution_count": 14,
     "metadata": {},
     "output_type": "execute_result"
    },
    {
     "name": "stdout",
     "output_type": "stream",
     "text": [
      "time: 2.68 ms (started: 2021-07-23 14:24:40 +08:00)\n"
     ]
    }
   ],
   "source": [
    "decoded_newswire"
   ]
  },
  {
   "cell_type": "markdown",
   "id": "gentle-connection",
   "metadata": {},
   "source": [
    "> 请注意，索引偏移了 3，因为 0、1 和 2 是“填充”、“序列开始”和“未知”的保留索引。"
   ]
  },
  {
   "cell_type": "markdown",
   "id": "affected-housing",
   "metadata": {},
   "source": [
    "与示例关联的标签是 0 到 45 之间的整数——主题索引："
   ]
  },
  {
   "cell_type": "code",
   "execution_count": 15,
   "id": "detected-edward",
   "metadata": {},
   "outputs": [
    {
     "data": {
      "text/plain": [
       "3"
      ]
     },
     "execution_count": 15,
     "metadata": {},
     "output_type": "execute_result"
    },
    {
     "name": "stdout",
     "output_type": "stream",
     "text": [
      "time: 2.07 ms (started: 2021-07-23 14:24:42 +08:00)\n"
     ]
    }
   ],
   "source": [
    "train_labels[10]"
   ]
  },
  {
   "cell_type": "markdown",
   "id": "agreed-plate",
   "metadata": {},
   "source": [
    "### 准备数据"
   ]
  },
  {
   "cell_type": "markdown",
   "id": "outer-canvas",
   "metadata": {},
   "source": [
    "您可以使用与前一个示例完全相同的代码对数据进行矢量化。"
   ]
  },
  {
   "cell_type": "code",
   "execution_count": 17,
   "id": "least-entrepreneur",
   "metadata": {},
   "outputs": [
    {
     "name": "stdout",
     "output_type": "stream",
     "text": [
      "time: 509 ms (started: 2021-07-23 14:25:16 +08:00)\n"
     ]
    }
   ],
   "source": [
    "x_train = vectorize_sequences(train_data)\n",
    "x_test = vectorize_sequences(test_data)"
   ]
  },
  {
   "cell_type": "code",
   "execution_count": 19,
   "id": "coral-airport",
   "metadata": {},
   "outputs": [
    {
     "data": {
      "text/plain": [
       "(8982, 10000)"
      ]
     },
     "execution_count": 19,
     "metadata": {},
     "output_type": "execute_result"
    },
    {
     "name": "stdout",
     "output_type": "stream",
     "text": [
      "time: 2.6 ms (started: 2021-07-23 14:25:29 +08:00)\n"
     ]
    }
   ],
   "source": [
    "x_train.shape"
   ]
  },
  {
   "cell_type": "code",
   "execution_count": 21,
   "id": "amateur-watson",
   "metadata": {},
   "outputs": [
    {
     "data": {
      "text/plain": [
       "(8982,)"
      ]
     },
     "execution_count": 21,
     "metadata": {},
     "output_type": "execute_result"
    },
    {
     "name": "stdout",
     "output_type": "stream",
     "text": [
      "time: 2.17 ms (started: 2021-07-23 14:25:50 +08:00)\n"
     ]
    }
   ],
   "source": [
    "train_data.shape"
   ]
  },
  {
   "cell_type": "markdown",
   "id": "athletic-martin",
   "metadata": {},
   "source": [
    "要矢量化标签，有两种可能性：您可以将标签列表转换为整数张量，或者您可以使用单热编码。 One-hot encoding 是一种广泛使用的分类数据格式，也称为分类编码。 有关 one-hot 编码的更详细说明，请参阅第 4.1.2 节。 在这种情况下，标签的单热编码包括将每个标签嵌入为一个全零向量，标签索引位置为 1。 下面是一个例子："
   ]
  },
  {
   "cell_type": "code",
   "execution_count": 22,
   "id": "atlantic-valuation",
   "metadata": {},
   "outputs": [
    {
     "name": "stdout",
     "output_type": "stream",
     "text": [
      "time: 4.59 ms (started: 2021-07-23 14:28:00 +08:00)\n"
     ]
    }
   ],
   "source": [
    "def to_one_hot(labels, dimension=46):\n",
    "    results = np.zeros((len(labels), dimension))\n",
    "    for i, label in enumerate(labels):\n",
    "        results[i, label] = 1.\n",
    "    return results\n",
    "\n",
    "y_train = to_one_hot(train_labels)\n",
    "y_test = to_one_hot(test_labels)"
   ]
  },
  {
   "cell_type": "markdown",
   "id": "prescription-modification",
   "metadata": {},
   "source": [
    "请注意，在 Keras 中有一种内置的方法可以做到这一点："
   ]
  },
  {
   "cell_type": "code",
   "execution_count": 23,
   "id": "robust-kitchen",
   "metadata": {},
   "outputs": [
    {
     "name": "stdout",
     "output_type": "stream",
     "text": [
      "time: 1.63 ms (started: 2021-07-23 14:30:49 +08:00)\n"
     ]
    }
   ],
   "source": [
    "from tensorflow.keras.utils import to_categorical\n",
    "y_train = to_categorical(train_labels)\n",
    "y_test = to_categorical(test_labels)"
   ]
  },
  {
   "cell_type": "markdown",
   "id": "lucky-karma",
   "metadata": {},
   "source": [
    "### 构建模型"
   ]
  },
  {
   "cell_type": "markdown",
   "id": "cloudy-great",
   "metadata": {},
   "source": [
    "这个主题分类问题看起来类似于之前的电影评论分类问题：在这两种情况下，您都在尝试对短文本片段进行分类。 但是这里有一个新的约束：输出类的数量从 2 到 46。输出空间的维度要大得多。\n",
    "\n",
    "在您一直使用的一堆层中，每一层只能访问存在于前一层输出中的密集信息。 如果一层丢掉了一些与分类问题相关的信息，那么后面的层就永远无法恢复这些信息：每一层都可能成为信息瓶颈。 在前面的示例中，您使用了 16 维中间层，但 16 维空间可能太有限，无法学习分离 46 个不同的类：这样的小层可能会成为信息瓶颈，永久丢弃相关信息。"
   ]
  },
  {
   "cell_type": "markdown",
   "id": "dominant-investigation",
   "metadata": {},
   "source": [
    "出于这个原因，您将使用更大的层。 让我们用 64 个单位。"
   ]
  },
  {
   "cell_type": "code",
   "execution_count": 27,
   "id": "global-tournament",
   "metadata": {},
   "outputs": [
    {
     "name": "stdout",
     "output_type": "stream",
     "text": [
      "time: 541 µs (started: 2021-07-23 14:39:02 +08:00)\n"
     ]
    }
   ],
   "source": [
    "from tensorflow import keras\n",
    "from tensorflow.keras import layers"
   ]
  },
  {
   "cell_type": "code",
   "execution_count": 28,
   "id": "chinese-teddy",
   "metadata": {},
   "outputs": [
    {
     "name": "stdout",
     "output_type": "stream",
     "text": [
      "time: 1.55 s (started: 2021-07-23 14:39:03 +08:00)\n"
     ]
    }
   ],
   "source": [
    "model = keras.Sequential([\n",
    "    layers.Dense(64, activation=\"relu\"),\n",
    "    layers.Dense(64, activation=\"relu\"),\n",
    "    layers.Dense(46, activation=\"softmax\")\n",
    "])"
   ]
  },
  {
   "cell_type": "markdown",
   "id": "needed-yeast",
   "metadata": {},
   "source": [
    "关于此架构，您还应该注意另外两件事：\n",
    "\n",
    "您以大小为 46 的层结束模型。这意味着对于每个输入样本，网络 Dense 将输出一个 46 维向量。 此向量中的每个条目（每个维度）都将编码不同的输出类。"
   ]
  },
  {
   "cell_type": "markdown",
   "id": "varied-bones",
   "metadata": {},
   "source": [
    "最后一层使用激活。 您在 MNIST 示例中看到了这种模式。 这意味着 softmax 模型将输出 46 个不同输出类的概率分布——对于每个输入样本，模型将产生一个 46 维的输出向量，其中 是样本属于第 i 类的 output[i] 概率。 46 分总和为 1。"
   ]
  },
  {
   "cell_type": "markdown",
   "id": "eligible-dayton",
   "metadata": {},
   "source": [
    "在这种情况下使用的最佳损失函数是 categorical_crossentropy。 它测量两个概率分布之间的距离：这里是模型输出的概率分布与标签的真实分布之间的距离。 通过最小化这两个分布之间的距离，您可以训练模型输出尽可能接近真实标签的内容。"
   ]
  },
  {
   "cell_type": "code",
   "execution_count": 29,
   "id": "ethical-insured",
   "metadata": {},
   "outputs": [
    {
     "name": "stdout",
     "output_type": "stream",
     "text": [
      "time: 13.5 ms (started: 2021-07-23 14:54:36 +08:00)\n"
     ]
    }
   ],
   "source": [
    "model.compile(optimizer=\"rmsprop\",\n",
    "              loss=\"categorical_crossentropy\",\n",
    "              metrics=[\"accuracy\"])"
   ]
  },
  {
   "cell_type": "markdown",
   "id": "occupied-disaster",
   "metadata": {},
   "source": [
    "### 验证您的方法"
   ]
  },
  {
   "cell_type": "markdown",
   "id": "signal-track",
   "metadata": {},
   "source": [
    "让我们在训练数据中分离出 1,000 个样本用作验证集。"
   ]
  },
  {
   "cell_type": "code",
   "execution_count": 30,
   "id": "consistent-medium",
   "metadata": {},
   "outputs": [
    {
     "name": "stdout",
     "output_type": "stream",
     "text": [
      "time: 1.49 ms (started: 2021-07-23 15:50:28 +08:00)\n"
     ]
    }
   ],
   "source": [
    "x_val = x_train[:1000]\n",
    "partial_x_train = x_train[1000:]\n",
    "y_val = y_train[:1000]\n",
    "partial_y_train = y_train[1000:]"
   ]
  },
  {
   "cell_type": "markdown",
   "id": "infectious-office",
   "metadata": {},
   "source": [
    "现在，让我们训练模型 20 个周期。"
   ]
  },
  {
   "cell_type": "code",
   "execution_count": 32,
   "id": "incorporate-german",
   "metadata": {},
   "outputs": [
    {
     "name": "stdout",
     "output_type": "stream",
     "text": [
      "Epoch 1/20\n",
      "16/16 [==============================] - 3s 46ms/step - loss: 2.6299 - accuracy: 0.5482 - val_loss: 1.7317 - val_accuracy: 0.6480\n",
      "Epoch 2/20\n",
      "16/16 [==============================] - 0s 25ms/step - loss: 1.3951 - accuracy: 0.7085 - val_loss: 1.3009 - val_accuracy: 0.7100\n",
      "Epoch 3/20\n",
      "16/16 [==============================] - 0s 25ms/step - loss: 1.0199 - accuracy: 0.7820 - val_loss: 1.1186 - val_accuracy: 0.7630\n",
      "Epoch 4/20\n",
      "16/16 [==============================] - 0s 26ms/step - loss: 0.7993 - accuracy: 0.8295 - val_loss: 1.0542 - val_accuracy: 0.7670\n",
      "Epoch 5/20\n",
      "16/16 [==============================] - 0s 29ms/step - loss: 0.6398 - accuracy: 0.8629 - val_loss: 0.9707 - val_accuracy: 0.8100\n",
      "Epoch 6/20\n",
      "16/16 [==============================] - 0s 27ms/step - loss: 0.5150 - accuracy: 0.8915 - val_loss: 0.9248 - val_accuracy: 0.8110\n",
      "Epoch 7/20\n",
      "16/16 [==============================] - 0s 26ms/step - loss: 0.4156 - accuracy: 0.9136 - val_loss: 0.9284 - val_accuracy: 0.8140\n",
      "Epoch 8/20\n",
      "16/16 [==============================] - 0s 23ms/step - loss: 0.3416 - accuracy: 0.9270 - val_loss: 0.9294 - val_accuracy: 0.8040\n",
      "Epoch 9/20\n",
      "16/16 [==============================] - 0s 23ms/step - loss: 0.2814 - accuracy: 0.9375 - val_loss: 0.9317 - val_accuracy: 0.8050\n",
      "Epoch 10/20\n",
      "16/16 [==============================] - 0s 23ms/step - loss: 0.2384 - accuracy: 0.9445 - val_loss: 0.9568 - val_accuracy: 0.8200\n",
      "Epoch 11/20\n",
      "16/16 [==============================] - 0s 24ms/step - loss: 0.2084 - accuracy: 0.9489 - val_loss: 0.9440 - val_accuracy: 0.8190\n",
      "Epoch 12/20\n",
      "16/16 [==============================] - 0s 25ms/step - loss: 0.1821 - accuracy: 0.9521 - val_loss: 0.9730 - val_accuracy: 0.8000\n",
      "Epoch 13/20\n",
      "16/16 [==============================] - 0s 23ms/step - loss: 0.1688 - accuracy: 0.9515 - val_loss: 0.9698 - val_accuracy: 0.8140\n",
      "Epoch 14/20\n",
      "16/16 [==============================] - 0s 24ms/step - loss: 0.1496 - accuracy: 0.9546 - val_loss: 0.9929 - val_accuracy: 0.8140\n",
      "Epoch 15/20\n",
      "16/16 [==============================] - 0s 23ms/step - loss: 0.1403 - accuracy: 0.9558 - val_loss: 1.0212 - val_accuracy: 0.8070\n",
      "Epoch 16/20\n",
      "16/16 [==============================] - 0s 23ms/step - loss: 0.1309 - accuracy: 0.9565 - val_loss: 1.0357 - val_accuracy: 0.8120\n",
      "Epoch 17/20\n",
      "16/16 [==============================] - 0s 24ms/step - loss: 0.1274 - accuracy: 0.9562 - val_loss: 1.0408 - val_accuracy: 0.8080\n",
      "Epoch 18/20\n",
      "16/16 [==============================] - 0s 27ms/step - loss: 0.1225 - accuracy: 0.9559 - val_loss: 1.0483 - val_accuracy: 0.8060\n",
      "Epoch 19/20\n",
      "16/16 [==============================] - 0s 27ms/step - loss: 0.1138 - accuracy: 0.9575 - val_loss: 1.0904 - val_accuracy: 0.8010\n",
      "Epoch 20/20\n",
      "16/16 [==============================] - 0s 27ms/step - loss: 0.1145 - accuracy: 0.9579 - val_loss: 1.1013 - val_accuracy: 0.8110\n",
      "time: 12.1 s (started: 2021-07-23 15:52:28 +08:00)\n"
     ]
    }
   ],
   "source": [
    "history = model.fit(partial_x_train,\n",
    "                    partial_y_train,\n",
    "                    epochs=20,\n",
    "                    batch_size=512,\n",
    "                    validation_data=(x_val, y_val))"
   ]
  },
  {
   "cell_type": "markdown",
   "id": "alike-hartford",
   "metadata": {},
   "source": [
    "最后，让我们展示一下它的损失和准确度曲线（见图 4.6 和 4.7）。"
   ]
  },
  {
   "cell_type": "code",
   "execution_count": 34,
   "id": "fancy-cocktail",
   "metadata": {},
   "outputs": [
    {
     "name": "stdout",
     "output_type": "stream",
     "text": [
      "time: 540 ms (started: 2021-07-23 15:54:02 +08:00)\n"
     ]
    }
   ],
   "source": [
    "import matplotlib.pyplot as plt "
   ]
  },
  {
   "cell_type": "code",
   "execution_count": 36,
   "id": "endangered-uncertainty",
   "metadata": {},
   "outputs": [
    {
     "data": {
      "image/png": "[encoded data removed]",
      "text/plain": [
       "<Figure size 432x288 with 1 Axes>"
      ]
     },
     "metadata": {
      "needs_background": "light"
     },
     "output_type": "display_data"
    },
    {
     "name": "stdout",
     "output_type": "stream",
     "text": [
      "time: 304 ms (started: 2021-07-23 15:54:31 +08:00)\n"
     ]
    }
   ],
   "source": [
    "loss = history.history[\"loss\"]\n",
    "val_loss = history.history[\"val_loss\"]\n",
    "epochs = range(1, len(loss) + 1)\n",
    "plt.plot(epochs, loss, \"bo\", label=\"Training loss\")\n",
    "plt.plot(epochs, val_loss, \"b\", label=\"Validation loss\")\n",
    "plt.title(\"Training and validation loss\")\n",
    "plt.xlabel(\"Epochs\")\n",
    "plt.ylabel(\"Loss\")\n",
    "plt.legend()\n",
    "plt.show()"
   ]
  },
  {
   "cell_type": "code",
   "execution_count": 37,
   "id": "suited-black",
   "metadata": {},
   "outputs": [
    {
     "data": {
      "image/png": "[encoded data removed]",
      "text/plain": [
       "<Figure size 432x288 with 1 Axes>"
      ]
     },
     "metadata": {
      "needs_background": "light"
     },
     "output_type": "display_data"
    },
    {
     "name": "stdout",
     "output_type": "stream",
     "text": [
      "time: 259 ms (started: 2021-07-23 15:56:28 +08:00)\n"
     ]
    }
   ],
   "source": [
    "plt.clf()\n",
    "acc = history.history[\"accuracy\"]\n",
    "val_acc = history.history[\"val_accuracy\"]\n",
    "plt.plot(epochs, acc, \"bo\", label=\"Training accuracy\")\n",
    "plt.plot(epochs, val_acc, \"b\", label=\"Validation accuracy\")\n",
    "plt.title(\"Training and validation accuracy\")\n",
    "plt.xlabel(\"Epochs\")\n",
    "plt.ylabel(\"Accuracy\")\n",
    "plt.legend()\n",
    "plt.show()"
   ]
  },
  {
   "cell_type": "markdown",
   "id": "choice-israeli",
   "metadata": {},
   "source": [
    "该模型在 9 个 epoch 后开始过度拟合。 让我们从头开始训练一个新模型九个时期，然后在测试集上对其进行评估。"
   ]
  },
  {
   "cell_type": "code",
   "execution_count": 38,
   "id": "inner-peoples",
   "metadata": {},
   "outputs": [
    {
     "name": "stdout",
     "output_type": "stream",
     "text": [
      "time: 4.95 ms (started: 2021-07-23 15:59:13 +08:00)\n"
     ]
    }
   ],
   "source": [
    "model = keras.Sequential([\n",
    "    layers.Dense(64, activation=\"relu\"),\n",
    "    layers.Dense(64, activation=\"relu\"),\n",
    "    layers.Dense(46, activation=\"softmax\")\n",
    "])"
   ]
  },
  {
   "cell_type": "code",
   "execution_count": 40,
   "id": "direct-messenger",
   "metadata": {},
   "outputs": [
    {
     "name": "stdout",
     "output_type": "stream",
     "text": [
      "time: 7.55 ms (started: 2021-07-23 15:59:34 +08:00)\n"
     ]
    }
   ],
   "source": [
    "model.compile(optimizer=\"rmsprop\",\n",
    "              loss=\"categorical_crossentropy\",\n",
    "              metrics=[\"accuracy\"])"
   ]
  },
  {
   "cell_type": "code",
   "execution_count": 41,
   "id": "natural-boundary",
   "metadata": {},
   "outputs": [
    {
     "name": "stdout",
     "output_type": "stream",
     "text": [
      "Epoch 1/9\n",
      "18/18 [==============================] - 1s 21ms/step - loss: 2.4781 - accuracy: 0.5412\n",
      "Epoch 2/9\n",
      "18/18 [==============================] - 0s 20ms/step - loss: 1.3457 - accuracy: 0.7116\n",
      "Epoch 3/9\n",
      "18/18 [==============================] - 0s 21ms/step - loss: 1.0071 - accuracy: 0.7901\n",
      "Epoch 4/9\n",
      "18/18 [==============================] - 0s 19ms/step - loss: 0.7916 - accuracy: 0.8324\n",
      "Epoch 5/9\n",
      "18/18 [==============================] - 0s 18ms/step - loss: 0.6206 - accuracy: 0.8706\n",
      "Epoch 6/9\n",
      "18/18 [==============================] - 0s 18ms/step - loss: 0.4950 - accuracy: 0.8971\n",
      "Epoch 7/9\n",
      "18/18 [==============================] - 0s 18ms/step - loss: 0.3934 - accuracy: 0.9186\n",
      "Epoch 8/9\n",
      "18/18 [==============================] - 0s 18ms/step - loss: 0.3183 - accuracy: 0.9300\n",
      "Epoch 9/9\n",
      "18/18 [==============================] - 0s 18ms/step - loss: 0.2678 - accuracy: 0.9390\n"
     ]
    },
    {
     "data": {
      "text/plain": [
       "<tensorflow.python.keras.callbacks.History at 0x7f0f27169850>"
      ]
     },
     "execution_count": 41,
     "metadata": {},
     "output_type": "execute_result"
    },
    {
     "name": "stdout",
     "output_type": "stream",
     "text": [
      "time: 4.5 s (started: 2021-07-23 15:59:49 +08:00)\n"
     ]
    }
   ],
   "source": [
    "model.fit(x_train,\n",
    "          y_train,\n",
    "          epochs=9,\n",
    "          batch_size=512)"
   ]
  },
  {
   "cell_type": "code",
   "execution_count": 42,
   "id": "criminal-hobby",
   "metadata": {},
   "outputs": [
    {
     "name": "stdout",
     "output_type": "stream",
     "text": [
      "71/71 [==============================] - 1s 12ms/step - loss: 0.9848 - accuracy: 0.7925\n",
      "time: 1.15 s (started: 2021-07-23 16:00:11 +08:00)\n"
     ]
    }
   ],
   "source": [
    "results = model.evaluate(x_test, y_test)"
   ]
  },
  {
   "cell_type": "markdown",
   "id": "phantom-brief",
   "metadata": {},
   "source": [
    "以下是最终结果："
   ]
  },
  {
   "cell_type": "code",
   "execution_count": 43,
   "id": "liked-valentine",
   "metadata": {},
   "outputs": [
    {
     "data": {
      "text/plain": [
       "[0.9847751259803772, 0.7925200462341309]"
      ]
     },
     "execution_count": 43,
     "metadata": {},
     "output_type": "execute_result"
    },
    {
     "name": "stdout",
     "output_type": "stream",
     "text": [
      "time: 2.92 ms (started: 2021-07-23 16:00:46 +08:00)\n"
     ]
    }
   ],
   "source": [
    "results"
   ]
  },
  {
   "cell_type": "markdown",
   "id": "criminal-tobago",
   "metadata": {},
   "source": [
    "这种方法的准确率达到了~80%。 对于平衡二元分类问题，纯随机分类器达到的准确率将是 50%。 但是在这种情况下，我们有 46 个类，它们的表示可能并不相同。 随机基线的准确度是多少？ 我们可以尝试快速实现一个来凭经验检查这一点："
   ]
  },
  {
   "cell_type": "code",
   "execution_count": 44,
   "id": "offshore-protocol",
   "metadata": {},
   "outputs": [
    {
     "name": "stdout",
     "output_type": "stream",
     "text": [
      "time: 1.35 ms (started: 2021-07-23 16:02:38 +08:00)\n"
     ]
    }
   ],
   "source": [
    "import copy\n",
    "\n",
    "test_labels_copy = copy.copy(test_labels)\n",
    "np.random.shuffle(test_labels_copy)\n",
    "hits_array = np.array(test_labels) == np.array(test_labels_copy)"
   ]
  },
  {
   "cell_type": "code",
   "execution_count": 46,
   "id": "opened-custody",
   "metadata": {},
   "outputs": [
    {
     "data": {
      "text/plain": [
       "0.18210151380231523"
      ]
     },
     "execution_count": 46,
     "metadata": {},
     "output_type": "execute_result"
    },
    {
     "name": "stdout",
     "output_type": "stream",
     "text": [
      "time: 2.58 ms (started: 2021-07-23 16:02:50 +08:00)\n"
     ]
    }
   ],
   "source": [
    "hits_array.mean()"
   ]
  },
  {
   "cell_type": "markdown",
   "id": "growing-perfume",
   "metadata": {},
   "source": [
    "如您所见，随机分类器的分类准确率约为 19%，因此我们模型的结果在这方面看起来相当不错。"
   ]
  },
  {
   "cell_type": "markdown",
   "id": "hydraulic-change",
   "metadata": {},
   "source": [
    "### 生成对新数据的预测"
   ]
  },
  {
   "cell_type": "markdown",
   "id": "processed-withdrawal",
   "metadata": {},
   "source": [
    "在新样本上调用模型的方法会返回对每个样本的所有 46 个主题进行预测的类概率分布。 让我们为所有测试数据生成主题预测。"
   ]
  },
  {
   "cell_type": "code",
   "execution_count": 47,
   "id": "median-recruitment",
   "metadata": {},
   "outputs": [
    {
     "name": "stdout",
     "output_type": "stream",
     "text": [
      "time: 379 ms (started: 2021-07-23 16:04:09 +08:00)\n"
     ]
    }
   ],
   "source": [
    "predictions = model.predict(x_test)"
   ]
  },
  {
   "cell_type": "markdown",
   "id": "printable-wellington",
   "metadata": {},
   "source": [
    "“预测”中的每个条目都是一个长度为 46 的向量："
   ]
  },
  {
   "cell_type": "code",
   "execution_count": 48,
   "id": "traditional-cornwall",
   "metadata": {},
   "outputs": [
    {
     "data": {
      "text/plain": [
       "(46,)"
      ]
     },
     "execution_count": 48,
     "metadata": {},
     "output_type": "execute_result"
    },
    {
     "name": "stdout",
     "output_type": "stream",
     "text": [
      "time: 2.52 ms (started: 2021-07-23 16:04:59 +08:00)\n"
     ]
    }
   ],
   "source": [
    "predictions[0].shape"
   ]
  },
  {
   "cell_type": "markdown",
   "id": "accepting-jacket",
   "metadata": {},
   "source": [
    "这个向量中的系数总和为 1，因为它们形成了一个概率分布："
   ]
  },
  {
   "cell_type": "code",
   "execution_count": 49,
   "id": "comprehensive-fellow",
   "metadata": {},
   "outputs": [
    {
     "data": {
      "text/plain": [
       "0.9999998"
      ]
     },
     "execution_count": 49,
     "metadata": {},
     "output_type": "execute_result"
    },
    {
     "name": "stdout",
     "output_type": "stream",
     "text": [
      "time: 2.37 ms (started: 2021-07-23 16:06:01 +08:00)\n"
     ]
    }
   ],
   "source": [
    "np.sum(predictions[0])"
   ]
  },
  {
   "cell_type": "markdown",
   "id": "loving-mechanism",
   "metadata": {},
   "source": [
    "最大的条目是预测类别——概率最高的类别："
   ]
  },
  {
   "cell_type": "code",
   "execution_count": 50,
   "id": "cooked-emphasis",
   "metadata": {},
   "outputs": [
    {
     "data": {
      "text/plain": [
       "3"
      ]
     },
     "execution_count": 50,
     "metadata": {},
     "output_type": "execute_result"
    },
    {
     "name": "stdout",
     "output_type": "stream",
     "text": [
      "time: 2.51 ms (started: 2021-07-23 16:07:03 +08:00)\n"
     ]
    }
   ],
   "source": [
    "np.argmax(predictions[0])"
   ]
  },
  {
   "cell_type": "markdown",
   "id": "further-leader",
   "metadata": {},
   "source": [
    "### 处理标签和损失的不同方式"
   ]
  },
  {
   "cell_type": "markdown",
   "id": "elder-shore",
   "metadata": {},
   "source": [
    "我们之前提到过编码标签的另一种方法是将它们转换为整数张量，像这样："
   ]
  },
  {
   "cell_type": "code",
   "execution_count": 51,
   "id": "classified-friendly",
   "metadata": {},
   "outputs": [
    {
     "name": "stdout",
     "output_type": "stream",
     "text": [
      "time: 1.04 ms (started: 2021-07-23 16:08:42 +08:00)\n"
     ]
    }
   ],
   "source": [
    "y_train = np.array(train_labels)\n",
    "y_test = np.array(test_labels)"
   ]
  },
  {
   "cell_type": "markdown",
   "id": "metric-graduation",
   "metadata": {},
   "source": [
    "这种方法唯一会改变的是损失函数的选择。 清单 4.21 中使用的损失函数 `categorical_crossentropy` 期望标签遵循分类编码。 对于整数标签，您应该使用 `sparse_categorical_crossentropy`："
   ]
  },
  {
   "cell_type": "code",
   "execution_count": 53,
   "id": "orange-cookbook",
   "metadata": {},
   "outputs": [
    {
     "name": "stdout",
     "output_type": "stream",
     "text": [
      "time: 12.5 ms (started: 2021-07-23 16:10:27 +08:00)\n"
     ]
    }
   ],
   "source": [
    "model.compile(optimizer=\"rmsprop\",\n",
    "              loss=\"sparse_categorical_crossentropy\",\n",
    "              metrics=[\"accuracy\"])"
   ]
  },
  {
   "cell_type": "markdown",
   "id": "purple-bearing",
   "metadata": {},
   "source": [
    "这个新的损失函数在数学上仍然与 categorical_crossentropy 相同； 它只是有一个不同的界面。"
   ]
  },
  {
   "cell_type": "markdown",
   "id": "norman-energy",
   "metadata": {},
   "source": [
    "### 具有足够大的中间层的重要性"
   ]
  },
  {
   "cell_type": "markdown",
   "id": "earned-honor",
   "metadata": {},
   "source": [
    "我们之前提到过，由于最终输出是 46 维的，因此您应该避免使用少于 46 个单元的中间层。 现在让我们看看当您通过具有明显小于 46 维的中间层引入信息瓶颈时会发生什么：例如，4 维。"
   ]
  },
  {
   "cell_type": "code",
   "execution_count": 54,
   "id": "oriented-motion",
   "metadata": {},
   "outputs": [
    {
     "name": "stdout",
     "output_type": "stream",
     "text": [
      "Epoch 1/20\n",
      "63/63 [==============================] - 2s 18ms/step - loss: 2.6865 - accuracy: 0.4049 - val_loss: 1.9452 - val_accuracy: 0.5840\n",
      "Epoch 2/20\n",
      "63/63 [==============================] - 1s 16ms/step - loss: 1.6122 - accuracy: 0.6438 - val_loss: 1.4965 - val_accuracy: 0.6500\n",
      "Epoch 3/20\n",
      "63/63 [==============================] - 1s 15ms/step - loss: 1.2531 - accuracy: 0.7010 - val_loss: 1.3528 - val_accuracy: 0.6960\n",
      "Epoch 4/20\n",
      "63/63 [==============================] - 1s 16ms/step - loss: 1.0805 - accuracy: 0.7409 - val_loss: 1.2985 - val_accuracy: 0.7060\n",
      "Epoch 5/20\n",
      "63/63 [==============================] - 1s 16ms/step - loss: 0.9716 - accuracy: 0.7578 - val_loss: 1.2775 - val_accuracy: 0.7060\n",
      "Epoch 6/20\n",
      "63/63 [==============================] - 1s 16ms/step - loss: 0.8934 - accuracy: 0.7704 - val_loss: 1.2945 - val_accuracy: 0.7010\n",
      "Epoch 7/20\n",
      "63/63 [==============================] - 1s 16ms/step - loss: 0.8290 - accuracy: 0.7806 - val_loss: 1.3007 - val_accuracy: 0.7050\n",
      "Epoch 8/20\n",
      "63/63 [==============================] - 1s 16ms/step - loss: 0.7728 - accuracy: 0.7915 - val_loss: 1.2949 - val_accuracy: 0.7060\n",
      "Epoch 9/20\n",
      "63/63 [==============================] - 1s 15ms/step - loss: 0.7216 - accuracy: 0.8038 - val_loss: 1.3405 - val_accuracy: 0.7080\n",
      "Epoch 10/20\n",
      "63/63 [==============================] - 1s 16ms/step - loss: 0.6788 - accuracy: 0.8098 - val_loss: 1.3808 - val_accuracy: 0.7030\n",
      "Epoch 11/20\n",
      "63/63 [==============================] - 1s 16ms/step - loss: 0.6412 - accuracy: 0.8157 - val_loss: 1.3849 - val_accuracy: 0.7050\n",
      "Epoch 12/20\n",
      "63/63 [==============================] - 1s 16ms/step - loss: 0.6076 - accuracy: 0.8259 - val_loss: 1.4138 - val_accuracy: 0.7090\n",
      "Epoch 13/20\n",
      "63/63 [==============================] - 1s 16ms/step - loss: 0.5764 - accuracy: 0.8322 - val_loss: 1.4703 - val_accuracy: 0.7040\n",
      "Epoch 14/20\n",
      "63/63 [==============================] - 1s 16ms/step - loss: 0.5518 - accuracy: 0.8334 - val_loss: 1.4987 - val_accuracy: 0.7000\n",
      "Epoch 15/20\n",
      "63/63 [==============================] - 1s 16ms/step - loss: 0.5243 - accuracy: 0.8364 - val_loss: 1.5397 - val_accuracy: 0.7040\n",
      "Epoch 16/20\n",
      "63/63 [==============================] - 1s 16ms/step - loss: 0.5066 - accuracy: 0.8400 - val_loss: 1.5756 - val_accuracy: 0.7080\n",
      "Epoch 17/20\n",
      "63/63 [==============================] - 1s 15ms/step - loss: 0.4856 - accuracy: 0.8498 - val_loss: 1.6266 - val_accuracy: 0.7040\n",
      "Epoch 18/20\n",
      "63/63 [==============================] - 1s 16ms/step - loss: 0.4646 - accuracy: 0.8599 - val_loss: 1.7012 - val_accuracy: 0.7020\n",
      "Epoch 19/20\n",
      "63/63 [==============================] - 1s 16ms/step - loss: 0.4453 - accuracy: 0.8671 - val_loss: 1.7038 - val_accuracy: 0.7090\n",
      "Epoch 20/20\n",
      "63/63 [==============================] - 1s 16ms/step - loss: 0.4276 - accuracy: 0.8737 - val_loss: 1.7647 - val_accuracy: 0.7070\n"
     ]
    },
    {
     "data": {
      "text/plain": [
       "<tensorflow.python.keras.callbacks.History at 0x7f0f80717310>"
      ]
     },
     "execution_count": 54,
     "metadata": {},
     "output_type": "execute_result"
    },
    {
     "name": "stdout",
     "output_type": "stream",
     "text": [
      "time: 21.5 s (started: 2021-07-23 16:13:13 +08:00)\n"
     ]
    }
   ],
   "source": [
    "model = keras.Sequential([\n",
    "    layers.Dense(64, activation=\"relu\"),\n",
    "    layers.Dense(4, activation=\"relu\"),\n",
    "    layers.Dense(46, activation=\"softmax\")\n",
    "])\n",
    "\n",
    "model.compile(optimizer=\"rmsprop\",\n",
    "              loss=\"categorical_crossentropy\",\n",
    "              metrics=[\"accuracy\"])\n",
    "\n",
    "model.fit(partial_x_train,\n",
    "          partial_y_train,\n",
    "          epochs=20,\n",
    "          batch_size=128,\n",
    "          validation_data=(x_val, y_val))"
   ]
  },
  {
   "cell_type": "markdown",
   "id": "acute-sterling",
   "metadata": {},
   "source": [
    "该模型现在的峰值验证准确度约为 71%，绝对下降了 8%。 这种下降主要是因为您试图将大量信息（足以恢复 46 个类的分离超平面的信息）压缩到太低维的中间空间中。 该模型能够将必要的信息塞入这些四维大多数表示中，但不是全部。"
   ]
  },
  {
   "cell_type": "markdown",
   "id": "drawn-tunnel",
   "metadata": {},
   "source": [
    "### 进一步实验"
   ]
  },
  {
   "cell_type": "markdown",
   "id": "harmful-remedy",
   "metadata": {},
   "source": [
    "* 尝试使用更大或更小的层：32 个单元、128 个单元等。\n",
    "* 您在最终的 softmax 分类层之前使用了两个中间层。 现在尝试使用单个中间层或三个中间层。"
   ]
  },
  {
   "cell_type": "markdown",
   "id": "upper-issue",
   "metadata": {},
   "source": [
    "### 总结"
   ]
  },
  {
   "cell_type": "markdown",
   "id": "identified-china",
   "metadata": {},
   "source": [
    "以下是你应该从这个例子中学到的东西：\n",
    "* 如果你试图在类中对数据点进行分类，你的模型应该以大小为 N 的 Dense 层结束。\n",
    "* 在单标签、多类分类问题中，您的模型应该以 softmax 激活结束，以便它输出 N 个输出类的概率分布。\n",
    "* 分类交叉熵几乎总是您应该用于此类问题的损失函数。 它最小化了模型输出的概率分布与目标真实分布之间的距离。\n",
    "* 在多类分类中有两种处理标签的方法：\n",
    "    - 通过分类编码（也称为独热编码）对标签进行编码并使用 categorical_crossentropy 作为损失函数\n",
    "    - 将标签编码为整数并使用 sparse_categorical_crossentropy 损失功能\n",
    "* 如果您需要将数据分类为大量类别，则应避免由于中间层太小而在模型中造成信息瓶颈。"
   ]
  },
  {
   "cell_type": "markdown",
   "id": "smart-acquisition",
   "metadata": {},
   "source": [
    "## 预测房价：回归示例"
   ]
  },
  {
   "cell_type": "markdown",
   "id": "lucky-router",
   "metadata": {},
   "source": [
    "前两个示例被认为是分类问题，其目标是预测输入数据点的单个离散标签。 另一种常见的机器学习问题是 ，它包括预测一个连续值而不是一个离散标签：例如回归，根据气象数据预测明天的温度； 或根据其规格预测软件项目完成所需的时间。"
   ]
  },
  {
   "cell_type": "markdown",
   "id": "technical-bouquet",
   "metadata": {},
   "source": [
    "> 不要混淆和算法回归逻辑回归。 令人困惑的是，逻辑回归不是回归算法——它是一种分类算法。"
   ]
  },
  {
   "cell_type": "markdown",
   "id": "strong-playlist",
   "metadata": {},
   "source": [
    "### 波士顿房价数据集"
   ]
  },
  {
   "cell_type": "markdown",
   "id": "destroyed-adoption",
   "metadata": {},
   "source": [
    "您将尝试预测 1970 年代中期给定波士顿郊区的房屋中位数价格，根据当时郊区的数据点，例如犯罪率、当地财产税率等。 您将使用的数据集与前两个示例有一个有趣的区别。 它的数据点相对较少：只有 506 个，分为 404 个训练样本和 102 个测试样本。 并且每个输入数据（例如，犯罪率）都有不同的尺度。 例如，一些值是比例，取值在 0 到 1 之间； 其他取值介于 1 和 12 之间，其他取值介于 0 和 100 之间，依此类推。"
   ]
  },
  {
   "cell_type": "code",
   "execution_count": 3,
   "id": "pressing-chester",
   "metadata": {},
   "outputs": [
    {
     "name": "stdout",
     "output_type": "stream",
     "text": [
      "time: 12.4 ms (started: 2021-07-25 12:37:37 +08:00)\n"
     ]
    }
   ],
   "source": [
    "from tensorflow.keras.datasets import boston_housing\n",
    "\n",
    "(train_data, train_targets), (test_data, test_targets) = boston_housing.load_data()"
   ]
  },
  {
   "cell_type": "markdown",
   "id": "quiet-garlic",
   "metadata": {},
   "source": [
    "我们来看一下数据："
   ]
  },
  {
   "cell_type": "code",
   "execution_count": 3,
   "id": "peripheral-encoding",
   "metadata": {},
   "outputs": [
    {
     "data": {
      "text/plain": [
       "(404, 13)"
      ]
     },
     "execution_count": 3,
     "metadata": {},
     "output_type": "execute_result"
    },
    {
     "name": "stdout",
     "output_type": "stream",
     "text": [
      "time: 10.1 ms (started: 2021-07-24 15:01:46 +08:00)\n"
     ]
    }
   ],
   "source": [
    "train_data.shape"
   ]
  },
  {
   "cell_type": "code",
   "execution_count": 4,
   "id": "short-grenada",
   "metadata": {},
   "outputs": [
    {
     "data": {
      "text/plain": [
       "(102, 13)"
      ]
     },
     "execution_count": 4,
     "metadata": {},
     "output_type": "execute_result"
    },
    {
     "name": "stdout",
     "output_type": "stream",
     "text": [
      "time: 2.83 ms (started: 2021-07-24 15:01:48 +08:00)\n"
     ]
    }
   ],
   "source": [
    "test_data.shape"
   ]
  },
  {
   "cell_type": "markdown",
   "id": "protecting-matthew",
   "metadata": {},
   "source": [
    "如您所见，您有 404 个训练样本和 102 个测试样本，每个样本具有 13 个数值特征，例如人均犯罪率、每户住宅的平均房间数、\n",
    "高速公路等等。"
   ]
  },
  {
   "cell_type": "markdown",
   "id": "found-trailer",
   "metadata": {},
   "source": [
    "目标是自住房屋的中值，以千美元为单位："
   ]
  },
  {
   "cell_type": "code",
   "execution_count": 5,
   "id": "backed-russell",
   "metadata": {},
   "outputs": [
    {
     "data": {
      "text/plain": [
       "array([15.2, 42.3, 50. , 21.1, 17.7, 18.5, 11.3, 15.6, 15.6, 14.4, 12.1,\n",
       "       17.9, 23.1, 19.9, 15.7,  8.8, 50. , 22.5, 24.1, 27.5, 10.9, 30.8,\n",
       "       32.9, 24. , 18.5, 13.3, 22.9, 34.7, 16.6, 17.5, 22.3, 16.1, 14.9,\n",
       "       23.1, 34.9, 25. , 13.9, 13.1, 20.4, 20. , 15.2, 24.7, 22.2, 16.7,\n",
       "       12.7, 15.6, 18.4, 21. , 30.1, 15.1, 18.7,  9.6, 31.5, 24.8, 19.1,\n",
       "       22. , 14.5, 11. , 32. , 29.4, 20.3, 24.4, 14.6, 19.5, 14.1, 14.3,\n",
       "       15.6, 10.5,  6.3, 19.3, 19.3, 13.4, 36.4, 17.8, 13.5, 16.5,  8.3,\n",
       "       14.3, 16. , 13.4, 28.6, 43.5, 20.2, 22. , 23. , 20.7, 12.5, 48.5,\n",
       "       14.6, 13.4, 23.7, 50. , 21.7, 39.8, 38.7, 22.2, 34.9, 22.5, 31.1,\n",
       "       28.7, 46. , 41.7, 21. , 26.6, 15. , 24.4, 13.3, 21.2, 11.7, 21.7,\n",
       "       19.4, 50. , 22.8, 19.7, 24.7, 36.2, 14.2, 18.9, 18.3, 20.6, 24.6,\n",
       "       18.2,  8.7, 44. , 10.4, 13.2, 21.2, 37. , 30.7, 22.9, 20. , 19.3,\n",
       "       31.7, 32. , 23.1, 18.8, 10.9, 50. , 19.6,  5. , 14.4, 19.8, 13.8,\n",
       "       19.6, 23.9, 24.5, 25. , 19.9, 17.2, 24.6, 13.5, 26.6, 21.4, 11.9,\n",
       "       22.6, 19.6,  8.5, 23.7, 23.1, 22.4, 20.5, 23.6, 18.4, 35.2, 23.1,\n",
       "       27.9, 20.6, 23.7, 28. , 13.6, 27.1, 23.6, 20.6, 18.2, 21.7, 17.1,\n",
       "        8.4, 25.3, 13.8, 22.2, 18.4, 20.7, 31.6, 30.5, 20.3,  8.8, 19.2,\n",
       "       19.4, 23.1, 23. , 14.8, 48.8, 22.6, 33.4, 21.1, 13.6, 32.2, 13.1,\n",
       "       23.4, 18.9, 23.9, 11.8, 23.3, 22.8, 19.6, 16.7, 13.4, 22.2, 20.4,\n",
       "       21.8, 26.4, 14.9, 24.1, 23.8, 12.3, 29.1, 21. , 19.5, 23.3, 23.8,\n",
       "       17.8, 11.5, 21.7, 19.9, 25. , 33.4, 28.5, 21.4, 24.3, 27.5, 33.1,\n",
       "       16.2, 23.3, 48.3, 22.9, 22.8, 13.1, 12.7, 22.6, 15. , 15.3, 10.5,\n",
       "       24. , 18.5, 21.7, 19.5, 33.2, 23.2,  5. , 19.1, 12.7, 22.3, 10.2,\n",
       "       13.9, 16.3, 17. , 20.1, 29.9, 17.2, 37.3, 45.4, 17.8, 23.2, 29. ,\n",
       "       22. , 18. , 17.4, 34.6, 20.1, 25. , 15.6, 24.8, 28.2, 21.2, 21.4,\n",
       "       23.8, 31. , 26.2, 17.4, 37.9, 17.5, 20. ,  8.3, 23.9,  8.4, 13.8,\n",
       "        7.2, 11.7, 17.1, 21.6, 50. , 16.1, 20.4, 20.6, 21.4, 20.6, 36.5,\n",
       "        8.5, 24.8, 10.8, 21.9, 17.3, 18.9, 36.2, 14.9, 18.2, 33.3, 21.8,\n",
       "       19.7, 31.6, 24.8, 19.4, 22.8,  7.5, 44.8, 16.8, 18.7, 50. , 50. ,\n",
       "       19.5, 20.1, 50. , 17.2, 20.8, 19.3, 41.3, 20.4, 20.5, 13.8, 16.5,\n",
       "       23.9, 20.6, 31.5, 23.3, 16.8, 14. , 33.8, 36.1, 12.8, 18.3, 18.7,\n",
       "       19.1, 29. , 30.1, 50. , 50. , 22. , 11.9, 37.6, 50. , 22.7, 20.8,\n",
       "       23.5, 27.9, 50. , 19.3, 23.9, 22.6, 15.2, 21.7, 19.2, 43.8, 20.3,\n",
       "       33.2, 19.9, 22.5, 32.7, 22. , 17.1, 19. , 15. , 16.1, 25.1, 23.7,\n",
       "       28.7, 37.2, 22.6, 16.4, 25. , 29.8, 22.1, 17.4, 18.1, 30.3, 17.5,\n",
       "       24.7, 12.6, 26.5, 28.7, 13.3, 10.4, 24.4, 23. , 20. , 17.8,  7. ,\n",
       "       11.8, 24.4, 13.8, 19.4, 25.2, 19.4, 19.4, 29.1])"
      ]
     },
     "execution_count": 5,
     "metadata": {},
     "output_type": "execute_result"
    },
    {
     "name": "stdout",
     "output_type": "stream",
     "text": [
      "time: 5.37 ms (started: 2021-07-24 15:01:50 +08:00)\n"
     ]
    }
   ],
   "source": [
    "train_targets"
   ]
  },
  {
   "cell_type": "markdown",
   "id": "stuck-arkansas",
   "metadata": {},
   "source": [
    "价格通常在 10,000 美元到 50,000 美元之间。 如果这听起来很便宜，请记住这是 1970 年代中期，这些价格没有根据通货膨胀进行调整。"
   ]
  },
  {
   "cell_type": "markdown",
   "id": "opponent-pasta",
   "metadata": {},
   "source": [
    "### 准备数据"
   ]
  },
  {
   "cell_type": "markdown",
   "id": "facial-champion",
   "metadata": {},
   "source": [
    "将所有范围都大不相同的神经网络值输入到神经网络中将是有问题的。 模型或许能够自动适应这种异构数据，但这肯定会让学习变得更加困难。 处理此类数据的一种普遍最佳做法是进行特征归一化：对于输入数据中的每个特征（输入数据矩阵中的一列），您减去特征的均值并除以标准差，以便 该特征以 0 为中心并具有单位标准偏差。 这在 NumPy 中很容易完成。"
   ]
  },
  {
   "cell_type": "code",
   "execution_count": 6,
   "id": "abroad-boutique",
   "metadata": {},
   "outputs": [
    {
     "name": "stdout",
     "output_type": "stream",
     "text": [
      "time: 1.68 ms (started: 2021-07-24 15:01:53 +08:00)\n"
     ]
    }
   ],
   "source": [
    "mean = train_data.mean(axis=0)\n",
    "train_data -= mean\n",
    "std = train_data.std(axis=0)\n",
    "train_data /= std"
   ]
  },
  {
   "cell_type": "code",
   "execution_count": 7,
   "id": "likely-parade",
   "metadata": {},
   "outputs": [
    {
     "name": "stdout",
     "output_type": "stream",
     "text": [
      "time: 427 µs (started: 2021-07-24 15:01:54 +08:00)\n"
     ]
    }
   ],
   "source": [
    "test_data -= mean\n",
    "test_data /= std"
   ]
  },
  {
   "cell_type": "markdown",
   "id": "senior-tribute",
   "metadata": {},
   "source": [
    "请注意，用于归一化测试数据的数量是使用训练数据计算的。 您永远不应该在工作流程中使用根据测试数据计算的任何数量，即使对于\n",
    "像数据规范化这样简单的事情。"
   ]
  },
  {
   "cell_type": "markdown",
   "id": "promising-switzerland",
   "metadata": {},
   "source": [
    "### 构建模型"
   ]
  },
  {
   "cell_type": "markdown",
   "id": "informed-ensemble",
   "metadata": {},
   "source": [
    "由于可用样本太少，您将使用一个非常小的模型，其中包含两个中间层，每个层有 64 个单元。 一般来说，你拥有的训练数据越少，过拟合就越严重，使用小模型是减轻过拟合的一种方法。"
   ]
  },
  {
   "cell_type": "code",
   "execution_count": 8,
   "id": "handed-tobacco",
   "metadata": {},
   "outputs": [
    {
     "name": "stdout",
     "output_type": "stream",
     "text": [
      "time: 740 µs (started: 2021-07-24 15:01:57 +08:00)\n"
     ]
    }
   ],
   "source": [
    "# 因为您需要多次实例化同一个模型，所以您使用一个函数来构造它。\n",
    "\n",
    "def build_model():\n",
    "    model = keras.Sequential([\n",
    "    layers.Dense(64, activation=\"relu\"),\n",
    "    layers.Dense(64, activation=\"relu\"),\n",
    "    layers.Dense(1)\n",
    " ])\n",
    "    model.compile(optimizer=\"rmsprop\", loss=\"mse\", metrics=[\"mae\"])\n",
    "    return model"
   ]
  },
  {
   "cell_type": "markdown",
   "id": "developmental-delicious",
   "metadata": {},
   "source": [
    "模型以单个单元结束，没有激活（它将是一个线性层）。 这是标量回归（尝试预测单个连续值的回归）的典型设置。 应用激活函数会限制输出的范围； 例如，如果您将激活函数应用于最后一层，则模型只能学习 sigmoid 来预测 0 到 1 之间的值。这里，因为最后一层是纯线性的，模型可以自由地学习预测任何范围内的值 ."
   ]
  },
  {
   "cell_type": "markdown",
   "id": "modern-theater",
   "metadata": {},
   "source": [
    "请注意，您使用损失函数编译模型 - mse 均方误差，预测与目标之间差异的平方。 这是一种广泛用于回归问题的损失函数。"
   ]
  },
  {
   "cell_type": "markdown",
   "id": "proprietary-grace",
   "metadata": {},
   "source": [
    "您还在训练期间监控一个新指标：平均绝对误差 (MAE)。 它是预测和目标之间差异的绝对值。 例如，此问题的 MAE 为 0.5 意味着您的预测平均偏离 500 美元。"
   ]
  },
  {
   "cell_type": "markdown",
   "id": "unnecessary-twins",
   "metadata": {},
   "source": [
    "### 使用 K 折验证来验证您的方法"
   ]
  },
  {
   "cell_type": "markdown",
   "id": "logical-plastic",
   "metadata": {},
   "source": [
    "要在不断调整模型参数（例如用于训练的 epoch 数）的同时评估模型，您可以将数据拆分为训练集和验证集，就像在前面的示例中所做的那样。 但是因为数据点太少，验证集最终会非常小（例如，大约 100 个示例）。 因此，验证分数可能会发生很大变化，具体取决于您选择用于验证的数据点以及您选择用于训练的数据点：验证分数可能相对于方差验证拆分而言较高。 这将阻止您可靠地评估您的模型。"
   ]
  },
  {
   "cell_type": "markdown",
   "id": "vital-edmonton",
   "metadata": {},
   "source": [
    "这种情况下的最佳实践是使用交叉验证（见图 4.8）。 它包括将可用数据分成 K 个分区（通常 K = 4 或 5）的 K 折，实例化相同的 K\n",
    "模型，并在 K-1 个分区上训练每个模型，同时评估剩余的分区。 所用模型的验证分数是获得的 K 个验证分数的平均值。 就代码而言，这很简单。"
   ]
  },
  {
   "cell_type": "markdown",
   "id": "qualified-brooks",
   "metadata": {},
   "source": [
    "![](https://tva1.sinaimg.cn/large/008i3skNgy1gss1f3ryicj31cy0myq57.jpg)"
   ]
  },
  {
   "cell_type": "code",
   "execution_count": 22,
   "id": "distant-exclusion",
   "metadata": {},
   "outputs": [
    {
     "name": "stdout",
     "output_type": "stream",
     "text": [
      "time: 781 µs (started: 2021-07-24 15:17:35 +08:00)\n"
     ]
    }
   ],
   "source": [
    "k = 4\n",
    "num_val_samples = len(train_data) // k\n",
    "num_epochs = 100\n",
    "all_scores = []"
   ]
  },
  {
   "cell_type": "code",
   "execution_count": 23,
   "id": "aquatic-elements",
   "metadata": {},
   "outputs": [
    {
     "name": "stdout",
     "output_type": "stream",
     "text": [
      "Processing fold #0\n",
      "Processing fold #1\n",
      "Processing fold #2\n",
      "Processing fold #3\n",
      "time: 1min 4s (started: 2021-07-24 15:17:37 +08:00)\n"
     ]
    }
   ],
   "source": [
    "import numpy as np\n",
    "from tensorflow import keras\n",
    "from tensorflow.keras import layers\n",
    "\n",
    "for i in range(k):\n",
    "    print(f\"Processing fold #{i}\")\n",
    "    \n",
    "    # 准备验证数据：来自分区 #k 的数据\n",
    "    val_data = train_data[i * num_val_samples: (i + 1) * num_val_samples] \n",
    "    val_targets = train_targets[i * num_val_samples: (i + 1) * num_val_samples]\n",
    "   \n",
    "    # 准备训练数据：来自所有其他分区的数据\n",
    "    partial_train_data = np.concatenate([train_data[:i * num_val_samples],\n",
    "                                         train_data[(i + 1) * num_val_samples:]],\n",
    "                                        axis=0)\n",
    "    partial_train_targets = np.concatenate(\n",
    "        [train_targets[:i * num_val_samples],\n",
    "         train_targets[(i + 1) * num_val_samples:]],\n",
    "        axis=0)\n",
    "    \n",
    "    # 构建 Keras 模型（已编译）\n",
    "    model = build_model()\n",
    "    \n",
    "    # 训练模型（在静默模式下，verbose = 0）\n",
    "    model.fit(partial_train_data, partial_train_targets,\n",
    "              epochs=num_epochs, batch_size=16, verbose=0)\n",
    "    \n",
    "    # 根据验证数据评估模型\n",
    "    val_mse, val_mae = model.evaluate(val_data, val_targets, verbose=0) \n",
    "    \n",
    "    #\n",
    "    all_scores.append(val_mae)"
   ]
  },
  {
   "cell_type": "markdown",
   "id": "democratic-terrace",
   "metadata": {},
   "source": [
    "使用 num_epochs = 100 运行它会产生以下结果："
   ]
  },
  {
   "cell_type": "code",
   "execution_count": 24,
   "id": "featured-spyware",
   "metadata": {},
   "outputs": [
    {
     "data": {
      "text/plain": [
       "[2.1525533199310303,\n",
       " 2.4750516414642334,\n",
       " 2.5435984134674072,\n",
       " 2.3341240882873535]"
      ]
     },
     "execution_count": 24,
     "metadata": {},
     "output_type": "execute_result"
    },
    {
     "name": "stdout",
     "output_type": "stream",
     "text": [
      "time: 2.23 ms (started: 2021-07-24 15:21:11 +08:00)\n"
     ]
    }
   ],
   "source": [
    "all_scores"
   ]
  },
  {
   "cell_type": "code",
   "execution_count": 25,
   "id": "alternative-monroe",
   "metadata": {},
   "outputs": [
    {
     "data": {
      "text/plain": [
       "2.376331865787506"
      ]
     },
     "execution_count": 25,
     "metadata": {},
     "output_type": "execute_result"
    },
    {
     "name": "stdout",
     "output_type": "stream",
     "text": [
      "time: 2.04 ms (started: 2021-07-24 15:21:13 +08:00)\n"
     ]
    }
   ],
   "source": [
    "np.mean(all_scores)"
   ]
  },
  {
   "cell_type": "markdown",
   "id": "material-bacteria",
   "metadata": {},
   "source": [
    "不同的运行确实显示了相当不同的验证分数，从 2.1 到 3.1。 平均值 (2.6) 是比任何单个分数都更可靠的指标——这是 K 折交叉验证的全部要点。 在这种情况下，您平均减少 2,600 美元，考虑到价格从 10,000 美元到 50,000 美元不等，这一点很重要。"
   ]
  },
  {
   "cell_type": "markdown",
   "id": "spare-firewall",
   "metadata": {},
   "source": [
    "让我们尝试将模型训练更长时间：500 个 epoch。 为了记录模型在每个时期的表现，您将修改训练循环以保存每个时期的验证分数日志。"
   ]
  },
  {
   "cell_type": "code",
   "execution_count": 26,
   "id": "pharmaceutical-motivation",
   "metadata": {},
   "outputs": [
    {
     "name": "stdout",
     "output_type": "stream",
     "text": [
      "Processing fold #0\n",
      "Processing fold #1\n",
      "Processing fold #2\n",
      "Processing fold #3\n",
      "time: 7min 22s (started: 2021-07-24 15:29:05 +08:00)\n"
     ]
    }
   ],
   "source": [
    "num_epochs = 500\n",
    "all_mae_histories = []\n",
    "\n",
    "for i in range(k):\n",
    "    print(f\"Processing fold #{i}\")\n",
    "    \n",
    "    # 准备验证数据：来自分区 #k 的数据\n",
    "    val_data = train_data[i * num_val_samples: (i + 1) * num_val_samples] \n",
    "    val_targets = train_targets[i * num_val_samples: (i + 1) * num_val_samples]\n",
    "   \n",
    "    # 准备训练数据：来自所有其他分区的数据\n",
    "    partial_train_data = np.concatenate([train_data[:i * num_val_samples],\n",
    "                                         train_data[(i + 1) * num_val_samples:]],\n",
    "                                        axis=0)\n",
    "    partial_train_targets = np.concatenate(\n",
    "        [train_targets[:i * num_val_samples],\n",
    "         train_targets[(i + 1) * num_val_samples:]],\n",
    "        axis=0)\n",
    "    \n",
    "    # 构建 Keras 模型（已编译）\n",
    "    model = build_model()\n",
    "    \n",
    "    # 训练模型（在静默模式下，verbose = 0）\n",
    "    history = model.fit(partial_train_data, partial_train_targets,\n",
    "                        validation_data=(val_data, val_targets),\n",
    "                        epochs=num_epochs, batch_size=16, verbose=0)\n",
    "    \n",
    "    mae_history = history.history[\"val_mae\"]\n",
    "    \n",
    "    all_mae_histories.append(mae_history)"
   ]
  },
  {
   "cell_type": "markdown",
   "id": "final-heaven",
   "metadata": {},
   "source": [
    "然后，您可以计算所有折叠的每个周期 MAE 分数的平均值。"
   ]
  },
  {
   "cell_type": "code",
   "execution_count": 27,
   "id": "intelligent-controversy",
   "metadata": {},
   "outputs": [
    {
     "name": "stdout",
     "output_type": "stream",
     "text": [
      "time: 7.96 ms (started: 2021-07-24 15:36:27 +08:00)\n"
     ]
    }
   ],
   "source": [
    "average_mae_history = [np.mean([x[i] for x in all_mae_histories]) for i in range(num_epochs)]"
   ]
  },
  {
   "cell_type": "markdown",
   "id": "informal-primary",
   "metadata": {},
   "source": [
    "让我们绘制这个图； 见图 4.9。"
   ]
  },
  {
   "cell_type": "code",
   "execution_count": 33,
   "id": "acting-anthony",
   "metadata": {},
   "outputs": [
    {
     "data": {
      "image/svg+xml": [
       "<?xml version=\"1.0\" encoding=\"utf-8\" standalone=\"no\"?>\n",
       "<!DOCTYPE svg PUBLIC \"-//W3C//DTD SVG 1.1//EN\"\n",
       "  \"http://www.w3.org/Graphics/SVG/1.1/DTD/svg11.dtd\">\n",
       "<svg height=\"263.163498pt\" version=\"1.1\" viewBox=\"0 0 392.14375 263.163498\" width=\"392.14375pt\" xmlns=\"http://www.w3.org/2000/svg\" xmlns:xlink=\"http://www.w3.org/1999/xlink\">\n",
       " <metadata>\n",
       "  <rdf:RDF xmlns:cc=\"http://creativecommons.org/ns#\" xmlns:dc=\"http://purl.org/dc/elements/1.1/\" xmlns:rdf=\"http://www.w3.org/1999/02/22-rdf-syntax-ns#\">\n",
       "   <cc:Work>\n",
       "    <dc:type rdf:resource=\"http://purl.org/dc/dcmitype/StillImage\"/>\n",
       "    <dc:date>2021-07-24T15:39:39.494619</dc:date>\n",
       "    <dc:format>image/svg+xml</dc:format>\n",
       "    <dc:creator>\n",
       "     <cc:Agent>\n",
       "      <dc:title>Matplotlib v3.4.2, https://matplotlib.org/</dc:title>\n",
       "     </cc:Agent>\n",
       "    </dc:creator>\n",
       "   </cc:Work>\n",
       "  </rdf:RDF>\n",
       " </metadata>\n",
       " <defs>\n",
       "  <style type=\"text/css\">*{stroke-linecap:butt;stroke-linejoin:round;}</style>\n",
       " </defs>\n",
       " <g id=\"figure_1\">\n",
       "  <g id=\"patch_1\">\n",
       "   <path d=\"M 0 263.163498 \n",
       "L 392.14375 263.163498 \n",
       "L 392.14375 0 \n",
       "L 0 0 \n",
       "z\n",
       "\" style=\"fill:none;\"/>\n",
       "  </g>\n",
       "  <g id=\"axes_1\">\n",
       "   <g id=\"patch_2\">\n",
       "    <path d=\"M 50.14375 225.607248 \n",
       "L 384.94375 225.607248 \n",
       "L 384.94375 8.167248 \n",
       "L 50.14375 8.167248 \n",
       "z\n",
       "\" style=\"fill:#ffffff;\"/>\n",
       "   </g>\n",
       "   <g id=\"matplotlib.axis_1\">\n",
       "    <g id=\"xtick_1\">\n",
       "     <g id=\"line2d_1\">\n",
       "      <defs>\n",
       "       <path d=\"M 0 0 \n",
       "L 0 3.5 \n",
       "\" id=\"maa8b0c8047\" style=\"stroke:#000000;stroke-width:0.8;\"/>\n",
       "      </defs>\n",
       "      <g>\n",
       "       <use style=\"stroke:#000000;stroke-width:0.8;\" x=\"64.751985\" xlink:href=\"#maa8b0c8047\" y=\"225.607248\"/>\n",
       "      </g>\n",
       "     </g>\n",
       "     <g id=\"text_1\">\n",
       "      <!-- 0 -->\n",
       "      <g transform=\"translate(61.570735 240.205685)scale(0.1 -0.1)\">\n",
       "       <defs>\n",
       "        <path d=\"M 2034 4250 \n",
       "Q 1547 4250 1301 3770 \n",
       "Q 1056 3291 1056 2328 \n",
       "Q 1056 1369 1301 889 \n",
       "Q 1547 409 2034 409 \n",
       "Q 2525 409 2770 889 \n",
       "Q 3016 1369 3016 2328 \n",
       "Q 3016 3291 2770 3770 \n",
       "Q 2525 4250 2034 4250 \n",
       "z\n",
       "M 2034 4750 \n",
       "Q 2819 4750 3233 4129 \n",
       "Q 3647 3509 3647 2328 \n",
       "Q 3647 1150 3233 529 \n",
       "Q 2819 -91 2034 -91 \n",
       "Q 1250 -91 836 529 \n",
       "Q 422 1150 422 2328 \n",
       "Q 422 3509 836 4129 \n",
       "Q 1250 4750 2034 4750 \n",
       "z\n",
       "\" id=\"DejaVuSans-30\" transform=\"scale(0.015625)\"/>\n",
       "       </defs>\n",
       "       <use xlink:href=\"#DejaVuSans-30\"/>\n",
       "      </g>\n",
       "     </g>\n",
       "    </g>\n",
       "    <g id=\"xtick_2\">\n",
       "     <g id=\"line2d_2\">\n",
       "      <g>\n",
       "       <use style=\"stroke:#000000;stroke-width:0.8;\" x=\"125.746701\" xlink:href=\"#maa8b0c8047\" y=\"225.607248\"/>\n",
       "      </g>\n",
       "     </g>\n",
       "     <g id=\"text_2\">\n",
       "      <!-- 100 -->\n",
       "      <g transform=\"translate(116.202951 240.205685)scale(0.1 -0.1)\">\n",
       "       <defs>\n",
       "        <path d=\"M 794 531 \n",
       "L 1825 531 \n",
       "L 1825 4091 \n",
       "L 703 3866 \n",
       "L 703 4441 \n",
       "L 1819 4666 \n",
       "L 2450 4666 \n",
       "L 2450 531 \n",
       "L 3481 531 \n",
       "L 3481 0 \n",
       "L 794 0 \n",
       "L 794 531 \n",
       "z\n",
       "\" id=\"DejaVuSans-31\" transform=\"scale(0.015625)\"/>\n",
       "       </defs>\n",
       "       <use xlink:href=\"#DejaVuSans-31\"/>\n",
       "       <use x=\"63.623047\" xlink:href=\"#DejaVuSans-30\"/>\n",
       "       <use x=\"127.246094\" xlink:href=\"#DejaVuSans-30\"/>\n",
       "      </g>\n",
       "     </g>\n",
       "    </g>\n",
       "    <g id=\"xtick_3\">\n",
       "     <g id=\"line2d_3\">\n",
       "      <g>\n",
       "       <use style=\"stroke:#000000;stroke-width:0.8;\" x=\"186.741418\" xlink:href=\"#maa8b0c8047\" y=\"225.607248\"/>\n",
       "      </g>\n",
       "     </g>\n",
       "     <g id=\"text_3\">\n",
       "      <!-- 200 -->\n",
       "      <g transform=\"translate(177.197668 240.205685)scale(0.1 -0.1)\">\n",
       "       <defs>\n",
       "        <path d=\"M 1228 531 \n",
       "L 3431 531 \n",
       "L 3431 0 \n",
       "L 469 0 \n",
       "L 469 531 \n",
       "Q 828 903 1448 1529 \n",
       "Q 2069 2156 2228 2338 \n",
       "Q 2531 2678 2651 2914 \n",
       "Q 2772 3150 2772 3378 \n",
       "Q 2772 3750 2511 3984 \n",
       "Q 2250 4219 1831 4219 \n",
       "Q 1534 4219 1204 4116 \n",
       "Q 875 4013 500 3803 \n",
       "L 500 4441 \n",
       "Q 881 4594 1212 4672 \n",
       "Q 1544 4750 1819 4750 \n",
       "Q 2544 4750 2975 4387 \n",
       "Q 3406 4025 3406 3419 \n",
       "Q 3406 3131 3298 2873 \n",
       "Q 3191 2616 2906 2266 \n",
       "Q 2828 2175 2409 1742 \n",
       "Q 1991 1309 1228 531 \n",
       "z\n",
       "\" id=\"DejaVuSans-32\" transform=\"scale(0.015625)\"/>\n",
       "       </defs>\n",
       "       <use xlink:href=\"#DejaVuSans-32\"/>\n",
       "       <use x=\"63.623047\" xlink:href=\"#DejaVuSans-30\"/>\n",
       "       <use x=\"127.246094\" xlink:href=\"#DejaVuSans-30\"/>\n",
       "      </g>\n",
       "     </g>\n",
       "    </g>\n",
       "    <g id=\"xtick_4\">\n",
       "     <g id=\"line2d_4\">\n",
       "      <g>\n",
       "       <use style=\"stroke:#000000;stroke-width:0.8;\" x=\"247.736135\" xlink:href=\"#maa8b0c8047\" y=\"225.607248\"/>\n",
       "      </g>\n",
       "     </g>\n",
       "     <g id=\"text_4\">\n",
       "      <!-- 300 -->\n",
       "      <g transform=\"translate(238.192385 240.205685)scale(0.1 -0.1)\">\n",
       "       <defs>\n",
       "        <path d=\"M 2597 2516 \n",
       "Q 3050 2419 3304 2112 \n",
       "Q 3559 1806 3559 1356 \n",
       "Q 3559 666 3084 287 \n",
       "Q 2609 -91 1734 -91 \n",
       "Q 1441 -91 1130 -33 \n",
       "Q 819 25 488 141 \n",
       "L 488 750 \n",
       "Q 750 597 1062 519 \n",
       "Q 1375 441 1716 441 \n",
       "Q 2309 441 2620 675 \n",
       "Q 2931 909 2931 1356 \n",
       "Q 2931 1769 2642 2001 \n",
       "Q 2353 2234 1838 2234 \n",
       "L 1294 2234 \n",
       "L 1294 2753 \n",
       "L 1863 2753 \n",
       "Q 2328 2753 2575 2939 \n",
       "Q 2822 3125 2822 3475 \n",
       "Q 2822 3834 2567 4026 \n",
       "Q 2313 4219 1838 4219 \n",
       "Q 1578 4219 1281 4162 \n",
       "Q 984 4106 628 3988 \n",
       "L 628 4550 \n",
       "Q 988 4650 1302 4700 \n",
       "Q 1616 4750 1894 4750 \n",
       "Q 2613 4750 3031 4423 \n",
       "Q 3450 4097 3450 3541 \n",
       "Q 3450 3153 3228 2886 \n",
       "Q 3006 2619 2597 2516 \n",
       "z\n",
       "\" id=\"DejaVuSans-33\" transform=\"scale(0.015625)\"/>\n",
       "       </defs>\n",
       "       <use xlink:href=\"#DejaVuSans-33\"/>\n",
       "       <use x=\"63.623047\" xlink:href=\"#DejaVuSans-30\"/>\n",
       "       <use x=\"127.246094\" xlink:href=\"#DejaVuSans-30\"/>\n",
       "      </g>\n",
       "     </g>\n",
       "    </g>\n",
       "    <g id=\"xtick_5\">\n",
       "     <g id=\"line2d_5\">\n",
       "      <g>\n",
       "       <use style=\"stroke:#000000;stroke-width:0.8;\" x=\"308.730851\" xlink:href=\"#maa8b0c8047\" y=\"225.607248\"/>\n",
       "      </g>\n",
       "     </g>\n",
       "     <g id=\"text_5\">\n",
       "      <!-- 400 -->\n",
       "      <g transform=\"translate(299.187101 240.205685)scale(0.1 -0.1)\">\n",
       "       <defs>\n",
       "        <path d=\"M 2419 4116 \n",
       "L 825 1625 \n",
       "L 2419 1625 \n",
       "L 2419 4116 \n",
       "z\n",
       "M 2253 4666 \n",
       "L 3047 4666 \n",
       "L 3047 1625 \n",
       "L 3713 1625 \n",
       "L 3713 1100 \n",
       "L 3047 1100 \n",
       "L 3047 0 \n",
       "L 2419 0 \n",
       "L 2419 1100 \n",
       "L 313 1100 \n",
       "L 313 1709 \n",
       "L 2253 4666 \n",
       "z\n",
       "\" id=\"DejaVuSans-34\" transform=\"scale(0.015625)\"/>\n",
       "       </defs>\n",
       "       <use xlink:href=\"#DejaVuSans-34\"/>\n",
       "       <use x=\"63.623047\" xlink:href=\"#DejaVuSans-30\"/>\n",
       "       <use x=\"127.246094\" xlink:href=\"#DejaVuSans-30\"/>\n",
       "      </g>\n",
       "     </g>\n",
       "    </g>\n",
       "    <g id=\"xtick_6\">\n",
       "     <g id=\"line2d_6\">\n",
       "      <g>\n",
       "       <use style=\"stroke:#000000;stroke-width:0.8;\" x=\"369.725568\" xlink:href=\"#maa8b0c8047\" y=\"225.607248\"/>\n",
       "      </g>\n",
       "     </g>\n",
       "     <g id=\"text_6\">\n",
       "      <!-- 500 -->\n",
       "      <g transform=\"translate(360.181818 240.205685)scale(0.1 -0.1)\">\n",
       "       <defs>\n",
       "        <path d=\"M 691 4666 \n",
       "L 3169 4666 \n",
       "L 3169 4134 \n",
       "L 1269 4134 \n",
       "L 1269 2991 \n",
       "Q 1406 3038 1543 3061 \n",
       "Q 1681 3084 1819 3084 \n",
       "Q 2600 3084 3056 2656 \n",
       "Q 3513 2228 3513 1497 \n",
       "Q 3513 744 3044 326 \n",
       "Q 2575 -91 1722 -91 \n",
       "Q 1428 -91 1123 -41 \n",
       "Q 819 9 494 109 \n",
       "L 494 744 \n",
       "Q 775 591 1075 516 \n",
       "Q 1375 441 1709 441 \n",
       "Q 2250 441 2565 725 \n",
       "Q 2881 1009 2881 1497 \n",
       "Q 2881 1984 2565 2268 \n",
       "Q 2250 2553 1709 2553 \n",
       "Q 1456 2553 1204 2497 \n",
       "Q 953 2441 691 2322 \n",
       "L 691 4666 \n",
       "z\n",
       "\" id=\"DejaVuSans-35\" transform=\"scale(0.015625)\"/>\n",
       "       </defs>\n",
       "       <use xlink:href=\"#DejaVuSans-35\"/>\n",
       "       <use x=\"63.623047\" xlink:href=\"#DejaVuSans-30\"/>\n",
       "       <use x=\"127.246094\" xlink:href=\"#DejaVuSans-30\"/>\n",
       "      </g>\n",
       "     </g>\n",
       "    </g>\n",
       "    <g id=\"text_7\">\n",
       "     <!-- Epochs -->\n",
       "     <g transform=\"translate(199.628125 253.88381)scale(0.1 -0.1)\">\n",
       "      <defs>\n",
       "       <path d=\"M 628 4666 \n",
       "L 3578 4666 \n",
       "L 3578 4134 \n",
       "L 1259 4134 \n",
       "L 1259 2753 \n",
       "L 3481 2753 \n",
       "L 3481 2222 \n",
       "L 1259 2222 \n",
       "L 1259 531 \n",
       "L 3634 531 \n",
       "L 3634 0 \n",
       "L 628 0 \n",
       "L 628 4666 \n",
       "z\n",
       "\" id=\"DejaVuSans-45\" transform=\"scale(0.015625)\"/>\n",
       "       <path d=\"M 1159 525 \n",
       "L 1159 -1331 \n",
       "L 581 -1331 \n",
       "L 581 3500 \n",
       "L 1159 3500 \n",
       "L 1159 2969 \n",
       "Q 1341 3281 1617 3432 \n",
       "Q 1894 3584 2278 3584 \n",
       "Q 2916 3584 3314 3078 \n",
       "Q 3713 2572 3713 1747 \n",
       "Q 3713 922 3314 415 \n",
       "Q 2916 -91 2278 -91 \n",
       "Q 1894 -91 1617 61 \n",
       "Q 1341 213 1159 525 \n",
       "z\n",
       "M 3116 1747 \n",
       "Q 3116 2381 2855 2742 \n",
       "Q 2594 3103 2138 3103 \n",
       "Q 1681 3103 1420 2742 \n",
       "Q 1159 2381 1159 1747 \n",
       "Q 1159 1113 1420 752 \n",
       "Q 1681 391 2138 391 \n",
       "Q 2594 391 2855 752 \n",
       "Q 3116 1113 3116 1747 \n",
       "z\n",
       "\" id=\"DejaVuSans-70\" transform=\"scale(0.015625)\"/>\n",
       "       <path d=\"M 1959 3097 \n",
       "Q 1497 3097 1228 2736 \n",
       "Q 959 2375 959 1747 \n",
       "Q 959 1119 1226 758 \n",
       "Q 1494 397 1959 397 \n",
       "Q 2419 397 2687 759 \n",
       "Q 2956 1122 2956 1747 \n",
       "Q 2956 2369 2687 2733 \n",
       "Q 2419 3097 1959 3097 \n",
       "z\n",
       "M 1959 3584 \n",
       "Q 2709 3584 3137 3096 \n",
       "Q 3566 2609 3566 1747 \n",
       "Q 3566 888 3137 398 \n",
       "Q 2709 -91 1959 -91 \n",
       "Q 1206 -91 779 398 \n",
       "Q 353 888 353 1747 \n",
       "Q 353 2609 779 3096 \n",
       "Q 1206 3584 1959 3584 \n",
       "z\n",
       "\" id=\"DejaVuSans-6f\" transform=\"scale(0.015625)\"/>\n",
       "       <path d=\"M 3122 3366 \n",
       "L 3122 2828 \n",
       "Q 2878 2963 2633 3030 \n",
       "Q 2388 3097 2138 3097 \n",
       "Q 1578 3097 1268 2742 \n",
       "Q 959 2388 959 1747 \n",
       "Q 959 1106 1268 751 \n",
       "Q 1578 397 2138 397 \n",
       "Q 2388 397 2633 464 \n",
       "Q 2878 531 3122 666 \n",
       "L 3122 134 \n",
       "Q 2881 22 2623 -34 \n",
       "Q 2366 -91 2075 -91 \n",
       "Q 1284 -91 818 406 \n",
       "Q 353 903 353 1747 \n",
       "Q 353 2603 823 3093 \n",
       "Q 1294 3584 2113 3584 \n",
       "Q 2378 3584 2631 3529 \n",
       "Q 2884 3475 3122 3366 \n",
       "z\n",
       "\" id=\"DejaVuSans-63\" transform=\"scale(0.015625)\"/>\n",
       "       <path d=\"M 3513 2113 \n",
       "L 3513 0 \n",
       "L 2938 0 \n",
       "L 2938 2094 \n",
       "Q 2938 2591 2744 2837 \n",
       "Q 2550 3084 2163 3084 \n",
       "Q 1697 3084 1428 2787 \n",
       "Q 1159 2491 1159 1978 \n",
       "L 1159 0 \n",
       "L 581 0 \n",
       "L 581 4863 \n",
       "L 1159 4863 \n",
       "L 1159 2956 \n",
       "Q 1366 3272 1645 3428 \n",
       "Q 1925 3584 2291 3584 \n",
       "Q 2894 3584 3203 3211 \n",
       "Q 3513 2838 3513 2113 \n",
       "z\n",
       "\" id=\"DejaVuSans-68\" transform=\"scale(0.015625)\"/>\n",
       "       <path d=\"M 2834 3397 \n",
       "L 2834 2853 \n",
       "Q 2591 2978 2328 3040 \n",
       "Q 2066 3103 1784 3103 \n",
       "Q 1356 3103 1142 2972 \n",
       "Q 928 2841 928 2578 \n",
       "Q 928 2378 1081 2264 \n",
       "Q 1234 2150 1697 2047 \n",
       "L 1894 2003 \n",
       "Q 2506 1872 2764 1633 \n",
       "Q 3022 1394 3022 966 \n",
       "Q 3022 478 2636 193 \n",
       "Q 2250 -91 1575 -91 \n",
       "Q 1294 -91 989 -36 \n",
       "Q 684 19 347 128 \n",
       "L 347 722 \n",
       "Q 666 556 975 473 \n",
       "Q 1284 391 1588 391 \n",
       "Q 1994 391 2212 530 \n",
       "Q 2431 669 2431 922 \n",
       "Q 2431 1156 2273 1281 \n",
       "Q 2116 1406 1581 1522 \n",
       "L 1381 1569 \n",
       "Q 847 1681 609 1914 \n",
       "Q 372 2147 372 2553 \n",
       "Q 372 3047 722 3315 \n",
       "Q 1072 3584 1716 3584 \n",
       "Q 2034 3584 2315 3537 \n",
       "Q 2597 3491 2834 3397 \n",
       "z\n",
       "\" id=\"DejaVuSans-73\" transform=\"scale(0.015625)\"/>\n",
       "      </defs>\n",
       "      <use xlink:href=\"#DejaVuSans-45\"/>\n",
       "      <use x=\"63.183594\" xlink:href=\"#DejaVuSans-70\"/>\n",
       "      <use x=\"126.660156\" xlink:href=\"#DejaVuSans-6f\"/>\n",
       "      <use x=\"187.841797\" xlink:href=\"#DejaVuSans-63\"/>\n",
       "      <use x=\"242.822266\" xlink:href=\"#DejaVuSans-68\"/>\n",
       "      <use x=\"306.201172\" xlink:href=\"#DejaVuSans-73\"/>\n",
       "     </g>\n",
       "    </g>\n",
       "   </g>\n",
       "   <g id=\"matplotlib.axis_2\">\n",
       "    <g id=\"ytick_1\">\n",
       "     <g id=\"line2d_7\">\n",
       "      <defs>\n",
       "       <path d=\"M 0 0 \n",
       "L -3.5 0 \n",
       "\" id=\"m30573b7ae7\" style=\"stroke:#000000;stroke-width:0.8;\"/>\n",
       "      </defs>\n",
       "      <g>\n",
       "       <use style=\"stroke:#000000;stroke-width:0.8;\" x=\"50.14375\" xlink:href=\"#m30573b7ae7\" y=\"212.80413\"/>\n",
       "      </g>\n",
       "     </g>\n",
       "     <g id=\"text_8\">\n",
       "      <!-- 2.5 -->\n",
       "      <g transform=\"translate(27.240625 216.603348)scale(0.1 -0.1)\">\n",
       "       <defs>\n",
       "        <path d=\"M 684 794 \n",
       "L 1344 794 \n",
       "L 1344 0 \n",
       "L 684 0 \n",
       "L 684 794 \n",
       "z\n",
       "\" id=\"DejaVuSans-2e\" transform=\"scale(0.015625)\"/>\n",
       "       </defs>\n",
       "       <use xlink:href=\"#DejaVuSans-32\"/>\n",
       "       <use x=\"63.623047\" xlink:href=\"#DejaVuSans-2e\"/>\n",
       "       <use x=\"95.410156\" xlink:href=\"#DejaVuSans-35\"/>\n",
       "      </g>\n",
       "     </g>\n",
       "    </g>\n",
       "    <g id=\"ytick_2\">\n",
       "     <g id=\"line2d_8\">\n",
       "      <g>\n",
       "       <use style=\"stroke:#000000;stroke-width:0.8;\" x=\"50.14375\" xlink:href=\"#m30573b7ae7\" y=\"183.974857\"/>\n",
       "      </g>\n",
       "     </g>\n",
       "     <g id=\"text_9\">\n",
       "      <!-- 5.0 -->\n",
       "      <g transform=\"translate(27.240625 187.774075)scale(0.1 -0.1)\">\n",
       "       <use xlink:href=\"#DejaVuSans-35\"/>\n",
       "       <use x=\"63.623047\" xlink:href=\"#DejaVuSans-2e\"/>\n",
       "       <use x=\"95.410156\" xlink:href=\"#DejaVuSans-30\"/>\n",
       "      </g>\n",
       "     </g>\n",
       "    </g>\n",
       "    <g id=\"ytick_3\">\n",
       "     <g id=\"line2d_9\">\n",
       "      <g>\n",
       "       <use style=\"stroke:#000000;stroke-width:0.8;\" x=\"50.14375\" xlink:href=\"#m30573b7ae7\" y=\"155.145584\"/>\n",
       "      </g>\n",
       "     </g>\n",
       "     <g id=\"text_10\">\n",
       "      <!-- 7.5 -->\n",
       "      <g transform=\"translate(27.240625 158.944802)scale(0.1 -0.1)\">\n",
       "       <defs>\n",
       "        <path d=\"M 525 4666 \n",
       "L 3525 4666 \n",
       "L 3525 4397 \n",
       "L 1831 0 \n",
       "L 1172 0 \n",
       "L 2766 4134 \n",
       "L 525 4134 \n",
       "L 525 4666 \n",
       "z\n",
       "\" id=\"DejaVuSans-37\" transform=\"scale(0.015625)\"/>\n",
       "       </defs>\n",
       "       <use xlink:href=\"#DejaVuSans-37\"/>\n",
       "       <use x=\"63.623047\" xlink:href=\"#DejaVuSans-2e\"/>\n",
       "       <use x=\"95.410156\" xlink:href=\"#DejaVuSans-35\"/>\n",
       "      </g>\n",
       "     </g>\n",
       "    </g>\n",
       "    <g id=\"ytick_4\">\n",
       "     <g id=\"line2d_10\">\n",
       "      <g>\n",
       "       <use style=\"stroke:#000000;stroke-width:0.8;\" x=\"50.14375\" xlink:href=\"#m30573b7ae7\" y=\"126.316311\"/>\n",
       "      </g>\n",
       "     </g>\n",
       "     <g id=\"text_11\">\n",
       "      <!-- 10.0 -->\n",
       "      <g transform=\"translate(20.878125 130.115529)scale(0.1 -0.1)\">\n",
       "       <use xlink:href=\"#DejaVuSans-31\"/>\n",
       "       <use x=\"63.623047\" xlink:href=\"#DejaVuSans-30\"/>\n",
       "       <use x=\"127.246094\" xlink:href=\"#DejaVuSans-2e\"/>\n",
       "       <use x=\"159.033203\" xlink:href=\"#DejaVuSans-30\"/>\n",
       "      </g>\n",
       "     </g>\n",
       "    </g>\n",
       "    <g id=\"ytick_5\">\n",
       "     <g id=\"line2d_11\">\n",
       "      <g>\n",
       "       <use style=\"stroke:#000000;stroke-width:0.8;\" x=\"50.14375\" xlink:href=\"#m30573b7ae7\" y=\"97.487038\"/>\n",
       "      </g>\n",
       "     </g>\n",
       "     <g id=\"text_12\">\n",
       "      <!-- 12.5 -->\n",
       "      <g transform=\"translate(20.878125 101.286256)scale(0.1 -0.1)\">\n",
       "       <use xlink:href=\"#DejaVuSans-31\"/>\n",
       "       <use x=\"63.623047\" xlink:href=\"#DejaVuSans-32\"/>\n",
       "       <use x=\"127.246094\" xlink:href=\"#DejaVuSans-2e\"/>\n",
       "       <use x=\"159.033203\" xlink:href=\"#DejaVuSans-35\"/>\n",
       "      </g>\n",
       "     </g>\n",
       "    </g>\n",
       "    <g id=\"ytick_6\">\n",
       "     <g id=\"line2d_12\">\n",
       "      <g>\n",
       "       <use style=\"stroke:#000000;stroke-width:0.8;\" x=\"50.14375\" xlink:href=\"#m30573b7ae7\" y=\"68.657765\"/>\n",
       "      </g>\n",
       "     </g>\n",
       "     <g id=\"text_13\">\n",
       "      <!-- 15.0 -->\n",
       "      <g transform=\"translate(20.878125 72.456983)scale(0.1 -0.1)\">\n",
       "       <use xlink:href=\"#DejaVuSans-31\"/>\n",
       "       <use x=\"63.623047\" xlink:href=\"#DejaVuSans-35\"/>\n",
       "       <use x=\"127.246094\" xlink:href=\"#DejaVuSans-2e\"/>\n",
       "       <use x=\"159.033203\" xlink:href=\"#DejaVuSans-30\"/>\n",
       "      </g>\n",
       "     </g>\n",
       "    </g>\n",
       "    <g id=\"ytick_7\">\n",
       "     <g id=\"line2d_13\">\n",
       "      <g>\n",
       "       <use style=\"stroke:#000000;stroke-width:0.8;\" x=\"50.14375\" xlink:href=\"#m30573b7ae7\" y=\"39.828492\"/>\n",
       "      </g>\n",
       "     </g>\n",
       "     <g id=\"text_14\">\n",
       "      <!-- 17.5 -->\n",
       "      <g transform=\"translate(20.878125 43.62771)scale(0.1 -0.1)\">\n",
       "       <use xlink:href=\"#DejaVuSans-31\"/>\n",
       "       <use x=\"63.623047\" xlink:href=\"#DejaVuSans-37\"/>\n",
       "       <use x=\"127.246094\" xlink:href=\"#DejaVuSans-2e\"/>\n",
       "       <use x=\"159.033203\" xlink:href=\"#DejaVuSans-35\"/>\n",
       "      </g>\n",
       "     </g>\n",
       "    </g>\n",
       "    <g id=\"ytick_8\">\n",
       "     <g id=\"line2d_14\">\n",
       "      <g>\n",
       "       <use style=\"stroke:#000000;stroke-width:0.8;\" x=\"50.14375\" xlink:href=\"#m30573b7ae7\" y=\"10.999219\"/>\n",
       "      </g>\n",
       "     </g>\n",
       "     <g id=\"text_15\">\n",
       "      <!-- 20.0 -->\n",
       "      <g transform=\"translate(20.878125 14.798437)scale(0.1 -0.1)\">\n",
       "       <use xlink:href=\"#DejaVuSans-32\"/>\n",
       "       <use x=\"63.623047\" xlink:href=\"#DejaVuSans-30\"/>\n",
       "       <use x=\"127.246094\" xlink:href=\"#DejaVuSans-2e\"/>\n",
       "       <use x=\"159.033203\" xlink:href=\"#DejaVuSans-30\"/>\n",
       "      </g>\n",
       "     </g>\n",
       "    </g>\n",
       "    <g id=\"text_16\">\n",
       "     <!-- Validation MAE -->\n",
       "     <g transform=\"translate(14.798438 154.060685)rotate(-90)scale(0.1 -0.1)\">\n",
       "      <defs>\n",
       "       <path d=\"M 1831 0 \n",
       "L 50 4666 \n",
       "L 709 4666 \n",
       "L 2188 738 \n",
       "L 3669 4666 \n",
       "L 4325 4666 \n",
       "L 2547 0 \n",
       "L 1831 0 \n",
       "z\n",
       "\" id=\"DejaVuSans-56\" transform=\"scale(0.015625)\"/>\n",
       "       <path d=\"M 2194 1759 \n",
       "Q 1497 1759 1228 1600 \n",
       "Q 959 1441 959 1056 \n",
       "Q 959 750 1161 570 \n",
       "Q 1363 391 1709 391 \n",
       "Q 2188 391 2477 730 \n",
       "Q 2766 1069 2766 1631 \n",
       "L 2766 1759 \n",
       "L 2194 1759 \n",
       "z\n",
       "M 3341 1997 \n",
       "L 3341 0 \n",
       "L 2766 0 \n",
       "L 2766 531 \n",
       "Q 2569 213 2275 61 \n",
       "Q 1981 -91 1556 -91 \n",
       "Q 1019 -91 701 211 \n",
       "Q 384 513 384 1019 \n",
       "Q 384 1609 779 1909 \n",
       "Q 1175 2209 1959 2209 \n",
       "L 2766 2209 \n",
       "L 2766 2266 \n",
       "Q 2766 2663 2505 2880 \n",
       "Q 2244 3097 1772 3097 \n",
       "Q 1472 3097 1187 3025 \n",
       "Q 903 2953 641 2809 \n",
       "L 641 3341 \n",
       "Q 956 3463 1253 3523 \n",
       "Q 1550 3584 1831 3584 \n",
       "Q 2591 3584 2966 3190 \n",
       "Q 3341 2797 3341 1997 \n",
       "z\n",
       "\" id=\"DejaVuSans-61\" transform=\"scale(0.015625)\"/>\n",
       "       <path d=\"M 603 4863 \n",
       "L 1178 4863 \n",
       "L 1178 0 \n",
       "L 603 0 \n",
       "L 603 4863 \n",
       "z\n",
       "\" id=\"DejaVuSans-6c\" transform=\"scale(0.015625)\"/>\n",
       "       <path d=\"M 603 3500 \n",
       "L 1178 3500 \n",
       "L 1178 0 \n",
       "L 603 0 \n",
       "L 603 3500 \n",
       "z\n",
       "M 603 4863 \n",
       "L 1178 4863 \n",
       "L 1178 4134 \n",
       "L 603 4134 \n",
       "L 603 4863 \n",
       "z\n",
       "\" id=\"DejaVuSans-69\" transform=\"scale(0.015625)\"/>\n",
       "       <path d=\"M 2906 2969 \n",
       "L 2906 4863 \n",
       "L 3481 4863 \n",
       "L 3481 0 \n",
       "L 2906 0 \n",
       "L 2906 525 \n",
       "Q 2725 213 2448 61 \n",
       "Q 2172 -91 1784 -91 \n",
       "Q 1150 -91 751 415 \n",
       "Q 353 922 353 1747 \n",
       "Q 353 2572 751 3078 \n",
       "Q 1150 3584 1784 3584 \n",
       "Q 2172 3584 2448 3432 \n",
       "Q 2725 3281 2906 2969 \n",
       "z\n",
       "M 947 1747 \n",
       "Q 947 1113 1208 752 \n",
       "Q 1469 391 1925 391 \n",
       "Q 2381 391 2643 752 \n",
       "Q 2906 1113 2906 1747 \n",
       "Q 2906 2381 2643 2742 \n",
       "Q 2381 3103 1925 3103 \n",
       "Q 1469 3103 1208 2742 \n",
       "Q 947 2381 947 1747 \n",
       "z\n",
       "\" id=\"DejaVuSans-64\" transform=\"scale(0.015625)\"/>\n",
       "       <path d=\"M 1172 4494 \n",
       "L 1172 3500 \n",
       "L 2356 3500 \n",
       "L 2356 3053 \n",
       "L 1172 3053 \n",
       "L 1172 1153 \n",
       "Q 1172 725 1289 603 \n",
       "Q 1406 481 1766 481 \n",
       "L 2356 481 \n",
       "L 2356 0 \n",
       "L 1766 0 \n",
       "Q 1100 0 847 248 \n",
       "Q 594 497 594 1153 \n",
       "L 594 3053 \n",
       "L 172 3053 \n",
       "L 172 3500 \n",
       "L 594 3500 \n",
       "L 594 4494 \n",
       "L 1172 4494 \n",
       "z\n",
       "\" id=\"DejaVuSans-74\" transform=\"scale(0.015625)\"/>\n",
       "       <path d=\"M 3513 2113 \n",
       "L 3513 0 \n",
       "L 2938 0 \n",
       "L 2938 2094 \n",
       "Q 2938 2591 2744 2837 \n",
       "Q 2550 3084 2163 3084 \n",
       "Q 1697 3084 1428 2787 \n",
       "Q 1159 2491 1159 1978 \n",
       "L 1159 0 \n",
       "L 581 0 \n",
       "L 581 3500 \n",
       "L 1159 3500 \n",
       "L 1159 2956 \n",
       "Q 1366 3272 1645 3428 \n",
       "Q 1925 3584 2291 3584 \n",
       "Q 2894 3584 3203 3211 \n",
       "Q 3513 2838 3513 2113 \n",
       "z\n",
       "\" id=\"DejaVuSans-6e\" transform=\"scale(0.015625)\"/>\n",
       "       <path id=\"DejaVuSans-20\" transform=\"scale(0.015625)\"/>\n",
       "       <path d=\"M 628 4666 \n",
       "L 1569 4666 \n",
       "L 2759 1491 \n",
       "L 3956 4666 \n",
       "L 4897 4666 \n",
       "L 4897 0 \n",
       "L 4281 0 \n",
       "L 4281 4097 \n",
       "L 3078 897 \n",
       "L 2444 897 \n",
       "L 1241 4097 \n",
       "L 1241 0 \n",
       "L 628 0 \n",
       "L 628 4666 \n",
       "z\n",
       "\" id=\"DejaVuSans-4d\" transform=\"scale(0.015625)\"/>\n",
       "       <path d=\"M 2188 4044 \n",
       "L 1331 1722 \n",
       "L 3047 1722 \n",
       "L 2188 4044 \n",
       "z\n",
       "M 1831 4666 \n",
       "L 2547 4666 \n",
       "L 4325 0 \n",
       "L 3669 0 \n",
       "L 3244 1197 \n",
       "L 1141 1197 \n",
       "L 716 0 \n",
       "L 50 0 \n",
       "L 1831 4666 \n",
       "z\n",
       "\" id=\"DejaVuSans-41\" transform=\"scale(0.015625)\"/>\n",
       "      </defs>\n",
       "      <use xlink:href=\"#DejaVuSans-56\"/>\n",
       "      <use x=\"60.658203\" xlink:href=\"#DejaVuSans-61\"/>\n",
       "      <use x=\"121.9375\" xlink:href=\"#DejaVuSans-6c\"/>\n",
       "      <use x=\"149.720703\" xlink:href=\"#DejaVuSans-69\"/>\n",
       "      <use x=\"177.503906\" xlink:href=\"#DejaVuSans-64\"/>\n",
       "      <use x=\"240.980469\" xlink:href=\"#DejaVuSans-61\"/>\n",
       "      <use x=\"302.259766\" xlink:href=\"#DejaVuSans-74\"/>\n",
       "      <use x=\"341.46875\" xlink:href=\"#DejaVuSans-69\"/>\n",
       "      <use x=\"369.251953\" xlink:href=\"#DejaVuSans-6f\"/>\n",
       "      <use x=\"430.433594\" xlink:href=\"#DejaVuSans-6e\"/>\n",
       "      <use x=\"493.8125\" xlink:href=\"#DejaVuSans-20\"/>\n",
       "      <use x=\"525.599609\" xlink:href=\"#DejaVuSans-4d\"/>\n",
       "      <use x=\"611.878906\" xlink:href=\"#DejaVuSans-41\"/>\n",
       "      <use x=\"680.287109\" xlink:href=\"#DejaVuSans-45\"/>\n",
       "     </g>\n",
       "    </g>\n",
       "   </g>\n",
       "   <g id=\"line2d_15\">\n",
       "    <path clip-path=\"url(#pe4218c9b4f)\" d=\"M 65.361932 18.050884 \n",
       "L 65.971879 57.817625 \n",
       "L 67.191773 145.331433 \n",
       "L 67.80172 169.022819 \n",
       "L 68.411668 181.645952 \n",
       "L 69.021615 189.693902 \n",
       "L 69.631562 194.901166 \n",
       "L 70.241509 198.375162 \n",
       "L 71.461403 202.51111 \n",
       "L 72.071351 204.139299 \n",
       "L 73.901192 207.05649 \n",
       "L 74.511139 207.256169 \n",
       "L 75.121086 208.432817 \n",
       "L 75.731034 208.815347 \n",
       "L 76.950928 210.282276 \n",
       "L 77.560875 210.636262 \n",
       "L 78.170822 211.165391 \n",
       "L 78.780769 211.188851 \n",
       "L 79.390717 211.828322 \n",
       "L 80.000664 211.587329 \n",
       "L 80.610611 212.019396 \n",
       "L 81.220558 211.376052 \n",
       "L 81.830505 212.82292 \n",
       "L 83.0504 211.928086 \n",
       "L 83.660347 212.954523 \n",
       "L 84.270294 212.545705 \n",
       "L 85.490188 213.197039 \n",
       "L 86.100135 212.271264 \n",
       "L 86.710083 212.95482 \n",
       "L 87.32003 212.867752 \n",
       "L 87.929977 212.910079 \n",
       "L 88.539924 212.619416 \n",
       "L 89.149871 212.477101 \n",
       "L 89.759819 213.489836 \n",
       "L 90.369766 213.770844 \n",
       "L 90.979713 213.1724 \n",
       "L 92.809554 213.79839 \n",
       "L 93.419502 213.968613 \n",
       "L 94.639396 213.755035 \n",
       "L 95.249343 213.798485 \n",
       "L 96.469237 213.21002 \n",
       "L 97.079185 213.730297 \n",
       "L 97.689132 214.403552 \n",
       "L 98.299079 213.805276 \n",
       "L 98.909026 214.485288 \n",
       "L 99.518973 214.451056 \n",
       "L 100.12892 213.495215 \n",
       "L 100.738868 214.176413 \n",
       "L 101.348815 213.204589 \n",
       "L 101.958762 214.211377 \n",
       "L 102.568709 214.421663 \n",
       "L 103.178656 214.19999 \n",
       "L 103.788603 214.376944 \n",
       "L 104.398551 214.306724 \n",
       "L 105.008498 214.603789 \n",
       "L 105.618445 214.59699 \n",
       "L 106.228392 213.653195 \n",
       "L 106.838339 214.591613 \n",
       "L 107.448286 214.83491 \n",
       "L 108.668181 214.430434 \n",
       "L 109.278128 214.557745 \n",
       "L 109.888075 214.869228 \n",
       "L 110.498022 214.630961 \n",
       "L 111.107969 214.555288 \n",
       "L 111.717917 215.102597 \n",
       "L 112.327864 214.730025 \n",
       "L 112.937811 214.986278 \n",
       "L 114.157705 214.962343 \n",
       "L 114.767652 215.097797 \n",
       "L 115.3776 213.958259 \n",
       "L 115.987547 214.695238 \n",
       "L 116.597494 214.600114 \n",
       "L 117.207441 215.045873 \n",
       "L 117.817388 214.195463 \n",
       "L 118.427335 214.813392 \n",
       "L 119.037283 214.631187 \n",
       "L 119.64723 214.714129 \n",
       "L 120.257177 214.435995 \n",
       "L 120.867124 214.591802 \n",
       "L 121.477071 214.95277 \n",
       "L 122.087018 214.722955 \n",
       "L 122.696966 215.021402 \n",
       "L 123.306913 214.528609 \n",
       "L 123.91686 214.871962 \n",
       "L 124.526807 214.568546 \n",
       "L 125.746701 214.393213 \n",
       "L 126.356649 214.660803 \n",
       "L 126.966596 215.146992 \n",
       "L 127.576543 215.181937 \n",
       "L 128.796437 214.183545 \n",
       "L 129.406384 215.349246 \n",
       "L 130.016332 215.072216 \n",
       "L 130.626279 214.951203 \n",
       "L 131.236226 215.048777 \n",
       "L 131.846173 214.84922 \n",
       "L 132.45612 215.006102 \n",
       "L 133.066067 214.252737 \n",
       "L 133.676015 214.73291 \n",
       "L 134.285962 213.529335 \n",
       "L 135.505856 214.477688 \n",
       "L 136.115803 214.285885 \n",
       "L 136.72575 215.432001 \n",
       "L 137.945645 215.261558 \n",
       "L 138.555592 215.511603 \n",
       "L 139.165539 215.119868 \n",
       "L 139.775486 214.514892 \n",
       "L 140.385433 215.663344 \n",
       "L 140.995381 215.29957 \n",
       "L 141.605328 215.613554 \n",
       "L 142.215275 215.137856 \n",
       "L 142.825222 215.539603 \n",
       "L 143.435169 215.278486 \n",
       "L 144.045116 214.390925 \n",
       "L 144.655064 214.204298 \n",
       "L 145.265011 215.148757 \n",
       "L 145.874958 215.103931 \n",
       "L 146.484905 214.848343 \n",
       "L 147.094852 215.210884 \n",
       "L 147.704799 214.586752 \n",
       "L 148.314747 214.815027 \n",
       "L 148.924694 214.623099 \n",
       "L 149.534641 215.486987 \n",
       "L 150.144588 215.168505 \n",
       "L 150.754535 214.563311 \n",
       "L 151.364482 214.513439 \n",
       "L 151.97443 214.705439 \n",
       "L 152.584377 215.723611 \n",
       "L 153.804271 215.121807 \n",
       "L 154.414218 214.542571 \n",
       "L 155.024165 215.523282 \n",
       "L 155.634113 214.62309 \n",
       "L 156.24406 215.14349 \n",
       "L 156.854007 215.273757 \n",
       "L 157.463954 215.251723 \n",
       "L 158.683848 214.720148 \n",
       "L 159.293796 214.28207 \n",
       "L 159.903743 214.971529 \n",
       "L 160.51369 215.065168 \n",
       "L 161.123637 214.709108 \n",
       "L 161.733584 215.389451 \n",
       "L 162.343531 215.283759 \n",
       "L 162.953479 215.052893 \n",
       "L 163.563426 214.214193 \n",
       "L 164.173373 215.476263 \n",
       "L 164.78332 215.272982 \n",
       "L 165.393267 214.866335 \n",
       "L 166.003214 215.171908 \n",
       "L 166.613162 214.691681 \n",
       "L 167.223109 214.586151 \n",
       "L 167.833056 214.189193 \n",
       "L 168.443003 214.425013 \n",
       "L 169.05295 214.505219 \n",
       "L 169.662897 214.91241 \n",
       "L 170.272845 214.845544 \n",
       "L 170.882792 214.607306 \n",
       "L 171.492739 215.072364 \n",
       "L 172.102686 215.071997 \n",
       "L 172.712633 214.349221 \n",
       "L 173.32258 214.87933 \n",
       "L 173.932528 215.119727 \n",
       "L 174.542475 214.562895 \n",
       "L 175.152422 213.849988 \n",
       "L 175.762369 213.903257 \n",
       "L 176.372316 214.876356 \n",
       "L 176.982263 214.177979 \n",
       "L 177.592211 214.848061 \n",
       "L 178.202158 214.283726 \n",
       "L 178.812105 215.01305 \n",
       "L 179.422052 213.159565 \n",
       "L 180.031999 215.092994 \n",
       "L 180.641946 214.879365 \n",
       "L 181.251894 214.303147 \n",
       "L 181.861841 214.539741 \n",
       "L 182.471788 214.426004 \n",
       "L 183.081735 214.641738 \n",
       "L 183.691682 213.907264 \n",
       "L 184.301629 214.589369 \n",
       "L 184.911577 214.13609 \n",
       "L 185.521524 214.062747 \n",
       "L 186.131471 214.82706 \n",
       "L 186.741418 213.282375 \n",
       "L 187.351365 214.285411 \n",
       "L 187.961312 213.980251 \n",
       "L 188.57126 214.373627 \n",
       "L 189.181207 214.117982 \n",
       "L 189.791154 214.257542 \n",
       "L 190.401101 214.176948 \n",
       "L 191.011048 214.67326 \n",
       "L 191.620995 214.136306 \n",
       "L 192.230943 215.037687 \n",
       "L 192.84089 214.145001 \n",
       "L 193.450837 214.333137 \n",
       "L 194.060784 214.098111 \n",
       "L 194.670731 214.216166 \n",
       "L 195.280678 214.497232 \n",
       "L 195.890626 214.245641 \n",
       "L 197.11052 213.425855 \n",
       "L 198.330414 214.020693 \n",
       "L 199.550309 214.293554 \n",
       "L 200.160256 213.666128 \n",
       "L 200.770203 213.689331 \n",
       "L 201.38015 213.58292 \n",
       "L 201.990097 214.415614 \n",
       "L 202.600044 213.521393 \n",
       "L 203.209992 214.151836 \n",
       "L 204.429886 213.897111 \n",
       "L 205.64978 212.938978 \n",
       "L 206.869675 213.928529 \n",
       "L 207.479622 213.744493 \n",
       "L 208.089569 214.450399 \n",
       "L 208.699516 213.912698 \n",
       "L 209.309463 213.025359 \n",
       "L 209.91941 213.061611 \n",
       "L 210.529358 213.51697 \n",
       "L 211.139305 214.299476 \n",
       "L 211.749252 212.86263 \n",
       "L 212.359199 213.053945 \n",
       "L 212.969146 213.689614 \n",
       "L 213.579093 213.639461 \n",
       "L 214.798988 213.96912 \n",
       "L 215.408935 213.83544 \n",
       "L 216.018882 213.861984 \n",
       "L 216.628829 213.618116 \n",
       "L 217.238776 213.809601 \n",
       "L 217.848724 213.808131 \n",
       "L 218.458671 212.937044 \n",
       "L 219.068618 213.636169 \n",
       "L 220.288512 214.165341 \n",
       "L 220.898459 213.917917 \n",
       "L 221.508407 214.219608 \n",
       "L 222.118354 213.052298 \n",
       "L 222.728301 213.382761 \n",
       "L 223.338248 212.924288 \n",
       "L 223.948195 213.945248 \n",
       "L 224.558142 213.094538 \n",
       "L 225.16809 213.548605 \n",
       "L 225.778037 213.693133 \n",
       "L 226.387984 213.464592 \n",
       "L 226.997931 214.108536 \n",
       "L 227.607878 214.07215 \n",
       "L 228.217825 213.36271 \n",
       "L 228.827773 212.153067 \n",
       "L 229.43772 213.802314 \n",
       "L 231.267561 212.752573 \n",
       "L 231.877508 213.37007 \n",
       "L 232.487456 212.344887 \n",
       "L 233.097403 212.581356 \n",
       "L 233.70735 213.818926 \n",
       "L 234.317297 213.392118 \n",
       "L 234.927244 213.359493 \n",
       "L 235.537191 212.659408 \n",
       "L 236.147139 213.265246 \n",
       "L 236.757086 213.209519 \n",
       "L 237.367033 212.000684 \n",
       "L 238.586927 213.543038 \n",
       "L 239.806822 213.94762 \n",
       "L 240.416769 212.843101 \n",
       "L 241.026716 213.657391 \n",
       "L 241.636663 213.53042 \n",
       "L 242.24661 213.671374 \n",
       "L 242.856557 213.51358 \n",
       "L 243.466505 213.127008 \n",
       "L 244.076452 213.399769 \n",
       "L 244.686399 213.098659 \n",
       "L 245.296346 212.220429 \n",
       "L 245.906293 213.24095 \n",
       "L 246.51624 212.992814 \n",
       "L 247.126188 213.050731 \n",
       "L 247.736135 213.85847 \n",
       "L 248.346082 213.201051 \n",
       "L 248.956029 213.562898 \n",
       "L 249.565976 212.651708 \n",
       "L 250.175923 212.931291 \n",
       "L 250.785871 213.375181 \n",
       "L 251.395818 213.431144 \n",
       "L 252.005765 213.237009 \n",
       "L 252.615712 212.475905 \n",
       "L 253.225659 213.278132 \n",
       "L 253.835606 213.161588 \n",
       "L 254.445554 213.289782 \n",
       "L 255.055501 213.82255 \n",
       "L 255.665448 213.115458 \n",
       "L 256.275395 213.293453 \n",
       "L 256.885342 212.464236 \n",
       "L 257.495289 213.462286 \n",
       "L 258.105237 212.158778 \n",
       "L 259.325131 213.048145 \n",
       "L 259.935078 212.860957 \n",
       "L 260.545025 212.848693 \n",
       "L 261.154972 212.661645 \n",
       "L 261.76492 213.404618 \n",
       "L 262.374867 212.103176 \n",
       "L 262.984814 212.70958 \n",
       "L 263.594761 213.049727 \n",
       "L 264.204708 212.958235 \n",
       "L 264.814655 212.733396 \n",
       "L 265.424603 213.001865 \n",
       "L 266.03455 212.728569 \n",
       "L 266.644497 213.024055 \n",
       "L 267.254444 211.79031 \n",
       "L 267.864391 213.475443 \n",
       "L 268.474338 212.232433 \n",
       "L 269.084286 212.463357 \n",
       "L 269.694233 212.872291 \n",
       "L 270.30418 212.427507 \n",
       "L 270.914127 212.685828 \n",
       "L 271.524074 213.22901 \n",
       "L 272.743969 212.712143 \n",
       "L 273.353916 212.823866 \n",
       "L 273.963863 213.178663 \n",
       "L 275.183757 213.015057 \n",
       "L 275.793704 213.274802 \n",
       "L 276.403652 212.352999 \n",
       "L 277.013599 212.610867 \n",
       "L 277.623546 212.659882 \n",
       "L 278.233493 212.914424 \n",
       "L 278.84344 212.860231 \n",
       "L 279.453387 211.764103 \n",
       "L 280.673282 213.346923 \n",
       "L 281.283229 212.450523 \n",
       "L 281.893176 213.515824 \n",
       "L 282.503123 212.309899 \n",
       "L 283.11307 212.597692 \n",
       "L 283.723018 213.077626 \n",
       "L 284.332965 212.51753 \n",
       "L 284.942912 212.796918 \n",
       "L 285.552859 212.801731 \n",
       "L 286.162806 211.722631 \n",
       "L 286.772753 213.434577 \n",
       "L 287.382701 212.601925 \n",
       "L 287.992648 213.372438 \n",
       "L 288.602595 213.342082 \n",
       "L 289.212542 213.081429 \n",
       "L 289.822489 213.056627 \n",
       "L 290.432436 211.503378 \n",
       "L 291.652331 212.788711 \n",
       "L 293.482172 212.504621 \n",
       "L 294.092119 213.029727 \n",
       "L 295.312014 212.321006 \n",
       "L 295.921961 211.8342 \n",
       "L 296.531908 212.923938 \n",
       "L 297.751802 212.336688 \n",
       "L 298.36175 212.46003 \n",
       "L 298.971697 212.841184 \n",
       "L 299.581644 212.212208 \n",
       "L 300.801538 212.747479 \n",
       "L 301.411485 212.155746 \n",
       "L 302.021433 212.821157 \n",
       "L 302.63138 212.071529 \n",
       "L 303.241327 213.105189 \n",
       "L 303.851274 212.211293 \n",
       "L 304.461221 213.118852 \n",
       "L 305.071168 212.280121 \n",
       "L 305.681116 213.125034 \n",
       "L 306.291063 211.915617 \n",
       "L 306.90101 212.865698 \n",
       "L 308.120904 213.001471 \n",
       "L 308.730851 211.89933 \n",
       "L 309.340799 212.899693 \n",
       "L 309.950746 212.735003 \n",
       "L 310.560693 212.176649 \n",
       "L 311.17064 211.424185 \n",
       "L 311.780587 212.18042 \n",
       "L 312.390534 212.352199 \n",
       "L 313.000482 212.017288 \n",
       "L 313.610429 212.214654 \n",
       "L 314.220376 212.600796 \n",
       "L 314.830323 212.675253 \n",
       "L 315.44027 213.081585 \n",
       "L 316.660165 212.09785 \n",
       "L 317.270112 212.744225 \n",
       "L 317.880059 212.665191 \n",
       "L 318.490006 212.05558 \n",
       "L 319.099953 211.889295 \n",
       "L 319.7099 212.130378 \n",
       "L 320.319848 211.921805 \n",
       "L 320.929795 212.709582 \n",
       "L 321.539742 212.737627 \n",
       "L 322.149689 212.572557 \n",
       "L 322.759636 212.195421 \n",
       "L 323.369583 212.738557 \n",
       "L 325.199425 212.347954 \n",
       "L 325.809372 212.400139 \n",
       "L 326.419319 210.996549 \n",
       "L 327.029266 212.429683 \n",
       "L 327.639214 211.180684 \n",
       "L 328.249161 212.636131 \n",
       "L 328.859108 211.944517 \n",
       "L 329.469055 212.068332 \n",
       "L 330.079002 211.833608 \n",
       "L 330.688949 212.890445 \n",
       "L 331.298897 212.704348 \n",
       "L 331.908844 211.627723 \n",
       "L 332.518791 211.972751 \n",
       "L 333.738685 212.239411 \n",
       "L 334.348632 212.708792 \n",
       "L 334.95858 212.7353 \n",
       "L 335.568527 212.358061 \n",
       "L 336.178474 212.469525 \n",
       "L 336.788421 211.944439 \n",
       "L 337.398368 211.616613 \n",
       "L 338.008315 210.859604 \n",
       "L 338.618263 212.018016 \n",
       "L 339.22821 212.283174 \n",
       "L 339.838157 211.925613 \n",
       "L 341.058051 211.562669 \n",
       "L 341.667998 212.803464 \n",
       "L 342.277946 212.214753 \n",
       "L 342.887893 211.969932 \n",
       "L 343.49784 211.354158 \n",
       "L 344.107787 212.08412 \n",
       "L 344.717734 212.140414 \n",
       "L 345.327681 212.766955 \n",
       "L 345.937629 212.477543 \n",
       "L 347.157523 211.126163 \n",
       "L 347.76747 212.247098 \n",
       "L 348.987365 212.151803 \n",
       "L 350.207259 211.638959 \n",
       "L 350.817206 211.928727 \n",
       "L 351.427153 212.050599 \n",
       "L 352.0371 212.585683 \n",
       "L 352.647048 212.040143 \n",
       "L 353.256995 212.043099 \n",
       "L 353.866942 212.356314 \n",
       "L 354.476889 211.720058 \n",
       "L 355.086836 211.946891 \n",
       "L 355.696783 211.856355 \n",
       "L 356.306731 212.033006 \n",
       "L 356.916678 211.679304 \n",
       "L 357.526625 212.082708 \n",
       "L 358.136572 211.621344 \n",
       "L 358.746519 212.151422 \n",
       "L 359.356466 211.790533 \n",
       "L 359.966414 212.169351 \n",
       "L 360.576361 211.449805 \n",
       "L 361.186308 211.5947 \n",
       "L 361.796255 212.279772 \n",
       "L 362.406202 212.140148 \n",
       "L 363.016149 210.98181 \n",
       "L 363.626097 212.129086 \n",
       "L 364.845991 211.428626 \n",
       "L 365.455938 212.090548 \n",
       "L 366.065885 211.519813 \n",
       "L 366.675832 211.86819 \n",
       "L 367.895727 211.448029 \n",
       "L 368.505674 211.988821 \n",
       "L 369.115621 212.180895 \n",
       "L 369.725568 212.24136 \n",
       "L 369.725568 212.24136 \n",
       "\" style=\"fill:none;stroke:#1f77b4;stroke-linecap:square;stroke-width:1.5;\"/>\n",
       "   </g>\n",
       "   <g id=\"patch_3\">\n",
       "    <path d=\"M 50.14375 225.607248 \n",
       "L 50.14375 8.167248 \n",
       "\" style=\"fill:none;stroke:#000000;stroke-linecap:square;stroke-linejoin:miter;stroke-width:0.8;\"/>\n",
       "   </g>\n",
       "   <g id=\"patch_4\">\n",
       "    <path d=\"M 384.94375 225.607248 \n",
       "L 384.94375 8.167248 \n",
       "\" style=\"fill:none;stroke:#000000;stroke-linecap:square;stroke-linejoin:miter;stroke-width:0.8;\"/>\n",
       "   </g>\n",
       "   <g id=\"patch_5\">\n",
       "    <path d=\"M 50.14375 225.607248 \n",
       "L 384.94375 225.607248 \n",
       "\" style=\"fill:none;stroke:#000000;stroke-linecap:square;stroke-linejoin:miter;stroke-width:0.8;\"/>\n",
       "   </g>\n",
       "   <g id=\"patch_6\">\n",
       "    <path d=\"M 50.14375 8.167248 \n",
       "L 384.94375 8.167248 \n",
       "\" style=\"fill:none;stroke:#000000;stroke-linecap:square;stroke-linejoin:miter;stroke-width:0.8;\"/>\n",
       "   </g>\n",
       "  </g>\n",
       " </g>\n",
       " <defs>\n",
       "  <clipPath id=\"pe4218c9b4f\">\n",
       "   <rect height=\"217.44\" width=\"334.8\" x=\"50.14375\" y=\"8.167248\"/>\n",
       "  </clipPath>\n",
       " </defs>\n",
       "</svg>\n"
      ],
      "text/plain": [
       "<Figure size 432x288 with 1 Axes>"
      ]
     },
     "metadata": {
      "needs_background": "light"
     },
     "output_type": "display_data"
    },
    {
     "name": "stdout",
     "output_type": "stream",
     "text": [
      "time: 181 ms (started: 2021-07-24 15:39:39 +08:00)\n"
     ]
    }
   ],
   "source": [
    "import matplotlib.pyplot as plt\n",
    "plt.plot(range(1, len(average_mae_history) + 1), average_mae_history)\n",
    "plt.xlabel(\"Epochs\")\n",
    "plt.ylabel(\"Validation MAE\")\n",
    "plt.show()"
   ]
  },
  {
   "cell_type": "markdown",
   "id": "fallen-corporation",
   "metadata": {},
   "source": [
    "由于缩放问题，阅读该图可能有点困难：前几个周期的验证 MAE 显着高于随后的值。 让我们省略前 10 个数据点，它们的比例与曲线的其余部分不同："
   ]
  },
  {
   "cell_type": "code",
   "execution_count": 32,
   "id": "nervous-track",
   "metadata": {},
   "outputs": [
    {
     "data": {
      "image/svg+xml": [
       "<?xml version=\"1.0\" encoding=\"utf-8\" standalone=\"no\"?>\n",
       "<!DOCTYPE svg PUBLIC \"-//W3C//DTD SVG 1.1//EN\"\n",
       "  \"http://www.w3.org/Graphics/SVG/1.1/DTD/svg11.dtd\">\n",
       "<svg height=\"262.19625pt\" version=\"1.1\" viewBox=\"0 0 386.331023 262.19625\" width=\"386.331023pt\" xmlns=\"http://www.w3.org/2000/svg\" xmlns:xlink=\"http://www.w3.org/1999/xlink\">\n",
       " <metadata>\n",
       "  <rdf:RDF xmlns:cc=\"http://creativecommons.org/ns#\" xmlns:dc=\"http://purl.org/dc/elements/1.1/\" xmlns:rdf=\"http://www.w3.org/1999/02/22-rdf-syntax-ns#\">\n",
       "   <cc:Work>\n",
       "    <dc:type rdf:resource=\"http://purl.org/dc/dcmitype/StillImage\"/>\n",
       "    <dc:date>2021-07-24T15:39:29.464709</dc:date>\n",
       "    <dc:format>image/svg+xml</dc:format>\n",
       "    <dc:creator>\n",
       "     <cc:Agent>\n",
       "      <dc:title>Matplotlib v3.4.2, https://matplotlib.org/</dc:title>\n",
       "     </cc:Agent>\n",
       "    </dc:creator>\n",
       "   </cc:Work>\n",
       "  </rdf:RDF>\n",
       " </metadata>\n",
       " <defs>\n",
       "  <style type=\"text/css\">*{stroke-linecap:butt;stroke-linejoin:round;}</style>\n",
       " </defs>\n",
       " <g id=\"figure_1\">\n",
       "  <g id=\"patch_1\">\n",
       "   <path d=\"M 0 262.19625 \n",
       "L 386.331023 262.19625 \n",
       "L 386.331023 0 \n",
       "L 0 0 \n",
       "z\n",
       "\" style=\"fill:none;\"/>\n",
       "  </g>\n",
       "  <g id=\"axes_1\">\n",
       "   <g id=\"patch_2\">\n",
       "    <path d=\"M 43.78125 224.64 \n",
       "L 378.58125 224.64 \n",
       "L 378.58125 7.2 \n",
       "L 43.78125 7.2 \n",
       "z\n",
       "\" style=\"fill:#ffffff;\"/>\n",
       "   </g>\n",
       "   <g id=\"matplotlib.axis_1\">\n",
       "    <g id=\"xtick_1\">\n",
       "     <g id=\"line2d_1\">\n",
       "      <defs>\n",
       "       <path d=\"M 0 0 \n",
       "L 0 3.5 \n",
       "\" id=\"m2dee987718\" style=\"stroke:#000000;stroke-width:0.8;\"/>\n",
       "      </defs>\n",
       "      <g>\n",
       "       <use style=\"stroke:#000000;stroke-width:0.8;\" x=\"58.377011\" xlink:href=\"#m2dee987718\" y=\"224.64\"/>\n",
       "      </g>\n",
       "     </g>\n",
       "     <g id=\"text_1\">\n",
       "      <!-- 0 -->\n",
       "      <g transform=\"translate(55.195761 239.238438)scale(0.1 -0.1)\">\n",
       "       <defs>\n",
       "        <path d=\"M 2034 4250 \n",
       "Q 1547 4250 1301 3770 \n",
       "Q 1056 3291 1056 2328 \n",
       "Q 1056 1369 1301 889 \n",
       "Q 1547 409 2034 409 \n",
       "Q 2525 409 2770 889 \n",
       "Q 3016 1369 3016 2328 \n",
       "Q 3016 3291 2770 3770 \n",
       "Q 2525 4250 2034 4250 \n",
       "z\n",
       "M 2034 4750 \n",
       "Q 2819 4750 3233 4129 \n",
       "Q 3647 3509 3647 2328 \n",
       "Q 3647 1150 3233 529 \n",
       "Q 2819 -91 2034 -91 \n",
       "Q 1250 -91 836 529 \n",
       "Q 422 1150 422 2328 \n",
       "Q 422 3509 836 4129 \n",
       "Q 1250 4750 2034 4750 \n",
       "z\n",
       "\" id=\"DejaVuSans-30\" transform=\"scale(0.015625)\"/>\n",
       "       </defs>\n",
       "       <use xlink:href=\"#DejaVuSans-30\"/>\n",
       "      </g>\n",
       "     </g>\n",
       "    </g>\n",
       "    <g id=\"xtick_2\">\n",
       "     <g id=\"line2d_2\">\n",
       "      <g>\n",
       "       <use style=\"stroke:#000000;stroke-width:0.8;\" x=\"120.619064\" xlink:href=\"#m2dee987718\" y=\"224.64\"/>\n",
       "      </g>\n",
       "     </g>\n",
       "     <g id=\"text_2\">\n",
       "      <!-- 100 -->\n",
       "      <g transform=\"translate(111.075314 239.238438)scale(0.1 -0.1)\">\n",
       "       <defs>\n",
       "        <path d=\"M 794 531 \n",
       "L 1825 531 \n",
       "L 1825 4091 \n",
       "L 703 3866 \n",
       "L 703 4441 \n",
       "L 1819 4666 \n",
       "L 2450 4666 \n",
       "L 2450 531 \n",
       "L 3481 531 \n",
       "L 3481 0 \n",
       "L 794 0 \n",
       "L 794 531 \n",
       "z\n",
       "\" id=\"DejaVuSans-31\" transform=\"scale(0.015625)\"/>\n",
       "       </defs>\n",
       "       <use xlink:href=\"#DejaVuSans-31\"/>\n",
       "       <use x=\"63.623047\" xlink:href=\"#DejaVuSans-30\"/>\n",
       "       <use x=\"127.246094\" xlink:href=\"#DejaVuSans-30\"/>\n",
       "      </g>\n",
       "     </g>\n",
       "    </g>\n",
       "    <g id=\"xtick_3\">\n",
       "     <g id=\"line2d_3\">\n",
       "      <g>\n",
       "       <use style=\"stroke:#000000;stroke-width:0.8;\" x=\"182.861116\" xlink:href=\"#m2dee987718\" y=\"224.64\"/>\n",
       "      </g>\n",
       "     </g>\n",
       "     <g id=\"text_3\">\n",
       "      <!-- 200 -->\n",
       "      <g transform=\"translate(173.317366 239.238438)scale(0.1 -0.1)\">\n",
       "       <defs>\n",
       "        <path d=\"M 1228 531 \n",
       "L 3431 531 \n",
       "L 3431 0 \n",
       "L 469 0 \n",
       "L 469 531 \n",
       "Q 828 903 1448 1529 \n",
       "Q 2069 2156 2228 2338 \n",
       "Q 2531 2678 2651 2914 \n",
       "Q 2772 3150 2772 3378 \n",
       "Q 2772 3750 2511 3984 \n",
       "Q 2250 4219 1831 4219 \n",
       "Q 1534 4219 1204 4116 \n",
       "Q 875 4013 500 3803 \n",
       "L 500 4441 \n",
       "Q 881 4594 1212 4672 \n",
       "Q 1544 4750 1819 4750 \n",
       "Q 2544 4750 2975 4387 \n",
       "Q 3406 4025 3406 3419 \n",
       "Q 3406 3131 3298 2873 \n",
       "Q 3191 2616 2906 2266 \n",
       "Q 2828 2175 2409 1742 \n",
       "Q 1991 1309 1228 531 \n",
       "z\n",
       "\" id=\"DejaVuSans-32\" transform=\"scale(0.015625)\"/>\n",
       "       </defs>\n",
       "       <use xlink:href=\"#DejaVuSans-32\"/>\n",
       "       <use x=\"63.623047\" xlink:href=\"#DejaVuSans-30\"/>\n",
       "       <use x=\"127.246094\" xlink:href=\"#DejaVuSans-30\"/>\n",
       "      </g>\n",
       "     </g>\n",
       "    </g>\n",
       "    <g id=\"xtick_4\">\n",
       "     <g id=\"line2d_4\">\n",
       "      <g>\n",
       "       <use style=\"stroke:#000000;stroke-width:0.8;\" x=\"245.103169\" xlink:href=\"#m2dee987718\" y=\"224.64\"/>\n",
       "      </g>\n",
       "     </g>\n",
       "     <g id=\"text_4\">\n",
       "      <!-- 300 -->\n",
       "      <g transform=\"translate(235.559419 239.238438)scale(0.1 -0.1)\">\n",
       "       <defs>\n",
       "        <path d=\"M 2597 2516 \n",
       "Q 3050 2419 3304 2112 \n",
       "Q 3559 1806 3559 1356 \n",
       "Q 3559 666 3084 287 \n",
       "Q 2609 -91 1734 -91 \n",
       "Q 1441 -91 1130 -33 \n",
       "Q 819 25 488 141 \n",
       "L 488 750 \n",
       "Q 750 597 1062 519 \n",
       "Q 1375 441 1716 441 \n",
       "Q 2309 441 2620 675 \n",
       "Q 2931 909 2931 1356 \n",
       "Q 2931 1769 2642 2001 \n",
       "Q 2353 2234 1838 2234 \n",
       "L 1294 2234 \n",
       "L 1294 2753 \n",
       "L 1863 2753 \n",
       "Q 2328 2753 2575 2939 \n",
       "Q 2822 3125 2822 3475 \n",
       "Q 2822 3834 2567 4026 \n",
       "Q 2313 4219 1838 4219 \n",
       "Q 1578 4219 1281 4162 \n",
       "Q 984 4106 628 3988 \n",
       "L 628 4550 \n",
       "Q 988 4650 1302 4700 \n",
       "Q 1616 4750 1894 4750 \n",
       "Q 2613 4750 3031 4423 \n",
       "Q 3450 4097 3450 3541 \n",
       "Q 3450 3153 3228 2886 \n",
       "Q 3006 2619 2597 2516 \n",
       "z\n",
       "\" id=\"DejaVuSans-33\" transform=\"scale(0.015625)\"/>\n",
       "       </defs>\n",
       "       <use xlink:href=\"#DejaVuSans-33\"/>\n",
       "       <use x=\"63.623047\" xlink:href=\"#DejaVuSans-30\"/>\n",
       "       <use x=\"127.246094\" xlink:href=\"#DejaVuSans-30\"/>\n",
       "      </g>\n",
       "     </g>\n",
       "    </g>\n",
       "    <g id=\"xtick_5\">\n",
       "     <g id=\"line2d_5\">\n",
       "      <g>\n",
       "       <use style=\"stroke:#000000;stroke-width:0.8;\" x=\"307.345221\" xlink:href=\"#m2dee987718\" y=\"224.64\"/>\n",
       "      </g>\n",
       "     </g>\n",
       "     <g id=\"text_5\">\n",
       "      <!-- 400 -->\n",
       "      <g transform=\"translate(297.801471 239.238438)scale(0.1 -0.1)\">\n",
       "       <defs>\n",
       "        <path d=\"M 2419 4116 \n",
       "L 825 1625 \n",
       "L 2419 1625 \n",
       "L 2419 4116 \n",
       "z\n",
       "M 2253 4666 \n",
       "L 3047 4666 \n",
       "L 3047 1625 \n",
       "L 3713 1625 \n",
       "L 3713 1100 \n",
       "L 3047 1100 \n",
       "L 3047 0 \n",
       "L 2419 0 \n",
       "L 2419 1100 \n",
       "L 313 1100 \n",
       "L 313 1709 \n",
       "L 2253 4666 \n",
       "z\n",
       "\" id=\"DejaVuSans-34\" transform=\"scale(0.015625)\"/>\n",
       "       </defs>\n",
       "       <use xlink:href=\"#DejaVuSans-34\"/>\n",
       "       <use x=\"63.623047\" xlink:href=\"#DejaVuSans-30\"/>\n",
       "       <use x=\"127.246094\" xlink:href=\"#DejaVuSans-30\"/>\n",
       "      </g>\n",
       "     </g>\n",
       "    </g>\n",
       "    <g id=\"xtick_6\">\n",
       "     <g id=\"line2d_6\">\n",
       "      <g>\n",
       "       <use style=\"stroke:#000000;stroke-width:0.8;\" x=\"369.587273\" xlink:href=\"#m2dee987718\" y=\"224.64\"/>\n",
       "      </g>\n",
       "     </g>\n",
       "     <g id=\"text_6\">\n",
       "      <!-- 500 -->\n",
       "      <g transform=\"translate(360.043523 239.238438)scale(0.1 -0.1)\">\n",
       "       <defs>\n",
       "        <path d=\"M 691 4666 \n",
       "L 3169 4666 \n",
       "L 3169 4134 \n",
       "L 1269 4134 \n",
       "L 1269 2991 \n",
       "Q 1406 3038 1543 3061 \n",
       "Q 1681 3084 1819 3084 \n",
       "Q 2600 3084 3056 2656 \n",
       "Q 3513 2228 3513 1497 \n",
       "Q 3513 744 3044 326 \n",
       "Q 2575 -91 1722 -91 \n",
       "Q 1428 -91 1123 -41 \n",
       "Q 819 9 494 109 \n",
       "L 494 744 \n",
       "Q 775 591 1075 516 \n",
       "Q 1375 441 1709 441 \n",
       "Q 2250 441 2565 725 \n",
       "Q 2881 1009 2881 1497 \n",
       "Q 2881 1984 2565 2268 \n",
       "Q 2250 2553 1709 2553 \n",
       "Q 1456 2553 1204 2497 \n",
       "Q 953 2441 691 2322 \n",
       "L 691 4666 \n",
       "z\n",
       "\" id=\"DejaVuSans-35\" transform=\"scale(0.015625)\"/>\n",
       "       </defs>\n",
       "       <use xlink:href=\"#DejaVuSans-35\"/>\n",
       "       <use x=\"63.623047\" xlink:href=\"#DejaVuSans-30\"/>\n",
       "       <use x=\"127.246094\" xlink:href=\"#DejaVuSans-30\"/>\n",
       "      </g>\n",
       "     </g>\n",
       "    </g>\n",
       "    <g id=\"text_7\">\n",
       "     <!-- Epochs -->\n",
       "     <g transform=\"translate(193.265625 252.916563)scale(0.1 -0.1)\">\n",
       "      <defs>\n",
       "       <path d=\"M 628 4666 \n",
       "L 3578 4666 \n",
       "L 3578 4134 \n",
       "L 1259 4134 \n",
       "L 1259 2753 \n",
       "L 3481 2753 \n",
       "L 3481 2222 \n",
       "L 1259 2222 \n",
       "L 1259 531 \n",
       "L 3634 531 \n",
       "L 3634 0 \n",
       "L 628 0 \n",
       "L 628 4666 \n",
       "z\n",
       "\" id=\"DejaVuSans-45\" transform=\"scale(0.015625)\"/>\n",
       "       <path d=\"M 1159 525 \n",
       "L 1159 -1331 \n",
       "L 581 -1331 \n",
       "L 581 3500 \n",
       "L 1159 3500 \n",
       "L 1159 2969 \n",
       "Q 1341 3281 1617 3432 \n",
       "Q 1894 3584 2278 3584 \n",
       "Q 2916 3584 3314 3078 \n",
       "Q 3713 2572 3713 1747 \n",
       "Q 3713 922 3314 415 \n",
       "Q 2916 -91 2278 -91 \n",
       "Q 1894 -91 1617 61 \n",
       "Q 1341 213 1159 525 \n",
       "z\n",
       "M 3116 1747 \n",
       "Q 3116 2381 2855 2742 \n",
       "Q 2594 3103 2138 3103 \n",
       "Q 1681 3103 1420 2742 \n",
       "Q 1159 2381 1159 1747 \n",
       "Q 1159 1113 1420 752 \n",
       "Q 1681 391 2138 391 \n",
       "Q 2594 391 2855 752 \n",
       "Q 3116 1113 3116 1747 \n",
       "z\n",
       "\" id=\"DejaVuSans-70\" transform=\"scale(0.015625)\"/>\n",
       "       <path d=\"M 1959 3097 \n",
       "Q 1497 3097 1228 2736 \n",
       "Q 959 2375 959 1747 \n",
       "Q 959 1119 1226 758 \n",
       "Q 1494 397 1959 397 \n",
       "Q 2419 397 2687 759 \n",
       "Q 2956 1122 2956 1747 \n",
       "Q 2956 2369 2687 2733 \n",
       "Q 2419 3097 1959 3097 \n",
       "z\n",
       "M 1959 3584 \n",
       "Q 2709 3584 3137 3096 \n",
       "Q 3566 2609 3566 1747 \n",
       "Q 3566 888 3137 398 \n",
       "Q 2709 -91 1959 -91 \n",
       "Q 1206 -91 779 398 \n",
       "Q 353 888 353 1747 \n",
       "Q 353 2609 779 3096 \n",
       "Q 1206 3584 1959 3584 \n",
       "z\n",
       "\" id=\"DejaVuSans-6f\" transform=\"scale(0.015625)\"/>\n",
       "       <path d=\"M 3122 3366 \n",
       "L 3122 2828 \n",
       "Q 2878 2963 2633 3030 \n",
       "Q 2388 3097 2138 3097 \n",
       "Q 1578 3097 1268 2742 \n",
       "Q 959 2388 959 1747 \n",
       "Q 959 1106 1268 751 \n",
       "Q 1578 397 2138 397 \n",
       "Q 2388 397 2633 464 \n",
       "Q 2878 531 3122 666 \n",
       "L 3122 134 \n",
       "Q 2881 22 2623 -34 \n",
       "Q 2366 -91 2075 -91 \n",
       "Q 1284 -91 818 406 \n",
       "Q 353 903 353 1747 \n",
       "Q 353 2603 823 3093 \n",
       "Q 1294 3584 2113 3584 \n",
       "Q 2378 3584 2631 3529 \n",
       "Q 2884 3475 3122 3366 \n",
       "z\n",
       "\" id=\"DejaVuSans-63\" transform=\"scale(0.015625)\"/>\n",
       "       <path d=\"M 3513 2113 \n",
       "L 3513 0 \n",
       "L 2938 0 \n",
       "L 2938 2094 \n",
       "Q 2938 2591 2744 2837 \n",
       "Q 2550 3084 2163 3084 \n",
       "Q 1697 3084 1428 2787 \n",
       "Q 1159 2491 1159 1978 \n",
       "L 1159 0 \n",
       "L 581 0 \n",
       "L 581 4863 \n",
       "L 1159 4863 \n",
       "L 1159 2956 \n",
       "Q 1366 3272 1645 3428 \n",
       "Q 1925 3584 2291 3584 \n",
       "Q 2894 3584 3203 3211 \n",
       "Q 3513 2838 3513 2113 \n",
       "z\n",
       "\" id=\"DejaVuSans-68\" transform=\"scale(0.015625)\"/>\n",
       "       <path d=\"M 2834 3397 \n",
       "L 2834 2853 \n",
       "Q 2591 2978 2328 3040 \n",
       "Q 2066 3103 1784 3103 \n",
       "Q 1356 3103 1142 2972 \n",
       "Q 928 2841 928 2578 \n",
       "Q 928 2378 1081 2264 \n",
       "Q 1234 2150 1697 2047 \n",
       "L 1894 2003 \n",
       "Q 2506 1872 2764 1633 \n",
       "Q 3022 1394 3022 966 \n",
       "Q 3022 478 2636 193 \n",
       "Q 2250 -91 1575 -91 \n",
       "Q 1294 -91 989 -36 \n",
       "Q 684 19 347 128 \n",
       "L 347 722 \n",
       "Q 666 556 975 473 \n",
       "Q 1284 391 1588 391 \n",
       "Q 1994 391 2212 530 \n",
       "Q 2431 669 2431 922 \n",
       "Q 2431 1156 2273 1281 \n",
       "Q 2116 1406 1581 1522 \n",
       "L 1381 1569 \n",
       "Q 847 1681 609 1914 \n",
       "Q 372 2147 372 2553 \n",
       "Q 372 3047 722 3315 \n",
       "Q 1072 3584 1716 3584 \n",
       "Q 2034 3584 2315 3537 \n",
       "Q 2597 3491 2834 3397 \n",
       "z\n",
       "\" id=\"DejaVuSans-73\" transform=\"scale(0.015625)\"/>\n",
       "      </defs>\n",
       "      <use xlink:href=\"#DejaVuSans-45\"/>\n",
       "      <use x=\"63.183594\" xlink:href=\"#DejaVuSans-70\"/>\n",
       "      <use x=\"126.660156\" xlink:href=\"#DejaVuSans-6f\"/>\n",
       "      <use x=\"187.841797\" xlink:href=\"#DejaVuSans-63\"/>\n",
       "      <use x=\"242.822266\" xlink:href=\"#DejaVuSans-68\"/>\n",
       "      <use x=\"306.201172\" xlink:href=\"#DejaVuSans-73\"/>\n",
       "     </g>\n",
       "    </g>\n",
       "   </g>\n",
       "   <g id=\"matplotlib.axis_2\">\n",
       "    <g id=\"ytick_1\">\n",
       "     <g id=\"line2d_7\">\n",
       "      <defs>\n",
       "       <path d=\"M 0 0 \n",
       "L -3.5 0 \n",
       "\" id=\"me2804e49c9\" style=\"stroke:#000000;stroke-width:0.8;\"/>\n",
       "      </defs>\n",
       "      <g>\n",
       "       <use style=\"stroke:#000000;stroke-width:0.8;\" x=\"43.78125\" xlink:href=\"#me2804e49c9\" y=\"222.83579\"/>\n",
       "      </g>\n",
       "     </g>\n",
       "     <g id=\"text_8\">\n",
       "      <!-- 2.2 -->\n",
       "      <g transform=\"translate(20.878125 226.635009)scale(0.1 -0.1)\">\n",
       "       <defs>\n",
       "        <path d=\"M 684 794 \n",
       "L 1344 794 \n",
       "L 1344 0 \n",
       "L 684 0 \n",
       "L 684 794 \n",
       "z\n",
       "\" id=\"DejaVuSans-2e\" transform=\"scale(0.015625)\"/>\n",
       "       </defs>\n",
       "       <use xlink:href=\"#DejaVuSans-32\"/>\n",
       "       <use x=\"63.623047\" xlink:href=\"#DejaVuSans-2e\"/>\n",
       "       <use x=\"95.410156\" xlink:href=\"#DejaVuSans-32\"/>\n",
       "      </g>\n",
       "     </g>\n",
       "    </g>\n",
       "    <g id=\"ytick_2\">\n",
       "     <g id=\"line2d_8\">\n",
       "      <g>\n",
       "       <use style=\"stroke:#000000;stroke-width:0.8;\" x=\"43.78125\" xlink:href=\"#me2804e49c9\" y=\"188.330523\"/>\n",
       "      </g>\n",
       "     </g>\n",
       "     <g id=\"text_9\">\n",
       "      <!-- 2.4 -->\n",
       "      <g transform=\"translate(20.878125 192.129742)scale(0.1 -0.1)\">\n",
       "       <use xlink:href=\"#DejaVuSans-32\"/>\n",
       "       <use x=\"63.623047\" xlink:href=\"#DejaVuSans-2e\"/>\n",
       "       <use x=\"95.410156\" xlink:href=\"#DejaVuSans-34\"/>\n",
       "      </g>\n",
       "     </g>\n",
       "    </g>\n",
       "    <g id=\"ytick_3\">\n",
       "     <g id=\"line2d_9\">\n",
       "      <g>\n",
       "       <use style=\"stroke:#000000;stroke-width:0.8;\" x=\"43.78125\" xlink:href=\"#me2804e49c9\" y=\"153.825255\"/>\n",
       "      </g>\n",
       "     </g>\n",
       "     <g id=\"text_10\">\n",
       "      <!-- 2.6 -->\n",
       "      <g transform=\"translate(20.878125 157.624474)scale(0.1 -0.1)\">\n",
       "       <defs>\n",
       "        <path d=\"M 2113 2584 \n",
       "Q 1688 2584 1439 2293 \n",
       "Q 1191 2003 1191 1497 \n",
       "Q 1191 994 1439 701 \n",
       "Q 1688 409 2113 409 \n",
       "Q 2538 409 2786 701 \n",
       "Q 3034 994 3034 1497 \n",
       "Q 3034 2003 2786 2293 \n",
       "Q 2538 2584 2113 2584 \n",
       "z\n",
       "M 3366 4563 \n",
       "L 3366 3988 \n",
       "Q 3128 4100 2886 4159 \n",
       "Q 2644 4219 2406 4219 \n",
       "Q 1781 4219 1451 3797 \n",
       "Q 1122 3375 1075 2522 \n",
       "Q 1259 2794 1537 2939 \n",
       "Q 1816 3084 2150 3084 \n",
       "Q 2853 3084 3261 2657 \n",
       "Q 3669 2231 3669 1497 \n",
       "Q 3669 778 3244 343 \n",
       "Q 2819 -91 2113 -91 \n",
       "Q 1303 -91 875 529 \n",
       "Q 447 1150 447 2328 \n",
       "Q 447 3434 972 4092 \n",
       "Q 1497 4750 2381 4750 \n",
       "Q 2619 4750 2861 4703 \n",
       "Q 3103 4656 3366 4563 \n",
       "z\n",
       "\" id=\"DejaVuSans-36\" transform=\"scale(0.015625)\"/>\n",
       "       </defs>\n",
       "       <use xlink:href=\"#DejaVuSans-32\"/>\n",
       "       <use x=\"63.623047\" xlink:href=\"#DejaVuSans-2e\"/>\n",
       "       <use x=\"95.410156\" xlink:href=\"#DejaVuSans-36\"/>\n",
       "      </g>\n",
       "     </g>\n",
       "    </g>\n",
       "    <g id=\"ytick_4\">\n",
       "     <g id=\"line2d_10\">\n",
       "      <g>\n",
       "       <use style=\"stroke:#000000;stroke-width:0.8;\" x=\"43.78125\" xlink:href=\"#me2804e49c9\" y=\"119.319988\"/>\n",
       "      </g>\n",
       "     </g>\n",
       "     <g id=\"text_11\">\n",
       "      <!-- 2.8 -->\n",
       "      <g transform=\"translate(20.878125 123.119207)scale(0.1 -0.1)\">\n",
       "       <defs>\n",
       "        <path d=\"M 2034 2216 \n",
       "Q 1584 2216 1326 1975 \n",
       "Q 1069 1734 1069 1313 \n",
       "Q 1069 891 1326 650 \n",
       "Q 1584 409 2034 409 \n",
       "Q 2484 409 2743 651 \n",
       "Q 3003 894 3003 1313 \n",
       "Q 3003 1734 2745 1975 \n",
       "Q 2488 2216 2034 2216 \n",
       "z\n",
       "M 1403 2484 \n",
       "Q 997 2584 770 2862 \n",
       "Q 544 3141 544 3541 \n",
       "Q 544 4100 942 4425 \n",
       "Q 1341 4750 2034 4750 \n",
       "Q 2731 4750 3128 4425 \n",
       "Q 3525 4100 3525 3541 \n",
       "Q 3525 3141 3298 2862 \n",
       "Q 3072 2584 2669 2484 \n",
       "Q 3125 2378 3379 2068 \n",
       "Q 3634 1759 3634 1313 \n",
       "Q 3634 634 3220 271 \n",
       "Q 2806 -91 2034 -91 \n",
       "Q 1263 -91 848 271 \n",
       "Q 434 634 434 1313 \n",
       "Q 434 1759 690 2068 \n",
       "Q 947 2378 1403 2484 \n",
       "z\n",
       "M 1172 3481 \n",
       "Q 1172 3119 1398 2916 \n",
       "Q 1625 2713 2034 2713 \n",
       "Q 2441 2713 2670 2916 \n",
       "Q 2900 3119 2900 3481 \n",
       "Q 2900 3844 2670 4047 \n",
       "Q 2441 4250 2034 4250 \n",
       "Q 1625 4250 1398 4047 \n",
       "Q 1172 3844 1172 3481 \n",
       "z\n",
       "\" id=\"DejaVuSans-38\" transform=\"scale(0.015625)\"/>\n",
       "       </defs>\n",
       "       <use xlink:href=\"#DejaVuSans-32\"/>\n",
       "       <use x=\"63.623047\" xlink:href=\"#DejaVuSans-2e\"/>\n",
       "       <use x=\"95.410156\" xlink:href=\"#DejaVuSans-38\"/>\n",
       "      </g>\n",
       "     </g>\n",
       "    </g>\n",
       "    <g id=\"ytick_5\">\n",
       "     <g id=\"line2d_11\">\n",
       "      <g>\n",
       "       <use style=\"stroke:#000000;stroke-width:0.8;\" x=\"43.78125\" xlink:href=\"#me2804e49c9\" y=\"84.81472\"/>\n",
       "      </g>\n",
       "     </g>\n",
       "     <g id=\"text_12\">\n",
       "      <!-- 3.0 -->\n",
       "      <g transform=\"translate(20.878125 88.613939)scale(0.1 -0.1)\">\n",
       "       <use xlink:href=\"#DejaVuSans-33\"/>\n",
       "       <use x=\"63.623047\" xlink:href=\"#DejaVuSans-2e\"/>\n",
       "       <use x=\"95.410156\" xlink:href=\"#DejaVuSans-30\"/>\n",
       "      </g>\n",
       "     </g>\n",
       "    </g>\n",
       "    <g id=\"ytick_6\">\n",
       "     <g id=\"line2d_12\">\n",
       "      <g>\n",
       "       <use style=\"stroke:#000000;stroke-width:0.8;\" x=\"43.78125\" xlink:href=\"#me2804e49c9\" y=\"50.309453\"/>\n",
       "      </g>\n",
       "     </g>\n",
       "     <g id=\"text_13\">\n",
       "      <!-- 3.2 -->\n",
       "      <g transform=\"translate(20.878125 54.108672)scale(0.1 -0.1)\">\n",
       "       <use xlink:href=\"#DejaVuSans-33\"/>\n",
       "       <use x=\"63.623047\" xlink:href=\"#DejaVuSans-2e\"/>\n",
       "       <use x=\"95.410156\" xlink:href=\"#DejaVuSans-32\"/>\n",
       "      </g>\n",
       "     </g>\n",
       "    </g>\n",
       "    <g id=\"ytick_7\">\n",
       "     <g id=\"line2d_13\">\n",
       "      <g>\n",
       "       <use style=\"stroke:#000000;stroke-width:0.8;\" x=\"43.78125\" xlink:href=\"#me2804e49c9\" y=\"15.804186\"/>\n",
       "      </g>\n",
       "     </g>\n",
       "     <g id=\"text_14\">\n",
       "      <!-- 3.4 -->\n",
       "      <g transform=\"translate(20.878125 19.603404)scale(0.1 -0.1)\">\n",
       "       <use xlink:href=\"#DejaVuSans-33\"/>\n",
       "       <use x=\"63.623047\" xlink:href=\"#DejaVuSans-2e\"/>\n",
       "       <use x=\"95.410156\" xlink:href=\"#DejaVuSans-34\"/>\n",
       "      </g>\n",
       "     </g>\n",
       "    </g>\n",
       "    <g id=\"text_15\">\n",
       "     <!-- Validation MAE -->\n",
       "     <g transform=\"translate(14.798438 153.093438)rotate(-90)scale(0.1 -0.1)\">\n",
       "      <defs>\n",
       "       <path d=\"M 1831 0 \n",
       "L 50 4666 \n",
       "L 709 4666 \n",
       "L 2188 738 \n",
       "L 3669 4666 \n",
       "L 4325 4666 \n",
       "L 2547 0 \n",
       "L 1831 0 \n",
       "z\n",
       "\" id=\"DejaVuSans-56\" transform=\"scale(0.015625)\"/>\n",
       "       <path d=\"M 2194 1759 \n",
       "Q 1497 1759 1228 1600 \n",
       "Q 959 1441 959 1056 \n",
       "Q 959 750 1161 570 \n",
       "Q 1363 391 1709 391 \n",
       "Q 2188 391 2477 730 \n",
       "Q 2766 1069 2766 1631 \n",
       "L 2766 1759 \n",
       "L 2194 1759 \n",
       "z\n",
       "M 3341 1997 \n",
       "L 3341 0 \n",
       "L 2766 0 \n",
       "L 2766 531 \n",
       "Q 2569 213 2275 61 \n",
       "Q 1981 -91 1556 -91 \n",
       "Q 1019 -91 701 211 \n",
       "Q 384 513 384 1019 \n",
       "Q 384 1609 779 1909 \n",
       "Q 1175 2209 1959 2209 \n",
       "L 2766 2209 \n",
       "L 2766 2266 \n",
       "Q 2766 2663 2505 2880 \n",
       "Q 2244 3097 1772 3097 \n",
       "Q 1472 3097 1187 3025 \n",
       "Q 903 2953 641 2809 \n",
       "L 641 3341 \n",
       "Q 956 3463 1253 3523 \n",
       "Q 1550 3584 1831 3584 \n",
       "Q 2591 3584 2966 3190 \n",
       "Q 3341 2797 3341 1997 \n",
       "z\n",
       "\" id=\"DejaVuSans-61\" transform=\"scale(0.015625)\"/>\n",
       "       <path d=\"M 603 4863 \n",
       "L 1178 4863 \n",
       "L 1178 0 \n",
       "L 603 0 \n",
       "L 603 4863 \n",
       "z\n",
       "\" id=\"DejaVuSans-6c\" transform=\"scale(0.015625)\"/>\n",
       "       <path d=\"M 603 3500 \n",
       "L 1178 3500 \n",
       "L 1178 0 \n",
       "L 603 0 \n",
       "L 603 3500 \n",
       "z\n",
       "M 603 4863 \n",
       "L 1178 4863 \n",
       "L 1178 4134 \n",
       "L 603 4134 \n",
       "L 603 4863 \n",
       "z\n",
       "\" id=\"DejaVuSans-69\" transform=\"scale(0.015625)\"/>\n",
       "       <path d=\"M 2906 2969 \n",
       "L 2906 4863 \n",
       "L 3481 4863 \n",
       "L 3481 0 \n",
       "L 2906 0 \n",
       "L 2906 525 \n",
       "Q 2725 213 2448 61 \n",
       "Q 2172 -91 1784 -91 \n",
       "Q 1150 -91 751 415 \n",
       "Q 353 922 353 1747 \n",
       "Q 353 2572 751 3078 \n",
       "Q 1150 3584 1784 3584 \n",
       "Q 2172 3584 2448 3432 \n",
       "Q 2725 3281 2906 2969 \n",
       "z\n",
       "M 947 1747 \n",
       "Q 947 1113 1208 752 \n",
       "Q 1469 391 1925 391 \n",
       "Q 2381 391 2643 752 \n",
       "Q 2906 1113 2906 1747 \n",
       "Q 2906 2381 2643 2742 \n",
       "Q 2381 3103 1925 3103 \n",
       "Q 1469 3103 1208 2742 \n",
       "Q 947 2381 947 1747 \n",
       "z\n",
       "\" id=\"DejaVuSans-64\" transform=\"scale(0.015625)\"/>\n",
       "       <path d=\"M 1172 4494 \n",
       "L 1172 3500 \n",
       "L 2356 3500 \n",
       "L 2356 3053 \n",
       "L 1172 3053 \n",
       "L 1172 1153 \n",
       "Q 1172 725 1289 603 \n",
       "Q 1406 481 1766 481 \n",
       "L 2356 481 \n",
       "L 2356 0 \n",
       "L 1766 0 \n",
       "Q 1100 0 847 248 \n",
       "Q 594 497 594 1153 \n",
       "L 594 3053 \n",
       "L 172 3053 \n",
       "L 172 3500 \n",
       "L 594 3500 \n",
       "L 594 4494 \n",
       "L 1172 4494 \n",
       "z\n",
       "\" id=\"DejaVuSans-74\" transform=\"scale(0.015625)\"/>\n",
       "       <path d=\"M 3513 2113 \n",
       "L 3513 0 \n",
       "L 2938 0 \n",
       "L 2938 2094 \n",
       "Q 2938 2591 2744 2837 \n",
       "Q 2550 3084 2163 3084 \n",
       "Q 1697 3084 1428 2787 \n",
       "Q 1159 2491 1159 1978 \n",
       "L 1159 0 \n",
       "L 581 0 \n",
       "L 581 3500 \n",
       "L 1159 3500 \n",
       "L 1159 2956 \n",
       "Q 1366 3272 1645 3428 \n",
       "Q 1925 3584 2291 3584 \n",
       "Q 2894 3584 3203 3211 \n",
       "Q 3513 2838 3513 2113 \n",
       "z\n",
       "\" id=\"DejaVuSans-6e\" transform=\"scale(0.015625)\"/>\n",
       "       <path id=\"DejaVuSans-20\" transform=\"scale(0.015625)\"/>\n",
       "       <path d=\"M 628 4666 \n",
       "L 1569 4666 \n",
       "L 2759 1491 \n",
       "L 3956 4666 \n",
       "L 4897 4666 \n",
       "L 4897 0 \n",
       "L 4281 0 \n",
       "L 4281 4097 \n",
       "L 3078 897 \n",
       "L 2444 897 \n",
       "L 1241 4097 \n",
       "L 1241 0 \n",
       "L 628 0 \n",
       "L 628 4666 \n",
       "z\n",
       "\" id=\"DejaVuSans-4d\" transform=\"scale(0.015625)\"/>\n",
       "       <path d=\"M 2188 4044 \n",
       "L 1331 1722 \n",
       "L 3047 1722 \n",
       "L 2188 4044 \n",
       "z\n",
       "M 1831 4666 \n",
       "L 2547 4666 \n",
       "L 4325 0 \n",
       "L 3669 0 \n",
       "L 3244 1197 \n",
       "L 1141 1197 \n",
       "L 716 0 \n",
       "L 50 0 \n",
       "L 1831 4666 \n",
       "z\n",
       "\" id=\"DejaVuSans-41\" transform=\"scale(0.015625)\"/>\n",
       "      </defs>\n",
       "      <use xlink:href=\"#DejaVuSans-56\"/>\n",
       "      <use x=\"60.658203\" xlink:href=\"#DejaVuSans-61\"/>\n",
       "      <use x=\"121.9375\" xlink:href=\"#DejaVuSans-6c\"/>\n",
       "      <use x=\"149.720703\" xlink:href=\"#DejaVuSans-69\"/>\n",
       "      <use x=\"177.503906\" xlink:href=\"#DejaVuSans-64\"/>\n",
       "      <use x=\"240.980469\" xlink:href=\"#DejaVuSans-61\"/>\n",
       "      <use x=\"302.259766\" xlink:href=\"#DejaVuSans-74\"/>\n",
       "      <use x=\"341.46875\" xlink:href=\"#DejaVuSans-69\"/>\n",
       "      <use x=\"369.251953\" xlink:href=\"#DejaVuSans-6f\"/>\n",
       "      <use x=\"430.433594\" xlink:href=\"#DejaVuSans-6e\"/>\n",
       "      <use x=\"493.8125\" xlink:href=\"#DejaVuSans-20\"/>\n",
       "      <use x=\"525.599609\" xlink:href=\"#DejaVuSans-4d\"/>\n",
       "      <use x=\"611.878906\" xlink:href=\"#DejaVuSans-41\"/>\n",
       "      <use x=\"680.287109\" xlink:href=\"#DejaVuSans-45\"/>\n",
       "     </g>\n",
       "    </g>\n",
       "   </g>\n",
       "   <g id=\"line2d_14\">\n",
       "    <path clip-path=\"url(#p2135834311)\" d=\"M 58.999432 17.083636 \n",
       "L 59.621852 41.44303 \n",
       "L 61.489114 85.08723 \n",
       "L 62.111534 88.074642 \n",
       "L 62.733955 105.678518 \n",
       "L 63.356375 111.401564 \n",
       "L 64.601217 133.348345 \n",
       "L 65.223637 138.644332 \n",
       "L 65.846058 146.560656 \n",
       "L 66.468478 146.911648 \n",
       "L 67.090899 156.478793 \n",
       "L 67.713319 152.873289 \n",
       "L 68.33574 159.337457 \n",
       "L 68.95816 149.712366 \n",
       "L 69.580581 171.359016 \n",
       "L 70.203001 163.638076 \n",
       "L 70.825422 157.971362 \n",
       "L 71.447842 173.327932 \n",
       "L 72.070263 167.211588 \n",
       "L 73.315104 176.956214 \n",
       "L 73.937524 163.105665 \n",
       "L 74.559945 173.332374 \n",
       "L 75.182365 172.029749 \n",
       "L 75.804786 172.663009 \n",
       "L 76.427206 168.314387 \n",
       "L 77.049627 166.185205 \n",
       "L 77.672048 181.336775 \n",
       "L 78.294468 185.540936 \n",
       "L 78.916889 176.587596 \n",
       "L 79.539309 180.093218 \n",
       "L 80.16173 184.671385 \n",
       "L 80.78415 185.953053 \n",
       "L 81.406571 188.499771 \n",
       "L 82.028991 186.427599 \n",
       "L 82.651412 185.304419 \n",
       "L 83.273832 185.954482 \n",
       "L 83.896253 180.682157 \n",
       "L 84.518673 177.150436 \n",
       "L 85.141094 184.93432 \n",
       "L 85.763514 195.006913 \n",
       "L 86.385935 186.056071 \n",
       "L 87.008355 196.22976 \n",
       "L 87.630776 195.717623 \n",
       "L 88.253196 181.417243 \n",
       "L 88.875617 191.60867 \n",
       "L 89.498038 177.069176 \n",
       "L 90.120458 192.131765 \n",
       "L 90.742879 195.27787 \n",
       "L 91.365299 191.96141 \n",
       "L 91.98772 194.608823 \n",
       "L 92.61014 193.558253 \n",
       "L 93.232561 198.00266 \n",
       "L 93.854981 197.900936 \n",
       "L 94.477402 183.780783 \n",
       "L 95.099822 197.820495 \n",
       "L 95.722243 201.460474 \n",
       "L 96.967084 195.409085 \n",
       "L 97.589504 197.313802 \n",
       "L 98.211925 201.973907 \n",
       "L 98.834345 198.409177 \n",
       "L 99.456766 197.277039 \n",
       "L 100.079186 205.465343 \n",
       "L 100.701607 199.891278 \n",
       "L 101.324027 203.725093 \n",
       "L 101.946448 203.626059 \n",
       "L 102.568869 203.367006 \n",
       "L 103.191289 205.393529 \n",
       "L 103.81371 188.344862 \n",
       "L 104.43613 199.370836 \n",
       "L 105.058551 197.947679 \n",
       "L 105.680971 204.616703 \n",
       "L 106.303392 191.893684 \n",
       "L 106.925812 201.138532 \n",
       "L 107.548233 198.412565 \n",
       "L 108.170653 199.653465 \n",
       "L 108.793074 195.492288 \n",
       "L 109.415494 197.823323 \n",
       "L 110.037915 203.223779 \n",
       "L 110.660335 199.785513 \n",
       "L 111.282756 204.250589 \n",
       "L 111.905176 196.87789 \n",
       "L 112.527597 202.014809 \n",
       "L 113.150017 197.475385 \n",
       "L 113.772438 195.798753 \n",
       "L 114.394858 194.852231 \n",
       "L 115.017279 198.85565 \n",
       "L 115.6397 206.129541 \n",
       "L 116.26212 206.652358 \n",
       "L 117.506961 191.71537 \n",
       "L 118.129382 209.155474 \n",
       "L 118.751802 205.010808 \n",
       "L 119.374223 203.200338 \n",
       "L 119.996643 204.66014 \n",
       "L 120.619064 201.674569 \n",
       "L 121.241484 204.021686 \n",
       "L 121.863905 192.750556 \n",
       "L 122.486325 199.934447 \n",
       "L 123.108746 181.927709 \n",
       "L 123.731166 189.863294 \n",
       "L 124.353587 196.116062 \n",
       "L 124.976007 193.246492 \n",
       "L 125.598428 210.393566 \n",
       "L 126.843269 207.843573 \n",
       "L 127.465689 211.584499 \n",
       "L 128.08811 205.723738 \n",
       "L 128.710531 196.67267 \n",
       "L 129.332951 213.854697 \n",
       "L 129.955372 208.412269 \n",
       "L 130.577792 213.109801 \n",
       "L 131.200213 205.992859 \n",
       "L 131.822633 212.003413 \n",
       "L 132.445054 208.096827 \n",
       "L 133.067474 194.817997 \n",
       "L 133.689895 192.025867 \n",
       "L 134.312315 206.155949 \n",
       "L 134.934736 205.485308 \n",
       "L 135.557156 201.661437 \n",
       "L 136.179577 207.085432 \n",
       "L 136.801997 197.747771 \n",
       "L 137.424418 201.162997 \n",
       "L 138.046838 198.291555 \n",
       "L 138.669259 211.216215 \n",
       "L 139.291679 206.451395 \n",
       "L 139.9141 197.397067 \n",
       "L 140.53652 196.650936 \n",
       "L 141.158941 199.523452 \n",
       "L 141.781362 214.756364 \n",
       "L 143.026203 205.752748 \n",
       "L 143.648623 197.086776 \n",
       "L 144.271044 211.759234 \n",
       "L 144.893464 198.291422 \n",
       "L 145.515885 206.077147 \n",
       "L 146.138305 208.026072 \n",
       "L 146.760726 207.696434 \n",
       "L 148.005567 199.743506 \n",
       "L 148.627987 193.189409 \n",
       "L 149.250408 203.504428 \n",
       "L 149.872828 204.905367 \n",
       "L 150.495249 199.578344 \n",
       "L 151.117669 209.756985 \n",
       "L 151.74009 208.175721 \n",
       "L 152.36251 204.721716 \n",
       "L 152.984931 192.173906 \n",
       "L 153.607352 211.055774 \n",
       "L 154.229772 208.014483 \n",
       "L 154.852193 201.930614 \n",
       "L 155.474613 206.502313 \n",
       "L 156.097034 199.317615 \n",
       "L 156.719454 197.738783 \n",
       "L 157.341875 191.799879 \n",
       "L 157.964295 195.32798 \n",
       "L 158.586716 196.527957 \n",
       "L 159.209136 202.61995 \n",
       "L 159.831557 201.619573 \n",
       "L 160.453977 198.055274 \n",
       "L 161.076398 205.013024 \n",
       "L 161.698818 205.007543 \n",
       "L 162.321239 194.194064 \n",
       "L 162.943659 202.125042 \n",
       "L 163.56608 205.721625 \n",
       "L 164.1885 197.390845 \n",
       "L 164.810921 186.725015 \n",
       "L 165.433341 187.521976 \n",
       "L 166.055762 202.080546 \n",
       "L 166.678183 191.632096 \n",
       "L 167.300603 201.657231 \n",
       "L 167.923024 193.214182 \n",
       "L 168.545444 204.125631 \n",
       "L 169.167865 176.395564 \n",
       "L 169.790285 205.321679 \n",
       "L 170.412706 202.125566 \n",
       "L 171.035126 193.504749 \n",
       "L 171.657547 197.04444 \n",
       "L 172.279967 195.342819 \n",
       "L 172.902388 198.57042 \n",
       "L 173.524808 187.581918 \n",
       "L 174.147229 197.78692 \n",
       "L 174.769649 191.005396 \n",
       "L 175.39207 189.908109 \n",
       "L 176.01449 201.343033 \n",
       "L 176.636911 178.232935 \n",
       "L 177.259331 193.239397 \n",
       "L 177.881752 188.673878 \n",
       "L 178.504172 194.559206 \n",
       "L 179.126593 190.734481 \n",
       "L 179.749014 192.822447 \n",
       "L 180.371434 191.616681 \n",
       "L 180.993855 199.042026 \n",
       "L 181.616275 191.008625 \n",
       "L 182.238696 204.494228 \n",
       "L 182.861116 191.13871 \n",
       "L 183.483537 193.953433 \n",
       "L 184.105957 190.437189 \n",
       "L 184.728378 192.203419 \n",
       "L 185.350798 196.408465 \n",
       "L 185.973219 192.644401 \n",
       "L 186.595639 185.609804 \n",
       "L 187.21806 180.379548 \n",
       "L 188.462901 189.278942 \n",
       "L 189.707742 193.361224 \n",
       "L 190.330162 183.974275 \n",
       "L 190.952583 184.321421 \n",
       "L 191.575003 182.729401 \n",
       "L 192.197424 195.187366 \n",
       "L 192.819845 181.808895 \n",
       "L 193.442265 191.240978 \n",
       "L 194.064686 189.066035 \n",
       "L 194.687106 187.430022 \n",
       "L 195.931947 173.095363 \n",
       "L 197.176788 187.900075 \n",
       "L 197.799209 185.146703 \n",
       "L 198.421629 195.707786 \n",
       "L 199.04405 187.663218 \n",
       "L 199.66647 174.387715 \n",
       "L 200.288891 174.930081 \n",
       "L 200.911311 181.742722 \n",
       "L 201.533732 193.449815 \n",
       "L 202.156152 171.953117 \n",
       "L 202.778573 174.81538 \n",
       "L 203.400993 184.325658 \n",
       "L 204.023414 183.575311 \n",
       "L 204.645834 186.797245 \n",
       "L 205.268255 188.50736 \n",
       "L 205.890676 186.507357 \n",
       "L 206.513096 186.904491 \n",
       "L 207.135517 183.255971 \n",
       "L 207.757937 186.120785 \n",
       "L 208.380358 186.098789 \n",
       "L 209.002778 173.066426 \n",
       "L 209.625199 183.526064 \n",
       "L 210.247619 188.029111 \n",
       "L 210.87004 191.443026 \n",
       "L 211.49246 187.7413 \n",
       "L 212.114881 192.254908 \n",
       "L 212.737301 174.790741 \n",
       "L 213.359722 179.734811 \n",
       "L 213.982142 172.875577 \n",
       "L 214.604563 188.150208 \n",
       "L 215.226983 175.422696 \n",
       "L 215.849404 182.216014 \n",
       "L 216.471824 184.378309 \n",
       "L 217.094245 180.959098 \n",
       "L 217.716666 190.593167 \n",
       "L 218.339086 190.048786 \n",
       "L 218.961507 179.434835 \n",
       "L 219.583927 161.337315 \n",
       "L 220.206348 186.01176 \n",
       "L 220.828768 181.372839 \n",
       "L 222.073609 170.306544 \n",
       "L 222.69603 179.544939 \n",
       "L 223.31845 164.207147 \n",
       "L 223.940871 167.744966 \n",
       "L 224.563291 186.260299 \n",
       "L 225.185712 179.874799 \n",
       "L 225.808132 179.386699 \n",
       "L 226.430553 168.912705 \n",
       "L 227.052973 177.976674 \n",
       "L 227.675394 177.142939 \n",
       "L 228.297814 159.057513 \n",
       "L 229.542655 182.132729 \n",
       "L 230.165076 184.842572 \n",
       "L 230.787497 188.185696 \n",
       "L 231.409917 171.660946 \n",
       "L 232.032338 183.843563 \n",
       "L 232.654758 181.943947 \n",
       "L 233.277179 184.052758 \n",
       "L 233.899599 181.692004 \n",
       "L 234.52202 175.908482 \n",
       "L 235.14444 179.989273 \n",
       "L 235.766861 175.484355 \n",
       "L 236.389281 162.345117 \n",
       "L 237.011702 177.613177 \n",
       "L 237.634122 173.900808 \n",
       "L 238.256543 174.767295 \n",
       "L 238.878963 186.851912 \n",
       "L 239.501384 177.016238 \n",
       "L 240.123804 182.429857 \n",
       "L 240.746225 168.7975 \n",
       "L 241.368645 172.980354 \n",
       "L 241.991066 179.621406 \n",
       "L 242.613486 180.458668 \n",
       "L 243.235907 177.554212 \n",
       "L 243.858328 166.167312 \n",
       "L 244.480748 178.169456 \n",
       "L 245.103169 176.425838 \n",
       "L 245.725589 178.343749 \n",
       "L 246.34801 186.314513 \n",
       "L 246.97043 175.73568 \n",
       "L 247.592851 178.398672 \n",
       "L 248.215271 165.992731 \n",
       "L 248.837692 180.924597 \n",
       "L 249.460112 161.42276 \n",
       "L 250.704953 174.728609 \n",
       "L 251.327374 171.928087 \n",
       "L 251.949794 171.744601 \n",
       "L 252.572215 168.946177 \n",
       "L 253.194635 180.061823 \n",
       "L 253.817056 160.590897 \n",
       "L 254.439476 169.663329 \n",
       "L 255.061897 174.752282 \n",
       "L 255.684317 173.383472 \n",
       "L 256.306738 170.019638 \n",
       "L 256.929159 174.036209 \n",
       "L 257.551579 169.947418 \n",
       "L 258.174 174.368208 \n",
       "L 258.79642 155.910092 \n",
       "L 259.418841 181.121431 \n",
       "L 260.041261 162.524716 \n",
       "L 260.663682 165.979579 \n",
       "L 261.286102 172.09766 \n",
       "L 261.908523 165.443219 \n",
       "L 262.530943 169.307967 \n",
       "L 263.153364 177.434545 \n",
       "L 263.775784 174.058555 \n",
       "L 264.398205 169.701676 \n",
       "L 265.020625 171.373166 \n",
       "L 265.643046 176.681298 \n",
       "L 266.887887 174.233588 \n",
       "L 267.510307 178.119633 \n",
       "L 268.132728 164.328501 \n",
       "L 268.755148 168.186483 \n",
       "L 269.377569 168.9198 \n",
       "L 269.99999 172.728 \n",
       "L 270.62241 171.917228 \n",
       "L 271.244831 155.518007 \n",
       "L 271.867251 168.69732 \n",
       "L 272.489672 179.198636 \n",
       "L 273.112092 165.787568 \n",
       "L 273.734513 181.725569 \n",
       "L 274.356933 163.683683 \n",
       "L 274.979354 167.989371 \n",
       "L 275.601774 175.169684 \n",
       "L 276.224195 166.790063 \n",
       "L 276.846615 170.969996 \n",
       "L 277.469036 171.042 \n",
       "L 278.091456 154.89755 \n",
       "L 278.713877 180.510034 \n",
       "L 279.336297 168.052696 \n",
       "L 279.958718 179.580376 \n",
       "L 280.581138 179.126211 \n",
       "L 281.203559 175.226581 \n",
       "L 281.82598 174.855506 \n",
       "L 282.4484 151.617298 \n",
       "L 283.070821 162.230035 \n",
       "L 283.693241 170.847212 \n",
       "L 284.315662 169.563601 \n",
       "L 284.938082 167.534599 \n",
       "L 285.560503 166.596931 \n",
       "L 286.182923 174.453056 \n",
       "L 287.427764 163.849862 \n",
       "L 288.050185 156.566736 \n",
       "L 288.672605 172.870353 \n",
       "L 289.917446 164.084477 \n",
       "L 290.539867 165.929797 \n",
       "L 291.162287 171.632255 \n",
       "L 291.784708 162.222128 \n",
       "L 292.407128 165.425912 \n",
       "L 293.029549 170.230334 \n",
       "L 293.651969 161.37739 \n",
       "L 294.27439 171.332639 \n",
       "L 294.896811 160.11742 \n",
       "L 295.519231 175.582047 \n",
       "L 296.141652 162.20844 \n",
       "L 296.764072 175.78646 \n",
       "L 297.386493 163.238176 \n",
       "L 298.008913 175.878948 \n",
       "L 298.631334 157.784822 \n",
       "L 299.253754 171.999012 \n",
       "L 299.876175 172.788384 \n",
       "L 300.498595 174.030327 \n",
       "L 301.121016 157.541147 \n",
       "L 301.743436 172.507617 \n",
       "L 302.365857 170.04369 \n",
       "L 302.988277 161.690128 \n",
       "L 303.610698 150.432479 \n",
       "L 304.233118 161.746542 \n",
       "L 304.855539 164.316531 \n",
       "L 305.477959 159.305928 \n",
       "L 306.10038 162.258716 \n",
       "L 306.7228 168.035801 \n",
       "L 307.345221 169.149757 \n",
       "L 307.967642 175.228916 \n",
       "L 308.590062 167.008358 \n",
       "L 309.212483 160.511211 \n",
       "L 309.834903 170.181652 \n",
       "L 310.457324 168.999229 \n",
       "L 311.079744 159.878804 \n",
       "L 311.702165 157.39102 \n",
       "L 312.324585 160.997872 \n",
       "L 312.947006 157.877403 \n",
       "L 313.569426 169.66336 \n",
       "L 314.191847 170.082942 \n",
       "L 314.814267 167.613319 \n",
       "L 315.436688 161.970977 \n",
       "L 316.059108 170.096855 \n",
       "L 317.303949 165.739894 \n",
       "L 317.92637 164.253032 \n",
       "L 318.54879 165.033776 \n",
       "L 319.171211 144.034608 \n",
       "L 319.793631 165.475786 \n",
       "L 320.416052 146.789461 \n",
       "L 321.038473 168.564458 \n",
       "L 321.660893 158.217186 \n",
       "L 322.283314 160.069592 \n",
       "L 322.905734 156.557872 \n",
       "L 323.528155 172.369254 \n",
       "L 324.150575 169.585052 \n",
       "L 324.772996 153.477622 \n",
       "L 325.395416 158.639596 \n",
       "L 326.017837 160.349371 \n",
       "L 326.640257 162.629113 \n",
       "L 327.262678 169.651544 \n",
       "L 327.885098 170.048133 \n",
       "L 328.507519 164.404238 \n",
       "L 329.129939 166.071851 \n",
       "L 329.75236 158.216024 \n",
       "L 330.37478 153.311412 \n",
       "L 330.997201 141.98577 \n",
       "L 331.619621 159.316818 \n",
       "L 332.242042 163.283855 \n",
       "L 332.864462 157.934373 \n",
       "L 333.486883 154.839181 \n",
       "L 334.109304 152.504352 \n",
       "L 334.731724 171.067935 \n",
       "L 335.354145 162.260197 \n",
       "L 335.976565 158.597424 \n",
       "L 336.598986 149.384809 \n",
       "L 337.221406 160.305801 \n",
       "L 337.843827 161.148009 \n",
       "L 338.466247 170.521713 \n",
       "L 339.088668 166.191807 \n",
       "L 339.711088 155.046031 \n",
       "L 340.333509 145.973774 \n",
       "L 340.955929 162.744122 \n",
       "L 341.57835 161.869614 \n",
       "L 342.20077 161.318404 \n",
       "L 343.445611 153.645724 \n",
       "L 344.068032 157.980957 \n",
       "L 344.690452 159.804291 \n",
       "L 345.312873 167.8097 \n",
       "L 345.935294 159.64785 \n",
       "L 346.557714 159.692079 \n",
       "L 347.180135 164.378108 \n",
       "L 347.802555 154.859059 \n",
       "L 348.424976 158.252705 \n",
       "L 349.047396 156.8982 \n",
       "L 349.669817 159.541078 \n",
       "L 350.292237 154.249327 \n",
       "L 350.914658 160.284679 \n",
       "L 351.537078 153.382192 \n",
       "L 352.159499 161.312707 \n",
       "L 352.781919 155.913434 \n",
       "L 353.40434 161.580939 \n",
       "L 354.02676 150.815792 \n",
       "L 354.649181 152.983568 \n",
       "L 355.271601 163.232952 \n",
       "L 355.894022 161.14404 \n",
       "L 356.516442 143.814091 \n",
       "L 357.138863 160.978529 \n",
       "L 357.761283 156.564505 \n",
       "L 358.383704 150.49893 \n",
       "L 359.006125 160.401961 \n",
       "L 359.628545 151.863184 \n",
       "L 360.250966 157.075259 \n",
       "L 361.495807 150.789209 \n",
       "L 362.118227 158.880022 \n",
       "L 362.740648 161.753648 \n",
       "L 363.363068 162.658266 \n",
       "L 363.363068 162.658266 \n",
       "\" style=\"fill:none;stroke:#1f77b4;stroke-linecap:square;stroke-width:1.5;\"/>\n",
       "   </g>\n",
       "   <g id=\"patch_3\">\n",
       "    <path d=\"M 43.78125 224.64 \n",
       "L 43.78125 7.2 \n",
       "\" style=\"fill:none;stroke:#000000;stroke-linecap:square;stroke-linejoin:miter;stroke-width:0.8;\"/>\n",
       "   </g>\n",
       "   <g id=\"patch_4\">\n",
       "    <path d=\"M 378.58125 224.64 \n",
       "L 378.58125 7.2 \n",
       "\" style=\"fill:none;stroke:#000000;stroke-linecap:square;stroke-linejoin:miter;stroke-width:0.8;\"/>\n",
       "   </g>\n",
       "   <g id=\"patch_5\">\n",
       "    <path d=\"M 43.78125 224.64 \n",
       "L 378.58125 224.64 \n",
       "\" style=\"fill:none;stroke:#000000;stroke-linecap:square;stroke-linejoin:miter;stroke-width:0.8;\"/>\n",
       "   </g>\n",
       "   <g id=\"patch_6\">\n",
       "    <path d=\"M 43.78125 7.2 \n",
       "L 378.58125 7.2 \n",
       "\" style=\"fill:none;stroke:#000000;stroke-linecap:square;stroke-linejoin:miter;stroke-width:0.8;\"/>\n",
       "   </g>\n",
       "  </g>\n",
       " </g>\n",
       " <defs>\n",
       "  <clipPath id=\"p2135834311\">\n",
       "   <rect height=\"217.44\" width=\"334.8\" x=\"43.78125\" y=\"7.2\"/>\n",
       "  </clipPath>\n",
       " </defs>\n",
       "</svg>\n"
      ],
      "text/plain": [
       "<Figure size 432x288 with 1 Axes>"
      ]
     },
     "metadata": {
      "needs_background": "light"
     },
     "output_type": "display_data"
    },
    {
     "name": "stdout",
     "output_type": "stream",
     "text": [
      "time: 423 ms (started: 2021-07-24 15:39:29 +08:00)\n"
     ]
    }
   ],
   "source": [
    "truncated_mae_history = average_mae_history[10:]\n",
    "plt.plot(range(1, len(truncated_mae_history) + 1), truncated_mae_history)\n",
    "plt.xlabel(\"Epochs\")\n",
    "plt.ylabel(\"Validation MAE\")\n",
    "plt.show()"
   ]
  },
  {
   "cell_type": "markdown",
   "id": "instructional-upset",
   "metadata": {},
   "source": [
    "根据此图，验证 MAE 在 120-140 个 epoch 后停止显着提高（这个数字包括我们省略的 10 个 epoch）。 过了那个点，你开始过度拟合。\n",
    "\n",
    "完成模型的其他参数调整后（除了 epoch 数，您还可以调整中间层的大小），您可以在所有训练数据上使用最佳参数训练最终生产模型 ，然后看它在测试数据上的表现。"
   ]
  },
  {
   "cell_type": "code",
   "execution_count": 30,
   "id": "ultimate-forwarding",
   "metadata": {},
   "outputs": [
    {
     "name": "stdout",
     "output_type": "stream",
     "text": [
      "4/4 [==============================] - 0s 8ms/step - loss: 17.1650 - mae: 2.8036\n",
      "time: 27.7 s (started: 2021-07-24 15:38:04 +08:00)\n"
     ]
    }
   ],
   "source": [
    "model = build_model()\n",
    "\n",
    "model.fit(train_data, train_targets, epochs=130, batch_size=16, verbose=0)\n",
    "\n",
    "test_mse_score, test_mae_score = model.evaluate(test_data, test_targets)"
   ]
  },
  {
   "cell_type": "markdown",
   "id": "electronic-rochester",
   "metadata": {},
   "source": [
    "这是最终结果："
   ]
  },
  {
   "cell_type": "code",
   "execution_count": 34,
   "id": "quarterly-color",
   "metadata": {},
   "outputs": [
    {
     "data": {
      "text/plain": [
       "2.803586721420288"
      ]
     },
     "execution_count": 34,
     "metadata": {},
     "output_type": "execute_result"
    },
    {
     "name": "stdout",
     "output_type": "stream",
     "text": [
      "time: 2.51 ms (started: 2021-07-24 15:42:34 +08:00)\n"
     ]
    }
   ],
   "source": [
    "test_mae_score"
   ]
  },
  {
   "cell_type": "markdown",
   "id": "supreme-worse",
   "metadata": {},
   "source": [
    "你仍然低了大约 2500 美元。"
   ]
  },
  {
   "cell_type": "markdown",
   "id": "unavailable-device",
   "metadata": {},
   "source": [
    "### 生成对新数据的预测"
   ]
  },
  {
   "cell_type": "markdown",
   "id": "blond-architecture",
   "metadata": {},
   "source": [
    "在我们的二元分类模型上调用 predict() 时，我们为每个输入样本检索了 0 到 1 之间的标量分数。 使用我们的多类分类模型，我们为每个样本检索了所有类的概率分布。 现在，使用这个标量回归模型， predict() 返回模型对样本价格的数千美元的猜测："
   ]
  },
  {
   "cell_type": "code",
   "execution_count": 36,
   "id": "suburban-india",
   "metadata": {},
   "outputs": [
    {
     "name": "stdout",
     "output_type": "stream",
     "text": [
      "time: 143 ms (started: 2021-07-24 15:45:26 +08:00)\n"
     ]
    }
   ],
   "source": [
    "predictions = model.predict(test_data)"
   ]
  },
  {
   "cell_type": "code",
   "execution_count": 37,
   "id": "informational-lexington",
   "metadata": {},
   "outputs": [
    {
     "data": {
      "text/plain": [
       "array([8.6478815], dtype=float32)"
      ]
     },
     "execution_count": 37,
     "metadata": {},
     "output_type": "execute_result"
    },
    {
     "name": "stdout",
     "output_type": "stream",
     "text": [
      "time: 2.42 ms (started: 2021-07-24 15:45:33 +08:00)\n"
     ]
    }
   ],
   "source": [
    "predictions[0]"
   ]
  },
  {
   "cell_type": "markdown",
   "id": "integral-poison",
   "metadata": {},
   "source": [
    "测试集中的第一栋房子的价格预计约为 10,000 美元。"
   ]
  },
  {
   "cell_type": "markdown",
   "id": "surprised-genome",
   "metadata": {},
   "source": [
    "### 尝试使用autokeras"
   ]
  },
  {
   "cell_type": "code",
   "execution_count": 9,
   "id": "marine-accreditation",
   "metadata": {},
   "outputs": [
    {
     "name": "stdout",
     "output_type": "stream",
     "text": [
      "time: 3.66 s (started: 2021-07-25 12:40:00 +08:00)\n"
     ]
    }
   ],
   "source": [
    "import autokeras as ak"
   ]
  },
  {
   "cell_type": "code",
   "execution_count": 4,
   "id": "agricultural-termination",
   "metadata": {},
   "outputs": [
    {
     "name": "stdout",
     "output_type": "stream",
     "text": [
      "time: 5.99 ms (started: 2021-07-25 12:37:50 +08:00)\n"
     ]
    }
   ],
   "source": [
    "from tensorflow.keras.datasets import boston_housing\n",
    "\n",
    "(train_data, train_targets), (test_data, test_targets) = boston_housing.load_data()"
   ]
  },
  {
   "cell_type": "code",
   "execution_count": 6,
   "id": "early-sandwich",
   "metadata": {},
   "outputs": [
    {
     "data": {
      "text/plain": [
       "(404, 13)"
      ]
     },
     "execution_count": 6,
     "metadata": {},
     "output_type": "execute_result"
    },
    {
     "name": "stdout",
     "output_type": "stream",
     "text": [
      "time: 3.76 ms (started: 2021-07-25 12:39:07 +08:00)\n"
     ]
    }
   ],
   "source": [
    "train_data.shape"
   ]
  },
  {
   "cell_type": "code",
   "execution_count": 12,
   "id": "arbitrary-sydney",
   "metadata": {},
   "outputs": [
    {
     "data": {
      "text/plain": [
       "(404,)"
      ]
     },
     "execution_count": 12,
     "metadata": {},
     "output_type": "execute_result"
    },
    {
     "name": "stdout",
     "output_type": "stream",
     "text": [
      "time: 2.41 ms (started: 2021-07-25 12:41:54 +08:00)\n"
     ]
    }
   ],
   "source": [
    "train_targets.shape"
   ]
  },
  {
   "cell_type": "code",
   "execution_count": 29,
   "id": "backed-memorial",
   "metadata": {},
   "outputs": [
    {
     "data": {
      "text/plain": [
       "['BinaryCrossentropy',\n",
       " 'CategoricalCrossentropy',\n",
       " 'CategoricalHinge',\n",
       " 'CosineSimilarity',\n",
       " 'Hinge',\n",
       " 'Huber',\n",
       " 'KLD',\n",
       " 'KLDivergence',\n",
       " 'LogCosh',\n",
       " 'Loss',\n",
       " 'MAE',\n",
       " 'MAPE',\n",
       " 'MSE',\n",
       " 'MSLE',\n",
       " 'MeanAbsoluteError',\n",
       " 'MeanAbsolutePercentageError',\n",
       " 'MeanSquaredError',\n",
       " 'MeanSquaredLogarithmicError',\n",
       " 'Poisson',\n",
       " 'Reduction',\n",
       " 'SparseCategoricalCrossentropy',\n",
       " 'SquaredHinge',\n",
       " '__builtins__',\n",
       " '__cached__',\n",
       " '__doc__',\n",
       " '__file__',\n",
       " '__loader__',\n",
       " '__name__',\n",
       " '__package__',\n",
       " '__path__',\n",
       " '__spec__',\n",
       " '_sys',\n",
       " 'binary_crossentropy',\n",
       " 'categorical_crossentropy',\n",
       " 'categorical_hinge',\n",
       " 'cosine_similarity',\n",
       " 'deserialize',\n",
       " 'get',\n",
       " 'hinge',\n",
       " 'huber',\n",
       " 'kl_divergence',\n",
       " 'kld',\n",
       " 'kullback_leibler_divergence',\n",
       " 'log_cosh',\n",
       " 'logcosh',\n",
       " 'mae',\n",
       " 'mape',\n",
       " 'mean_absolute_error',\n",
       " 'mean_absolute_percentage_error',\n",
       " 'mean_squared_error',\n",
       " 'mean_squared_logarithmic_error',\n",
       " 'mse',\n",
       " 'msle',\n",
       " 'poisson',\n",
       " 'serialize',\n",
       " 'sparse_categorical_crossentropy',\n",
       " 'squared_hinge']"
      ]
     },
     "execution_count": 29,
     "metadata": {},
     "output_type": "execute_result"
    },
    {
     "name": "stdout",
     "output_type": "stream",
     "text": [
      "time: 4.52 ms (started: 2021-07-25 13:20:12 +08:00)\n"
     ]
    }
   ],
   "source": [
    "dir(tf.keras.losses)"
   ]
  },
  {
   "cell_type": "code",
   "execution_count": 33,
   "id": "municipal-lover",
   "metadata": {},
   "outputs": [
    {
     "name": "stdout",
     "output_type": "stream",
     "text": [
      "time: 11 ms (started: 2021-07-25 13:22:14 +08:00)\n"
     ]
    }
   ],
   "source": [
    "# Initialize the structured data regressor.\n",
    "reg = ak.StructuredDataRegressor(\n",
    "    overwrite=True, max_trials=5, loss=\"mse\", metrics=\"mae\"\n",
    ")  # It tries 3 different models."
   ]
  },
  {
   "cell_type": "code",
   "execution_count": 34,
   "id": "corporate-somerset",
   "metadata": {},
   "outputs": [
    {
     "name": "stdout",
     "output_type": "stream",
     "text": [
      "Trial 5 Complete [00h 00m 53s]\n",
      "val_loss: 7.9547929763793945\n",
      "\n",
      "Best val_loss So Far: 5.462915897369385\n",
      "Total elapsed time: 00h 06m 25s\n",
      "INFO:tensorflow:Oracle triggered exit\n",
      "Epoch 1/250\n",
      "13/13 [==============================] - 1s 17ms/step - loss: 574.1790 - mae: 22.0731\n",
      "Epoch 2/250\n",
      "13/13 [==============================] - 0s 16ms/step - loss: 540.6957 - mae: 21.3892 0s - loss: 512.0692 - mae: 20.\n",
      "Epoch 3/250\n",
      "13/13 [==============================] - 0s 16ms/step - loss: 504.0912 - mae: 20.6075\n",
      "Epoch 4/250\n",
      "13/13 [==============================] - 0s 16ms/step - loss: 460.4326 - mae: 19.6278\n",
      "Epoch 5/250\n",
      "13/13 [==============================] - 0s 16ms/step - loss: 407.4809 - mae: 18.3676\n",
      "Epoch 6/250\n",
      "13/13 [==============================] - 0s 15ms/step - loss: 344.5948 - mae: 16.7594\n",
      "Epoch 7/250\n",
      "13/13 [==============================] - 0s 15ms/step - loss: 273.5533 - mae: 14.7213\n",
      "Epoch 8/250\n",
      "13/13 [==============================] - 0s 15ms/step - loss: 201.5718 - mae: 12.2677\n",
      "Epoch 9/250\n",
      "13/13 [==============================] - 0s 15ms/step - loss: 140.2464 - mae: 9.7691\n",
      "Epoch 10/250\n",
      "13/13 [==============================] - 0s 16ms/step - loss: 98.5851 - mae: 7.9096\n",
      "Epoch 11/250\n",
      "13/13 [==============================] - 0s 16ms/step - loss: 75.3013 - mae: 6.7353\n",
      "Epoch 12/250\n",
      "13/13 [==============================] - 0s 16ms/step - loss: 61.6399 - mae: 5.9617\n",
      "Epoch 13/250\n",
      "13/13 [==============================] - 0s 16ms/step - loss: 51.7789 - mae: 5.3724\n",
      "Epoch 14/250\n",
      "13/13 [==============================] - 0s 16ms/step - loss: 44.3387 - mae: 4.8957\n",
      "Epoch 15/250\n",
      "13/13 [==============================] - 0s 17ms/step - loss: 38.7797 - mae: 4.5327\n",
      "Epoch 16/250\n",
      "13/13 [==============================] - 0s 19ms/step - loss: 34.5528 - mae: 4.2456\n",
      "Epoch 17/250\n",
      "13/13 [==============================] - 0s 15ms/step - loss: 31.2995 - mae: 4.0244\n",
      "Epoch 18/250\n",
      "13/13 [==============================] - 0s 15ms/step - loss: 28.7739 - mae: 3.8510\n",
      "Epoch 19/250\n",
      "13/13 [==============================] - 0s 15ms/step - loss: 26.7646 - mae: 3.7076\n",
      "Epoch 20/250\n",
      "13/13 [==============================] - 0s 16ms/step - loss: 25.1207 - mae: 3.5832\n",
      "Epoch 21/250\n",
      "13/13 [==============================] - 0s 15ms/step - loss: 23.7575 - mae: 3.4762\n",
      "Epoch 22/250\n",
      "13/13 [==============================] - 0s 16ms/step - loss: 22.6025 - mae: 3.3830\n",
      "Epoch 23/250\n",
      "13/13 [==============================] - 0s 15ms/step - loss: 21.6045 - mae: 3.3018\n",
      "Epoch 24/250\n",
      "13/13 [==============================] - 0s 15ms/step - loss: 20.7322 - mae: 3.2275\n",
      "Epoch 25/250\n",
      "13/13 [==============================] - 0s 16ms/step - loss: 19.9671 - mae: 3.1614\n",
      "Epoch 26/250\n",
      "13/13 [==============================] - 0s 16ms/step - loss: 19.2826 - mae: 3.1007\n",
      "Epoch 27/250\n",
      "13/13 [==============================] - 0s 16ms/step - loss: 18.6650 - mae: 3.0445\n",
      "Epoch 28/250\n",
      "13/13 [==============================] - 0s 16ms/step - loss: 18.1125 - mae: 2.9966\n",
      "Epoch 29/250\n",
      "13/13 [==============================] - 0s 15ms/step - loss: 17.6089 - mae: 2.9536\n",
      "Epoch 30/250\n",
      "13/13 [==============================] - 0s 16ms/step - loss: 17.1505 - mae: 2.9137\n",
      "Epoch 31/250\n",
      "13/13 [==============================] - 0s 15ms/step - loss: 16.7290 - mae: 2.8747\n",
      "Epoch 32/250\n",
      "13/13 [==============================] - 0s 16ms/step - loss: 16.3396 - mae: 2.8382\n",
      "Epoch 33/250\n",
      "13/13 [==============================] - 0s 15ms/step - loss: 15.9708 - mae: 2.8045\n",
      "Epoch 34/250\n",
      "13/13 [==============================] - 0s 15ms/step - loss: 15.6226 - mae: 2.7734\n",
      "Epoch 35/250\n",
      "13/13 [==============================] - 0s 15ms/step - loss: 15.2963 - mae: 2.7443\n",
      "Epoch 36/250\n",
      "13/13 [==============================] - 0s 15ms/step - loss: 14.9904 - mae: 2.7175\n",
      "Epoch 37/250\n",
      "13/13 [==============================] - 0s 17ms/step - loss: 14.7014 - mae: 2.6924\n",
      "Epoch 38/250\n",
      "13/13 [==============================] - 0s 17ms/step - loss: 14.4272 - mae: 2.6676\n",
      "Epoch 39/250\n",
      "13/13 [==============================] - 0s 15ms/step - loss: 14.1633 - mae: 2.6444\n",
      "Epoch 40/250\n",
      "13/13 [==============================] - 0s 15ms/step - loss: 13.9071 - mae: 2.6219\n",
      "Epoch 41/250\n",
      "13/13 [==============================] - 0s 17ms/step - loss: 13.6559 - mae: 2.6004\n",
      "Epoch 42/250\n",
      "13/13 [==============================] - 0s 16ms/step - loss: 13.4127 - mae: 2.5798\n",
      "Epoch 43/250\n",
      "13/13 [==============================] - 0s 17ms/step - loss: 13.1825 - mae: 2.5606\n",
      "Epoch 44/250\n",
      "13/13 [==============================] - 0s 15ms/step - loss: 12.9712 - mae: 2.5425\n",
      "Epoch 45/250\n",
      "13/13 [==============================] - 0s 16ms/step - loss: 12.7698 - mae: 2.5259\n",
      "Epoch 46/250\n",
      "13/13 [==============================] - 0s 16ms/step - loss: 12.5819 - mae: 2.5095\n",
      "Epoch 47/250\n",
      "13/13 [==============================] - 0s 16ms/step - loss: 12.3980 - mae: 2.4923\n",
      "Epoch 48/250\n",
      "13/13 [==============================] - 0s 17ms/step - loss: 12.2215 - mae: 2.4757\n",
      "Epoch 49/250\n",
      "13/13 [==============================] - 0s 16ms/step - loss: 12.0508 - mae: 2.4594\n",
      "Epoch 50/250\n",
      "13/13 [==============================] - 0s 17ms/step - loss: 11.8903 - mae: 2.4449\n",
      "Epoch 51/250\n",
      "13/13 [==============================] - 0s 16ms/step - loss: 11.7373 - mae: 2.4310\n",
      "Epoch 52/250\n",
      "13/13 [==============================] - 0s 17ms/step - loss: 11.5917 - mae: 2.4171\n",
      "Epoch 53/250\n",
      "13/13 [==============================] - 0s 16ms/step - loss: 11.4542 - mae: 2.4048\n",
      "Epoch 54/250\n",
      "13/13 [==============================] - 0s 18ms/step - loss: 11.3226 - mae: 2.3932\n",
      "Epoch 55/250\n",
      "13/13 [==============================] - 0s 16ms/step - loss: 11.1997 - mae: 2.3817\n",
      "Epoch 56/250\n",
      "13/13 [==============================] - 0s 15ms/step - loss: 11.0806 - mae: 2.3709\n",
      "Epoch 57/250\n",
      "13/13 [==============================] - 0s 15ms/step - loss: 10.9685 - mae: 2.3607\n",
      "Epoch 58/250\n",
      "13/13 [==============================] - 0s 15ms/step - loss: 10.8606 - mae: 2.3504\n",
      "Epoch 59/250\n",
      "13/13 [==============================] - 0s 15ms/step - loss: 10.7530 - mae: 2.3407\n",
      "Epoch 60/250\n",
      "13/13 [==============================] - 0s 15ms/step - loss: 10.6517 - mae: 2.3321\n",
      "Epoch 61/250\n",
      "13/13 [==============================] - 0s 15ms/step - loss: 10.5566 - mae: 2.3235\n",
      "Epoch 62/250\n",
      "13/13 [==============================] - 0s 15ms/step - loss: 10.4628 - mae: 2.3157\n",
      "Epoch 63/250\n",
      "13/13 [==============================] - 0s 15ms/step - loss: 10.3775 - mae: 2.3078\n",
      "Epoch 64/250\n",
      "13/13 [==============================] - 0s 16ms/step - loss: 10.2883 - mae: 2.2997\n",
      "Epoch 65/250\n",
      "13/13 [==============================] - 0s 16ms/step - loss: 10.2029 - mae: 2.2923\n",
      "Epoch 66/250\n",
      "13/13 [==============================] - 0s 16ms/step - loss: 10.1250 - mae: 2.2844\n",
      "Epoch 67/250\n",
      "13/13 [==============================] - 0s 16ms/step - loss: 10.0473 - mae: 2.2773\n",
      "Epoch 68/250\n",
      "13/13 [==============================] - 0s 16ms/step - loss: 9.9740 - mae: 2.2705\n",
      "Epoch 69/250\n",
      "13/13 [==============================] - 0s 17ms/step - loss: 9.9033 - mae: 2.2636\n",
      "Epoch 70/250\n",
      "13/13 [==============================] - 0s 17ms/step - loss: 9.8367 - mae: 2.2563\n",
      "Epoch 71/250\n",
      "13/13 [==============================] - 0s 16ms/step - loss: 9.7696 - mae: 2.2494\n",
      "Epoch 72/250\n",
      "13/13 [==============================] - 0s 15ms/step - loss: 9.7074 - mae: 2.2424\n",
      "Epoch 73/250\n",
      "13/13 [==============================] - 0s 15ms/step - loss: 9.6469 - mae: 2.2355\n",
      "Epoch 74/250\n",
      "13/13 [==============================] - 0s 15ms/step - loss: 9.5860 - mae: 2.2281\n",
      "Epoch 75/250\n",
      "13/13 [==============================] - 0s 15ms/step - loss: 9.5288 - mae: 2.2211\n",
      "Epoch 76/250\n",
      "13/13 [==============================] - 0s 15ms/step - loss: 9.4722 - mae: 2.2139\n",
      "Epoch 77/250\n",
      "13/13 [==============================] - 0s 21ms/step - loss: 9.4168 - mae: 2.2074\n",
      "Epoch 78/250\n",
      "13/13 [==============================] - 0s 16ms/step - loss: 9.3638 - mae: 2.2012\n",
      "Epoch 79/250\n",
      "13/13 [==============================] - 0s 15ms/step - loss: 9.3135 - mae: 2.1948\n",
      "Epoch 80/250\n",
      "13/13 [==============================] - 0s 16ms/step - loss: 9.2634 - mae: 2.1875\n",
      "Epoch 81/250\n",
      "13/13 [==============================] - 0s 15ms/step - loss: 9.2138 - mae: 2.1820\n",
      "Epoch 82/250\n",
      "13/13 [==============================] - 0s 15ms/step - loss: 9.1658 - mae: 2.1751\n",
      "Epoch 83/250\n",
      "13/13 [==============================] - 0s 16ms/step - loss: 9.1196 - mae: 2.1695\n",
      "Epoch 84/250\n",
      "13/13 [==============================] - 0s 15ms/step - loss: 9.0734 - mae: 2.1626\n",
      "Epoch 85/250\n",
      "13/13 [==============================] - 0s 15ms/step - loss: 9.0254 - mae: 2.1566\n",
      "Epoch 86/250\n",
      "13/13 [==============================] - 0s 16ms/step - loss: 8.9841 - mae: 2.1508\n",
      "Epoch 87/250\n",
      "13/13 [==============================] - 0s 15ms/step - loss: 8.9381 - mae: 2.1450\n",
      "Epoch 88/250\n",
      "13/13 [==============================] - 0s 15ms/step - loss: 8.9010 - mae: 2.1402\n",
      "Epoch 89/250\n",
      "13/13 [==============================] - 0s 16ms/step - loss: 8.8587 - mae: 2.1341\n",
      "Epoch 90/250\n",
      "13/13 [==============================] - 0s 15ms/step - loss: 8.8146 - mae: 2.1289\n",
      "Epoch 91/250\n",
      "13/13 [==============================] - 0s 15ms/step - loss: 8.7725 - mae: 2.1229\n",
      "Epoch 92/250\n",
      "13/13 [==============================] - 0s 16ms/step - loss: 8.7262 - mae: 2.1171\n",
      "Epoch 93/250\n",
      "13/13 [==============================] - 0s 16ms/step - loss: 8.6843 - mae: 2.1114\n",
      "Epoch 94/250\n",
      "13/13 [==============================] - 0s 15ms/step - loss: 8.6394 - mae: 2.1049\n",
      "Epoch 95/250\n",
      "13/13 [==============================] - 0s 16ms/step - loss: 8.5987 - mae: 2.0993\n",
      "Epoch 96/250\n",
      "13/13 [==============================] - 0s 16ms/step - loss: 8.5586 - mae: 2.0934\n",
      "Epoch 97/250\n",
      "13/13 [==============================] - 0s 17ms/step - loss: 8.5192 - mae: 2.0884\n",
      "Epoch 98/250\n",
      "13/13 [==============================] - 0s 16ms/step - loss: 8.4836 - mae: 2.0834\n",
      "Epoch 99/250\n",
      "13/13 [==============================] - 0s 15ms/step - loss: 8.4461 - mae: 2.0782\n",
      "Epoch 100/250\n",
      "13/13 [==============================] - 0s 15ms/step - loss: 8.4134 - mae: 2.0738\n",
      "Epoch 101/250\n",
      "13/13 [==============================] - 0s 15ms/step - loss: 8.3783 - mae: 2.0686\n",
      "Epoch 102/250\n",
      "13/13 [==============================] - 0s 15ms/step - loss: 8.3421 - mae: 2.0639\n",
      "Epoch 103/250\n",
      "13/13 [==============================] - 0s 15ms/step - loss: 8.3126 - mae: 2.0594\n",
      "Epoch 104/250\n",
      "13/13 [==============================] - 0s 16ms/step - loss: 8.2794 - mae: 2.0551\n",
      "Epoch 105/250\n",
      "13/13 [==============================] - 0s 15ms/step - loss: 8.2502 - mae: 2.0506\n",
      "Epoch 106/250\n",
      "13/13 [==============================] - 0s 16ms/step - loss: 8.2172 - mae: 2.0464\n",
      "Epoch 107/250\n",
      "13/13 [==============================] - 0s 16ms/step - loss: 8.1914 - mae: 2.0422\n",
      "Epoch 108/250\n",
      "13/13 [==============================] - 0s 16ms/step - loss: 8.1595 - mae: 2.0376\n",
      "Epoch 109/250\n",
      "13/13 [==============================] - 0s 16ms/step - loss: 8.1344 - mae: 2.0344\n",
      "Epoch 110/250\n",
      "13/13 [==============================] - 0s 17ms/step - loss: 8.1029 - mae: 2.0302\n",
      "Epoch 111/250\n",
      "13/13 [==============================] - 0s 16ms/step - loss: 8.0716 - mae: 2.0267\n",
      "Epoch 112/250\n",
      "13/13 [==============================] - 0s 17ms/step - loss: 8.0391 - mae: 2.0231\n",
      "Epoch 113/250\n",
      "13/13 [==============================] - 0s 16ms/step - loss: 8.0042 - mae: 2.0192\n",
      "Epoch 114/250\n",
      "13/13 [==============================] - 0s 16ms/step - loss: 7.9732 - mae: 2.0158\n",
      "Epoch 115/250\n",
      "13/13 [==============================] - 0s 17ms/step - loss: 7.9386 - mae: 2.0113\n",
      "Epoch 116/250\n",
      "13/13 [==============================] - 0s 16ms/step - loss: 7.9048 - mae: 2.0071\n",
      "Epoch 117/250\n",
      "13/13 [==============================] - 0s 15ms/step - loss: 7.8725 - mae: 2.0029\n",
      "Epoch 118/250\n",
      "13/13 [==============================] - 0s 15ms/step - loss: 7.8405 - mae: 1.9991\n",
      "Epoch 119/250\n",
      "13/13 [==============================] - 0s 16ms/step - loss: 7.8088 - mae: 1.9950\n",
      "Epoch 120/250\n",
      "13/13 [==============================] - 0s 16ms/step - loss: 7.7805 - mae: 1.9919\n",
      "Epoch 121/250\n",
      "13/13 [==============================] - 0s 16ms/step - loss: 7.7503 - mae: 1.9880\n",
      "Epoch 122/250\n",
      "13/13 [==============================] - 0s 17ms/step - loss: 7.7221 - mae: 1.9846\n",
      "Epoch 123/250\n",
      "13/13 [==============================] - 0s 16ms/step - loss: 7.6920 - mae: 1.9808\n",
      "Epoch 124/250\n",
      "13/13 [==============================] - 0s 15ms/step - loss: 7.6680 - mae: 1.9779\n",
      "Epoch 125/250\n",
      "13/13 [==============================] - 0s 16ms/step - loss: 7.6436 - mae: 1.9747\n",
      "Epoch 126/250\n",
      "13/13 [==============================] - 0s 17ms/step - loss: 7.6172 - mae: 1.9708\n",
      "Epoch 127/250\n",
      "13/13 [==============================] - 0s 15ms/step - loss: 7.5908 - mae: 1.9674\n",
      "Epoch 128/250\n",
      "13/13 [==============================] - 0s 16ms/step - loss: 7.5663 - mae: 1.9637\n",
      "Epoch 129/250\n",
      "13/13 [==============================] - 0s 16ms/step - loss: 7.5438 - mae: 1.9613\n",
      "Epoch 130/250\n",
      "13/13 [==============================] - 0s 16ms/step - loss: 7.5173 - mae: 1.9572\n",
      "Epoch 131/250\n",
      "13/13 [==============================] - 0s 16ms/step - loss: 7.4960 - mae: 1.9549\n",
      "Epoch 132/250\n",
      "13/13 [==============================] - 0s 16ms/step - loss: 7.4720 - mae: 1.9512\n",
      "Epoch 133/250\n",
      "13/13 [==============================] - 0s 16ms/step - loss: 7.4483 - mae: 1.9475\n",
      "Epoch 134/250\n",
      "13/13 [==============================] - 0s 15ms/step - loss: 7.4255 - mae: 1.9447\n",
      "Epoch 135/250\n",
      "13/13 [==============================] - 0s 16ms/step - loss: 7.4047 - mae: 1.9416\n",
      "Epoch 136/250\n",
      "13/13 [==============================] - 0s 18ms/step - loss: 7.3806 - mae: 1.9380\n",
      "Epoch 137/250\n",
      "13/13 [==============================] - 0s 16ms/step - loss: 7.3613 - mae: 1.9357\n",
      "Epoch 138/250\n",
      "13/13 [==============================] - 0s 17ms/step - loss: 7.3358 - mae: 1.9318\n",
      "Epoch 139/250\n",
      "13/13 [==============================] - 0s 17ms/step - loss: 7.3168 - mae: 1.9290\n",
      "Epoch 140/250\n",
      "13/13 [==============================] - 0s 17ms/step - loss: 7.2939 - mae: 1.9259\n",
      "Epoch 141/250\n",
      "13/13 [==============================] - 0s 17ms/step - loss: 7.2698 - mae: 1.9217\n",
      "Epoch 142/250\n",
      "13/13 [==============================] - 0s 15ms/step - loss: 7.2487 - mae: 1.9194\n",
      "Epoch 143/250\n",
      "13/13 [==============================] - 0s 16ms/step - loss: 7.2232 - mae: 1.9151\n",
      "Epoch 144/250\n",
      "13/13 [==============================] - 0s 16ms/step - loss: 7.2018 - mae: 1.9127\n",
      "Epoch 145/250\n",
      "13/13 [==============================] - 0s 16ms/step - loss: 7.1801 - mae: 1.9086\n",
      "Epoch 146/250\n",
      "13/13 [==============================] - 0s 16ms/step - loss: 7.1524 - mae: 1.9052\n",
      "Epoch 147/250\n",
      "13/13 [==============================] - 0s 15ms/step - loss: 7.1260 - mae: 1.9009\n",
      "Epoch 148/250\n",
      "13/13 [==============================] - 0s 16ms/step - loss: 7.1034 - mae: 1.8977\n",
      "Epoch 149/250\n",
      "13/13 [==============================] - 0s 16ms/step - loss: 7.0732 - mae: 1.8933\n",
      "Epoch 150/250\n",
      "13/13 [==============================] - 0s 16ms/step - loss: 7.0542 - mae: 1.8907\n",
      "Epoch 151/250\n",
      "13/13 [==============================] - 0s 16ms/step - loss: 7.0279 - mae: 1.8866\n",
      "Epoch 152/250\n",
      "13/13 [==============================] - 0s 16ms/step - loss: 7.0052 - mae: 1.8836\n",
      "Epoch 153/250\n",
      "13/13 [==============================] - 0s 17ms/step - loss: 6.9821 - mae: 1.8803\n",
      "Epoch 154/250\n",
      "13/13 [==============================] - 0s 16ms/step - loss: 6.9558 - mae: 1.8766\n",
      "Epoch 155/250\n",
      "13/13 [==============================] - 0s 15ms/step - loss: 6.9376 - mae: 1.8739\n",
      "Epoch 156/250\n",
      "13/13 [==============================] - 0s 15ms/step - loss: 6.9110 - mae: 1.8708\n",
      "Epoch 157/250\n",
      "13/13 [==============================] - 0s 15ms/step - loss: 6.8856 - mae: 1.8667\n",
      "Epoch 158/250\n",
      "13/13 [==============================] - 0s 15ms/step - loss: 6.8669 - mae: 1.8648\n",
      "Epoch 159/250\n",
      "13/13 [==============================] - 0s 15ms/step - loss: 6.8437 - mae: 1.8612\n",
      "Epoch 160/250\n",
      "13/13 [==============================] - 0s 16ms/step - loss: 6.8198 - mae: 1.8582\n",
      "Epoch 161/250\n",
      "13/13 [==============================] - 0s 15ms/step - loss: 6.7975 - mae: 1.8550\n",
      "Epoch 162/250\n",
      "13/13 [==============================] - 0s 15ms/step - loss: 6.7803 - mae: 1.8526\n",
      "Epoch 163/250\n",
      "13/13 [==============================] - 0s 16ms/step - loss: 6.7537 - mae: 1.8488\n",
      "Epoch 164/250\n",
      "13/13 [==============================] - 0s 16ms/step - loss: 6.7302 - mae: 1.8459\n",
      "Epoch 165/250\n",
      "13/13 [==============================] - 0s 16ms/step - loss: 6.7131 - mae: 1.8439\n",
      "Epoch 166/250\n",
      "13/13 [==============================] - 0s 17ms/step - loss: 6.6895 - mae: 1.8403\n",
      "Epoch 167/250\n",
      "13/13 [==============================] - 0s 16ms/step - loss: 6.6695 - mae: 1.8379\n",
      "Epoch 168/250\n",
      "13/13 [==============================] - 0s 16ms/step - loss: 6.6484 - mae: 1.8349\n",
      "Epoch 169/250\n",
      "13/13 [==============================] - 0s 16ms/step - loss: 6.6290 - mae: 1.8323\n",
      "Epoch 170/250\n",
      "13/13 [==============================] - 0s 15ms/step - loss: 6.6062 - mae: 1.8294\n",
      "Epoch 171/250\n",
      "13/13 [==============================] - 0s 15ms/step - loss: 6.5905 - mae: 1.8271\n",
      "Epoch 172/250\n",
      "13/13 [==============================] - 0s 17ms/step - loss: 6.5648 - mae: 1.8225\n",
      "Epoch 173/250\n",
      "13/13 [==============================] - 0s 15ms/step - loss: 6.5476 - mae: 1.8204\n",
      "Epoch 174/250\n",
      "13/13 [==============================] - 0s 15ms/step - loss: 6.5253 - mae: 1.8175\n",
      "Epoch 175/250\n",
      "13/13 [==============================] - 0s 17ms/step - loss: 6.5034 - mae: 1.8151\n",
      "Epoch 176/250\n",
      "13/13 [==============================] - 0s 15ms/step - loss: 6.4838 - mae: 1.8124\n",
      "Epoch 177/250\n",
      "13/13 [==============================] - 0s 15ms/step - loss: 6.4623 - mae: 1.8093\n",
      "Epoch 178/250\n",
      "13/13 [==============================] - 0s 15ms/step - loss: 6.4430 - mae: 1.8069\n",
      "Epoch 179/250\n",
      "13/13 [==============================] - 0s 16ms/step - loss: 6.4251 - mae: 1.8044\n",
      "Epoch 180/250\n",
      "13/13 [==============================] - 0s 15ms/step - loss: 6.3987 - mae: 1.8004\n",
      "Epoch 181/250\n",
      "13/13 [==============================] - 0s 15ms/step - loss: 6.3867 - mae: 1.7986\n",
      "Epoch 182/250\n",
      "13/13 [==============================] - 0s 15ms/step - loss: 6.3644 - mae: 1.7955\n",
      "Epoch 183/250\n",
      "13/13 [==============================] - 0s 15ms/step - loss: 6.3453 - mae: 1.7924\n",
      "Epoch 184/250\n",
      "13/13 [==============================] - 0s 15ms/step - loss: 6.3268 - mae: 1.7906\n",
      "Epoch 185/250\n",
      "13/13 [==============================] - 0s 16ms/step - loss: 6.3085 - mae: 1.7880\n",
      "Epoch 186/250\n",
      "13/13 [==============================] - 0s 16ms/step - loss: 6.2862 - mae: 1.7845\n",
      "Epoch 187/250\n",
      "13/13 [==============================] - 0s 15ms/step - loss: 6.2670 - mae: 1.7820\n",
      "Epoch 188/250\n",
      "13/13 [==============================] - 0s 17ms/step - loss: 6.2453 - mae: 1.7785: 0s - loss: 5.2762 - mae: 1.73\n",
      "Epoch 189/250\n",
      "13/13 [==============================] - 0s 15ms/step - loss: 6.2277 - mae: 1.7765\n",
      "Epoch 190/250\n",
      "13/13 [==============================] - 0s 17ms/step - loss: 6.2052 - mae: 1.7729\n",
      "Epoch 191/250\n",
      "13/13 [==============================] - 0s 17ms/step - loss: 6.1904 - mae: 1.7711\n",
      "Epoch 192/250\n",
      "13/13 [==============================] - 0s 15ms/step - loss: 6.1657 - mae: 1.7668\n",
      "Epoch 193/250\n",
      "13/13 [==============================] - 0s 16ms/step - loss: 6.1534 - mae: 1.7659\n",
      "Epoch 194/250\n",
      "13/13 [==============================] - 0s 15ms/step - loss: 6.1336 - mae: 1.7627\n",
      "Epoch 195/250\n",
      "13/13 [==============================] - 0s 15ms/step - loss: 6.1136 - mae: 1.7600\n",
      "Epoch 196/250\n",
      "13/13 [==============================] - 0s 15ms/step - loss: 6.0941 - mae: 1.7571\n",
      "Epoch 197/250\n",
      "13/13 [==============================] - 0s 15ms/step - loss: 6.0745 - mae: 1.7542\n",
      "Epoch 198/250\n",
      "13/13 [==============================] - 0s 15ms/step - loss: 6.0612 - mae: 1.7522\n",
      "Epoch 199/250\n",
      "13/13 [==============================] - 0s 16ms/step - loss: 6.0384 - mae: 1.7479\n",
      "Epoch 200/250\n",
      "13/13 [==============================] - 0s 16ms/step - loss: 6.0200 - mae: 1.7444\n",
      "Epoch 201/250\n",
      "13/13 [==============================] - 0s 16ms/step - loss: 5.9982 - mae: 1.7415\n",
      "Epoch 202/250\n",
      "13/13 [==============================] - 0s 17ms/step - loss: 5.9864 - mae: 1.7406\n",
      "Epoch 203/250\n",
      "13/13 [==============================] - 0s 17ms/step - loss: 5.9636 - mae: 1.7370\n",
      "Epoch 204/250\n",
      "13/13 [==============================] - 0s 15ms/step - loss: 5.9441 - mae: 1.7343\n",
      "Epoch 205/250\n",
      "13/13 [==============================] - 0s 16ms/step - loss: 5.9284 - mae: 1.7318\n",
      "Epoch 206/250\n",
      "13/13 [==============================] - 0s 16ms/step - loss: 5.9119 - mae: 1.7305\n",
      "Epoch 207/250\n",
      "13/13 [==============================] - 0s 15ms/step - loss: 5.8934 - mae: 1.7273\n",
      "Epoch 208/250\n",
      "13/13 [==============================] - 0s 16ms/step - loss: 5.8730 - mae: 1.7243\n",
      "Epoch 209/250\n",
      "13/13 [==============================] - 0s 16ms/step - loss: 5.8610 - mae: 1.7229\n",
      "Epoch 210/250\n",
      "13/13 [==============================] - 0s 17ms/step - loss: 5.8403 - mae: 1.7192\n",
      "Epoch 211/250\n",
      "13/13 [==============================] - 0s 18ms/step - loss: 5.8221 - mae: 1.7175\n",
      "Epoch 212/250\n",
      "13/13 [==============================] - 0s 16ms/step - loss: 5.8045 - mae: 1.7155\n",
      "Epoch 213/250\n",
      "13/13 [==============================] - 0s 16ms/step - loss: 5.7891 - mae: 1.7136\n",
      "Epoch 214/250\n",
      "13/13 [==============================] - 0s 15ms/step - loss: 5.7648 - mae: 1.7094\n",
      "Epoch 215/250\n",
      "13/13 [==============================] - 0s 16ms/step - loss: 5.7479 - mae: 1.7081\n",
      "Epoch 216/250\n",
      "13/13 [==============================] - 0s 16ms/step - loss: 5.7362 - mae: 1.7064\n",
      "Epoch 217/250\n",
      "13/13 [==============================] - 0s 20ms/step - loss: 5.7095 - mae: 1.7019\n",
      "Epoch 218/250\n",
      "13/13 [==============================] - 0s 17ms/step - loss: 5.6967 - mae: 1.7020\n",
      "Epoch 219/250\n",
      "13/13 [==============================] - 0s 17ms/step - loss: 5.6759 - mae: 1.6990\n",
      "Epoch 220/250\n",
      "13/13 [==============================] - 0s 15ms/step - loss: 5.6690 - mae: 1.6964\n",
      "Epoch 221/250\n",
      "13/13 [==============================] - 0s 16ms/step - loss: 5.6430 - mae: 1.6919\n",
      "Epoch 222/250\n",
      "13/13 [==============================] - 0s 15ms/step - loss: 5.6269 - mae: 1.6914\n",
      "Epoch 223/250\n",
      "13/13 [==============================] - 0s 15ms/step - loss: 5.6142 - mae: 1.6897\n",
      "Epoch 224/250\n",
      "13/13 [==============================] - 0s 16ms/step - loss: 5.5914 - mae: 1.6854\n",
      "Epoch 225/250\n",
      "13/13 [==============================] - 0s 15ms/step - loss: 5.5793 - mae: 1.6844\n",
      "Epoch 226/250\n",
      "13/13 [==============================] - 0s 15ms/step - loss: 5.5599 - mae: 1.6813\n",
      "Epoch 227/250\n",
      "13/13 [==============================] - 0s 15ms/step - loss: 5.5435 - mae: 1.6787\n",
      "Epoch 228/250\n",
      "13/13 [==============================] - 0s 17ms/step - loss: 5.5285 - mae: 1.6774\n",
      "Epoch 229/250\n",
      "13/13 [==============================] - 0s 17ms/step - loss: 5.5080 - mae: 1.6744\n",
      "Epoch 230/250\n",
      "13/13 [==============================] - 0s 19ms/step - loss: 5.4943 - mae: 1.6718\n",
      "Epoch 231/250\n",
      "13/13 [==============================] - 0s 17ms/step - loss: 5.4738 - mae: 1.6692\n",
      "Epoch 232/250\n",
      "13/13 [==============================] - 0s 16ms/step - loss: 5.4622 - mae: 1.6669\n",
      "Epoch 233/250\n",
      "13/13 [==============================] - 0s 17ms/step - loss: 5.4412 - mae: 1.6645\n",
      "Epoch 234/250\n",
      "13/13 [==============================] - 0s 16ms/step - loss: 5.4296 - mae: 1.6630\n",
      "Epoch 235/250\n",
      "13/13 [==============================] - 0s 16ms/step - loss: 5.4022 - mae: 1.6572\n",
      "Epoch 236/250\n",
      "13/13 [==============================] - 0s 17ms/step - loss: 5.3929 - mae: 1.6562\n",
      "Epoch 237/250\n",
      "13/13 [==============================] - 0s 16ms/step - loss: 5.3697 - mae: 1.6530\n",
      "Epoch 238/250\n",
      "13/13 [==============================] - 0s 16ms/step - loss: 5.3556 - mae: 1.6513\n",
      "Epoch 239/250\n",
      "13/13 [==============================] - 0s 16ms/step - loss: 5.3340 - mae: 1.6482\n",
      "Epoch 240/250\n",
      "13/13 [==============================] - 0s 16ms/step - loss: 5.3178 - mae: 1.6461\n",
      "Epoch 241/250\n",
      "13/13 [==============================] - 0s 18ms/step - loss: 5.2970 - mae: 1.6418\n",
      "Epoch 242/250\n",
      "13/13 [==============================] - 0s 16ms/step - loss: 5.2793 - mae: 1.6401\n",
      "Epoch 243/250\n",
      "13/13 [==============================] - 0s 15ms/step - loss: 5.2668 - mae: 1.6396\n",
      "Epoch 244/250\n",
      "13/13 [==============================] - 0s 16ms/step - loss: 5.2523 - mae: 1.6360\n",
      "Epoch 245/250\n",
      "13/13 [==============================] - 0s 15ms/step - loss: 5.2303 - mae: 1.6340\n",
      "Epoch 246/250\n",
      "13/13 [==============================] - 0s 16ms/step - loss: 5.2166 - mae: 1.6328\n",
      "Epoch 247/250\n",
      "13/13 [==============================] - 0s 17ms/step - loss: 5.1971 - mae: 1.6292\n",
      "Epoch 248/250\n",
      "13/13 [==============================] - 0s 16ms/step - loss: 5.1831 - mae: 1.6278\n",
      "Epoch 249/250\n",
      "13/13 [==============================] - 0s 15ms/step - loss: 5.1642 - mae: 1.6256\n",
      "Epoch 250/250\n",
      "13/13 [==============================] - 0s 15ms/step - loss: 5.1515 - mae: 1.6247\n",
      "INFO:tensorflow:Assets written to: ./structured_data_regressor/best_model/assets\n",
      "time: 7min 41s (started: 2021-07-25 13:22:17 +08:00)\n"
     ]
    }
   ],
   "source": [
    "reg.fit(x=train_data, y = train_targets)"
   ]
  },
  {
   "cell_type": "code",
   "execution_count": 35,
   "id": "thrown-mount",
   "metadata": {},
   "outputs": [
    {
     "name": "stdout",
     "output_type": "stream",
     "text": [
      "Model: \"model\"\n",
      "_________________________________________________________________\n",
      "Layer (type)                 Output Shape              Param #   \n",
      "=================================================================\n",
      "input_1 (InputLayer)         [(None, 13)]              0         \n",
      "_________________________________________________________________\n",
      "multi_category_encoding (Mul (None, 13)                0         \n",
      "_________________________________________________________________\n",
      "normalization (Normalization (None, 13)                27        \n",
      "_________________________________________________________________\n",
      "dense (Dense)                (None, 32)                448       \n",
      "_________________________________________________________________\n",
      "re_lu (ReLU)                 (None, 32)                0         \n",
      "_________________________________________________________________\n",
      "dense_1 (Dense)              (None, 32)                1056      \n",
      "_________________________________________________________________\n",
      "re_lu_1 (ReLU)               (None, 32)                0         \n",
      "_________________________________________________________________\n",
      "regression_head_1 (Dense)    (None, 1)                 33        \n",
      "=================================================================\n",
      "Total params: 1,564\n",
      "Trainable params: 1,537\n",
      "Non-trainable params: 27\n",
      "_________________________________________________________________\n",
      "time: 941 ms (started: 2021-07-25 13:52:32 +08:00)\n"
     ]
    }
   ],
   "source": [
    "model = reg.export_model()\n",
    "model.summary()"
   ]
  },
  {
   "cell_type": "code",
   "execution_count": 24,
   "id": "stuffed-negotiation",
   "metadata": {},
   "outputs": [
    {
     "name": "stdout",
     "output_type": "stream",
     "text": [
      "time: 480 µs (started: 2021-07-25 13:16:47 +08:00)\n"
     ]
    }
   ],
   "source": [
    "from tensorflow.keras.utils import plot_model"
   ]
  },
  {
   "cell_type": "code",
   "execution_count": 36,
   "id": "collectible-bloom",
   "metadata": {},
   "outputs": [
    {
     "data": {
      "image/png": "[encoded data removed]",
      "text/plain": [
       "<IPython.core.display.Image object>"
      ]
     },
     "execution_count": 36,
     "metadata": {},
     "output_type": "execute_result"
    },
    {
     "name": "stdout",
     "output_type": "stream",
     "text": [
      "time: 456 ms (started: 2021-07-25 13:52:50 +08:00)\n"
     ]
    }
   ],
   "source": [
    "plot_model(model, show_dtype=True, show_shapes=True)"
   ]
  },
  {
   "cell_type": "markdown",
   "id": "spread-monthly",
   "metadata": {},
   "source": [
    "### 总结"
   ]
  },
  {
   "cell_type": "markdown",
   "id": "attempted-memphis",
   "metadata": {},
   "source": [
    "以下是您应该从这个标量回归示例中获得的信息：\n",
    "* 回归使用与我们用于分类的损失函数不同的损失函数完成。均方误差 (MSE) 是通常用于回归的损失函数。\n",
    "* 同样，用于回归的评估指标与用于分类的评估指标不同； 自然，准确率的概念不适用于回归。 一个常见的回归指标是平均绝对误差 (MAE)。\n",
    "* 当输入数据中的特征具有不同范围的值时，每个特征都应作为预处理步骤独立缩放。\n",
    "* 当可用数据很少时，使用 K 折验证是可靠评估模型的好方法。\n",
    "* 当可用的训练数据很少时，最好使用中间层很少（通常只有一两个）的小模型，以避免严重的过拟合。"
   ]
  },
  {
   "cell_type": "markdown",
   "id": "wooden-strength",
   "metadata": {},
   "source": [
    "## 本章总结"
   ]
  },
  {
   "cell_type": "markdown",
   "id": "essential-emission",
   "metadata": {},
   "source": [
    "* 矢量数据上三种最常见的机器学习任务是二元分类、多类分类和标量回归。\n",
    "    - 本章前面的“总结”部分总结了您在每项任务中学到的要点。\n",
    "    - 回归使用与分类不同的损失函数和不同的评估指标。\n",
    "* 在将原始数据输入神经网络之前，您通常需要对其进行预处理。\n",
    "* 当您的数据具有不同范围的特征时，作为预处理的一部分，独立缩放每个特征。\n",
    "* 随着训练的进行，神经网络最终开始过度拟合并在从未见过的数据上获得更糟糕的结果。\n",
    "* 如果你的训练数据不多，请使用只有一两个中间层的小模型，以避免严重的过拟合。\n",
    "* 如果你的数据被分成很多类别，中间层太小可能会造成信息瓶颈。\n",
    "* 当您处理少量数据时，K 折验证可以帮助可靠地评估您的模型。"
   ]
  },
  {
   "cell_type": "code",
   "execution_count": null,
   "id": "horizontal-speaking",
   "metadata": {},
   "outputs": [],
   "source": []
  }
 ],
 "metadata": {
  "kernelspec": {
   "display_name": "Python [conda env:tensorflow]",
   "language": "python",
   "name": "conda-env-tensorflow-py"
  },
  "language_info": {
   "codemirror_mode": {
    "name": "ipython",
    "version": 3
   },
   "file_extension": ".py",
   "mimetype": "text/x-python",
   "name": "python",
   "nbconvert_exporter": "python",
   "pygments_lexer": "ipython3",
   "version": "3.8.10"
  },
  "toc-showcode": false,
  "toc-showmarkdowntxt": false
 },
 "nbformat": 4,
 "nbformat_minor": 5
}
